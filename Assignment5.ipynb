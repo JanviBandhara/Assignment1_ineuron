{
 "cells": [
  {
   "cell_type": "code",
   "execution_count": null,
   "id": "7675edd8",
   "metadata": {
    "scrolled": true
   },
   "outputs": [],
   "source": [
    "# 1. What does an empty dictionary's code look like?\n",
    "-> d = {}"
   ]
  },
  {
   "cell_type": "code",
   "execution_count": null,
   "id": "0259cd51",
   "metadata": {
    "scrolled": true
   },
   "outputs": [],
   "source": [
    "# 2. What is the value of a dictionary value with the key \"foo\" and the value 42? \n",
    "-> d = {'foo' : 42}"
   ]
  },
  {
   "cell_type": "code",
   "execution_count": null,
   "id": "c23a66f4",
   "metadata": {
    "scrolled": true
   },
   "outputs": [],
   "source": [
    "# 3. What is the most significant distinction between a dictionary and a list?\n",
    "-> Dictionary store the data in key-value pair while list doesn't have key-value pair, it only stores values/data."
   ]
  },
  {
   "cell_type": "code",
   "execution_count": null,
   "id": "d5b9bf55",
   "metadata": {
    "scrolled": true
   },
   "outputs": [],
   "source": [
    "# 4. What happens if you try to access spam['foo'] if spam is {\"bar\" : 100}?\n",
    "spam = {\"bar\" : 100}\n",
    "spam['foo']\n",
    "-> It will give an keyError because the key is not in the dictionary."
   ]
  },
  {
   "cell_type": "code",
   "execution_count": null,
   "id": "a1ce1c7e",
   "metadata": {
    "scrolled": false
   },
   "outputs": [],
   "source": [
    "# 5. If a dictionary is stored in spam, what is the difference between the expressions \"cat\" in spam and \"cat\" in spam.keys()?\n",
    "-> There will be no difference, because in operator checks the value in key only!\n",
    "-> 'cat' in spam will check the cat value as a key and 'cat' in spam.key() will do the same thing!"
   ]
  },
  {
   "cell_type": "code",
   "execution_count": null,
   "id": "eaf2a6eb",
   "metadata": {
    "scrolled": true
   },
   "outputs": [],
   "source": [
    "# 6. If a dictionary is stored in spam, what is the difference between the expressions \"cat\" in spam and \"cat\" in spam.values()?\n",
    "-> 'cat' in spam will check the cat value as a key while 'cat' in spam.values() will check the cat value as a value."
   ]
  },
  {
   "cell_type": "code",
   "execution_count": null,
   "id": "31d31621",
   "metadata": {
    "scrolled": true
   },
   "outputs": [],
   "source": [
    "# 7. What is a shortcut for the following code?\n",
    "if \"color\" not in spam:\n",
    "spam[\"color\"] = \"black\"\n",
    "-> spam.setdefault('color','black')"
   ]
  },
  {
   "cell_type": "code",
   "execution_count": null,
   "id": "342015fd",
   "metadata": {
    "scrolled": true
   },
   "outputs": [],
   "source": [
    "# 8. How do you \"pretty print\" dictionary values using which module and function?\n",
    "-> pprint module and pprint() function"
   ]
  }
 ],
 "metadata": {
  "kernelspec": {
   "display_name": "Python 3 (ipykernel)",
   "language": "python",
   "name": "python3"
  },
  "language_info": {
   "codemirror_mode": {
    "name": "ipython",
    "version": 3
   },
   "file_extension": ".py",
   "mimetype": "text/x-python",
   "name": "python",
   "nbconvert_exporter": "python",
   "pygments_lexer": "ipython3",
   "version": "3.9.7"
  }
 },
 "nbformat": 4,
 "nbformat_minor": 5
}
