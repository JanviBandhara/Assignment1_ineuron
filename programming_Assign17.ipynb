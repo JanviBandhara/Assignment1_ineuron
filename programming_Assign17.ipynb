{
 "cells": [
  {
   "cell_type": "markdown",
   "id": "acdf18d0",
   "metadata": {},
   "source": [
    "## Question1. \n",
    "Create a function that takes three arguments a, b, c and returns the sum of the\n",
    "numbers that are evenly divided by c from the range a, b inclusive.\n",
    "### Examples\n",
    "* evenly_divisible(1, 10, 20) ➞ 0\n",
    "No number between 1 and 10 can be evenly divided by 20.\n",
    "* evenly_divisible(1, 10, 2) ➞ 30\n",
    "2 + 4 + 6 + 8 + 10 = 30\n",
    "* evenly_divisible(1, 10, 3) ➞ 18\n",
    "3 + 6 + 9 = 18"
   ]
  },
  {
   "cell_type": "code",
   "execution_count": 1,
   "id": "682d253e",
   "metadata": {},
   "outputs": [
    {
     "data": {
      "text/plain": [
       "30"
      ]
     },
     "execution_count": 1,
     "metadata": {},
     "output_type": "execute_result"
    }
   ],
   "source": [
    "class even_Divide:\n",
    "    def evenly_divisible(self,a,b,c):\n",
    "        try :\n",
    "            l = [i for i in range(a,b+1)]\n",
    "            total = 0\n",
    "            even = [total+i for i in l if i%c==0]\n",
    "            if sum(even) % c == 0:\n",
    "                return sum(even)\n",
    "            else :\n",
    "                return f'0 No number between {a} and {b} can be evenly divided by {c}.'\n",
    "        except Exception as e:\n",
    "            print('Error :- ',e)\n",
    "        \n",
    "obj = even_Divide()\n",
    "obj.evenly_divisible(1,10,2)"
   ]
  },
  {
   "cell_type": "markdown",
   "id": "fb20ddbd",
   "metadata": {},
   "source": [
    "## Question2. \n",
    "Create a function that returns True if a given inequality expression is correct and False otherwise.\n",
    "### Examples\n",
    "* correct_signs(&quot;3 &lt; 7 &lt; 11&quot;) ➞ True\n",
    "* correct_signs(&quot;13 &gt; 44 &gt; 33 &gt; 1&quot;) ➞ False\n",
    "* correct_signs(&quot;1 &lt; 2 &lt; 6 &lt; 9 &gt; 3&quot;) ➞ True"
   ]
  },
  {
   "cell_type": "code",
   "execution_count": 2,
   "id": "b560f410",
   "metadata": {},
   "outputs": [
    {
     "data": {
      "text/plain": [
       "False"
      ]
     },
     "execution_count": 2,
     "metadata": {},
     "output_type": "execute_result"
    }
   ],
   "source": [
    "class Expression_evaluation:\n",
    "    def correct_signs(self,a):\n",
    "        try :\n",
    "            return eval(a)\n",
    "        except Exception as e:\n",
    "            print('Error :- ',e)\n",
    "    \n",
    "obj = Expression_evaluation()\n",
    "obj.correct_signs(\"13 > 44 > 33 > 1\")"
   ]
  },
  {
   "cell_type": "markdown",
   "id": "b95972d0",
   "metadata": {},
   "source": [
    "## Question3. \n",
    "Create a function that replaces all the vowels in a string with a specified character.\n",
    "### Examples\n",
    "* replace_vowels(&quot;the aardvark&quot;, &quot;#&quot;) ➞ &quot;th# ##rdv#rk&quot;\n",
    "* replace_vowels(&quot;minnie mouse&quot;, &quot;?&quot;) ➞ &quot;m?nn?? m??s?&quot;\n",
    "* replace_vowels(&quot;shakespeare&quot;, &quot;*&quot;) ➞ &quot;sh*k*sp**r*&quot;"
   ]
  },
  {
   "cell_type": "code",
   "execution_count": 3,
   "id": "695e90bf",
   "metadata": {},
   "outputs": [
    {
     "data": {
      "text/plain": [
       "'m?nn?? m??s?'"
      ]
     },
     "execution_count": 3,
     "metadata": {},
     "output_type": "execute_result"
    }
   ],
   "source": [
    "class vowel_remove:\n",
    "    def replace_vowels(self,word,replace_word):\n",
    "        try : \n",
    "            for i in word:\n",
    "                if i == 'a' or i == 'e' or i == 'i' or i == 'o' or i == 'u':\n",
    "                    word = word.replace(i,replace_word)\n",
    "            return word\n",
    "        except Exception as e:\n",
    "            print('Error :- ',e)\n",
    "    \n",
    "obj = vowel_remove()\n",
    "obj.replace_vowels(\"minnie mouse\",'?')"
   ]
  },
  {
   "cell_type": "markdown",
   "id": "45771e57",
   "metadata": {},
   "source": [
    "## Question4. \n",
    "Write a function that calculates the factorial of a number recursively.\n",
    "### Examples\n",
    "* factorial(5) ➞ 120\n",
    "* factorial(3) ➞ 6\n",
    "* factorial(1) ➞ 1\n",
    "* factorial(0) ➞ 1"
   ]
  },
  {
   "cell_type": "code",
   "execution_count": 4,
   "id": "31c4111a",
   "metadata": {},
   "outputs": [
    {
     "data": {
      "text/plain": [
       "120"
      ]
     },
     "execution_count": 4,
     "metadata": {},
     "output_type": "execute_result"
    }
   ],
   "source": [
    "class fact:\n",
    "    def recursive_fact(self,n):\n",
    "        try : \n",
    "            if n == 1:\n",
    "                return 1\n",
    "            else :\n",
    "                return (n * self.recursive_fact(n-1))            \n",
    "        except Exception as e:\n",
    "            print('Error :- ',e)\n",
    "            \n",
    "obj = fact()\n",
    "obj.recursive_fact(5)"
   ]
  },
  {
   "cell_type": "markdown",
   "id": "1bbe5e0f",
   "metadata": {},
   "source": [
    "## Question 5\n",
    "Hamming distance is the number of characters that differ between two strings.\n",
    "To illustrate:\n",
    "* String1: &quot;abcbba&quot;\n",
    "* String2: &quot;abcbda&quot;\n",
    "###### Hamming Distance: 1 - &quot;b&quot; vs. &quot;d&quot; is the only difference.\n",
    "Create a function that computes the hamming distance between two strings.\n",
    "### Examples\n",
    "* hamming_distance(&quot;abcde&quot;, &quot;bcdef&quot;) ➞ 5\n",
    "* hamming_distance(&quot;abcde&quot;, &quot;abcde&quot;) ➞ 0\n",
    "* hamming_distance(&quot;strong&quot;, &quot;strung&quot;) ➞ 1"
   ]
  },
  {
   "cell_type": "code",
   "execution_count": 5,
   "id": "6249c83b",
   "metadata": {},
   "outputs": [
    {
     "data": {
      "text/plain": [
       "1"
      ]
     },
     "execution_count": 5,
     "metadata": {},
     "output_type": "execute_result"
    }
   ],
   "source": [
    "class hamming:\n",
    "    def hamming_distance(self,str1,str2):\n",
    "        try:\n",
    "            count_letter = 0\n",
    "            for i in range(len(str1)):\n",
    "                if str1[i] != str2[i]:\n",
    "                    count_letter +=1\n",
    "            return count_letter\n",
    "        except Exception as e:\n",
    "            print('Error :- ',e)\n",
    "            \n",
    "obj = hamming()\n",
    "obj.hamming_distance(\"strong\", \"strung\")"
   ]
  },
  {
   "cell_type": "code",
   "execution_count": null,
   "id": "0975e136",
   "metadata": {},
   "outputs": [],
   "source": []
  }
 ],
 "metadata": {
  "kernelspec": {
   "display_name": "Python 3 (ipykernel)",
   "language": "python",
   "name": "python3"
  },
  "language_info": {
   "codemirror_mode": {
    "name": "ipython",
    "version": 3
   },
   "file_extension": ".py",
   "mimetype": "text/x-python",
   "name": "python",
   "nbconvert_exporter": "python",
   "pygments_lexer": "ipython3",
   "version": "3.9.7"
  }
 },
 "nbformat": 4,
 "nbformat_minor": 5
}
