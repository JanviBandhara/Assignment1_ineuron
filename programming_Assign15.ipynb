{
 "cells": [
  {
   "cell_type": "markdown",
   "id": "ad4069e3",
   "metadata": {},
   "source": [
    "## Question 1:\n",
    "Please write a program using generator to print the numbers which can be divisible by 5 and\n",
    "7 between 0 and n in comma separated form while n is input by console.\n",
    "### Example:\n",
    "* If the following n is given as input to the program:\n",
    "100\n",
    "* Then, the output of the program should be:\n",
    "0,35,70"
   ]
  },
  {
   "cell_type": "code",
   "execution_count": 1,
   "id": "06529602",
   "metadata": {},
   "outputs": [
    {
     "name": "stdout",
     "output_type": "stream",
     "text": [
      "Enter Range :- 100\n",
      "0,35,70,"
     ]
    }
   ],
   "source": [
    "class divisibilty:\n",
    "    def divisible(self):\n",
    "        n = int(input('Enter Range :- '))\n",
    "        for i in range(n+1):\n",
    "            if i %5==0 and i%7 == 0:\n",
    "                yield i\n",
    "                \n",
    "obj = divisibilty()\n",
    "for i in obj.divisible():\n",
    "    print(i,end=',')"
   ]
  },
  {
   "cell_type": "markdown",
   "id": "e2eb00bd",
   "metadata": {},
   "source": [
    "## Question 2:\n",
    "Please write a program using generator to print the even numbers between 0 and n in comma\n",
    "separated form while n is input by console.\n",
    "### Example:\n",
    "* If the following n is given as input to the program:\n",
    "10\n",
    "* Then, the output of the program should be:\n",
    "0,2,4,6,8,10"
   ]
  },
  {
   "cell_type": "code",
   "execution_count": 2,
   "id": "93d8a982",
   "metadata": {},
   "outputs": [
    {
     "name": "stdout",
     "output_type": "stream",
     "text": [
      "Enter Range  :- 10\n",
      "0,2,4,6,8,10,"
     ]
    }
   ],
   "source": [
    "class generator_even:\n",
    "    def even_number_generator(self):\n",
    "        range_n = int(input('Enter Range  :- '))\n",
    "        for i in range(range_n+1):\n",
    "            if i%2==0:\n",
    "                yield i\n",
    "                \n",
    "obj = generator_even()\n",
    "for i in obj.even_number_generator():\n",
    "    print(i,end=',')"
   ]
  },
  {
   "cell_type": "markdown",
   "id": "391bec73",
   "metadata": {},
   "source": [
    "## Question 3:\n",
    "The Fibonacci Sequence is computed based on the following formula:\n",
    "f(n)=0 if n=0\n",
    "f(n)=1 if n=1\n",
    "f(n)=f(n-1)+f(n-2) if n&gt;1\n",
    "\n",
    "Please write a program using list comprehension to print the Fibonacci Sequence in comma\n",
    "separated form with a given n input by console.\n",
    "### Example:\n",
    "* If the following n is given as input to the program:\n",
    "7\n",
    "* Then, the output of the program should be:\n",
    "0,1,1,2,3,5,8,13"
   ]
  },
  {
   "cell_type": "code",
   "execution_count": 3,
   "id": "ac628658",
   "metadata": {},
   "outputs": [
    {
     "name": "stdout",
     "output_type": "stream",
     "text": [
      "Range :- 7\n",
      "0,1,1,2,3,5,8,13\n"
     ]
    }
   ],
   "source": [
    "class fibonacci:\n",
    "    def fibo(self):\n",
    "        n = int(input('Range :- '))\n",
    "        f = lambda x: 0 if x == 0 else 1 if x == 1 else f(x-1)+f(x-2)\n",
    "        print(','.join([str(f(x)) for x in range(0, n+1)]))\n",
    "        \n",
    "obj = fibonacci()\n",
    "obj.fibo()        "
   ]
  },
  {
   "cell_type": "markdown",
   "id": "bb6d19f9",
   "metadata": {},
   "source": [
    "## Question 4:\n",
    "Assuming that we have some email addresses in the &quot;username@companyname.com&quot; format,\n",
    "please write program to print the user name of a given email address. Both user names and\n",
    "company names are composed of letters only.\n",
    "### Example:\n",
    "* If the following email address is given as input to the program:\n",
    "john@google.com\n",
    "* Then, the output of the program should be:\n",
    "john"
   ]
  },
  {
   "cell_type": "code",
   "execution_count": 4,
   "id": "9d856ea9",
   "metadata": {},
   "outputs": [
    {
     "data": {
      "text/plain": [
       "'john'"
      ]
     },
     "execution_count": 4,
     "metadata": {},
     "output_type": "execute_result"
    }
   ],
   "source": [
    "class extract_name:\n",
    "    def name_from_gmail(self,mail_id):\n",
    "        l = list(mail_id.split('@'))\n",
    "        return l[0]\n",
    "    \n",
    "obj = extract_name()\n",
    "obj.name_from_gmail('john@google.com')"
   ]
  },
  {
   "cell_type": "markdown",
   "id": "eb992794",
   "metadata": {},
   "source": [
    "## Question 5:\n",
    "Define a class named Shape and its subclass Square. The Square class has an init function\n",
    "which takes a length as argument. Both classes have a area function which can print the area\n",
    "of the shape where Shape&#39;s area is 0 by default."
   ]
  },
  {
   "cell_type": "code",
   "execution_count": 5,
   "id": "0eb48b0a",
   "metadata": {},
   "outputs": [
    {
     "data": {
      "text/plain": [
       "25"
      ]
     },
     "execution_count": 5,
     "metadata": {},
     "output_type": "execute_result"
    }
   ],
   "source": [
    "class Shape():\n",
    "    def __init__(self):\n",
    "        pass\n",
    "\n",
    "    def area(self):\n",
    "        return 0\n",
    "\n",
    "class Square(Shape):\n",
    "    def __init__(self,length = 0):\n",
    "        Shape.__init__(self)\n",
    "        self.length = length\n",
    "\n",
    "    def area(self):\n",
    "        return self.length*self.length\n",
    "    \n",
    "Asqr = Square(5)\n",
    "Asqr.area()"
   ]
  },
  {
   "cell_type": "code",
   "execution_count": 6,
   "id": "46a2c922",
   "metadata": {},
   "outputs": [
    {
     "data": {
      "text/plain": [
       "0"
      ]
     },
     "execution_count": 6,
     "metadata": {},
     "output_type": "execute_result"
    }
   ],
   "source": [
    "Square().area()"
   ]
  },
  {
   "cell_type": "code",
   "execution_count": null,
   "id": "2cdb009d",
   "metadata": {},
   "outputs": [],
   "source": []
  }
 ],
 "metadata": {
  "kernelspec": {
   "display_name": "Python 3 (ipykernel)",
   "language": "python",
   "name": "python3"
  },
  "language_info": {
   "codemirror_mode": {
    "name": "ipython",
    "version": 3
   },
   "file_extension": ".py",
   "mimetype": "text/x-python",
   "name": "python",
   "nbconvert_exporter": "python",
   "pygments_lexer": "ipython3",
   "version": "3.9.7"
  }
 },
 "nbformat": 4,
 "nbformat_minor": 5
}
