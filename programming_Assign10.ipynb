{
 "cells": [
  {
   "cell_type": "code",
   "execution_count": 1,
   "id": "1db7e5de",
   "metadata": {},
   "outputs": [
    {
     "data": {
      "text/plain": [
       "15"
      ]
     },
     "execution_count": 1,
     "metadata": {},
     "output_type": "execute_result"
    }
   ],
   "source": [
    "# 1. Write a Python program to find sum of elements in list?\n",
    "import logging\n",
    "logging.basicConfig(filename='programming_assign10.log',level = logging.DEBUG, format = '%(levelname)s %(name)s %(message)s')\n",
    "\n",
    "class sum_list:\n",
    "    logging.info(\"Into class sum_list.\")\n",
    "    \n",
    "    def sum_elements_list(self,l):\n",
    "        '''This Function will find the sum of elements in list'''\n",
    "        logging.info(f'inside sum_elements_list function. The list entered by user is {l}.')\n",
    "        \n",
    "        total =0\n",
    "        for i in l:\n",
    "            total = total + i\n",
    "        #return sum(l)\n",
    "        logging.info(f'Sum of elements :- {total}')\n",
    "        return total\n",
    "obj = sum_list()\n",
    "obj.sum_elements_list([1,2,3,4,5])"
   ]
  },
  {
   "cell_type": "code",
   "execution_count": 2,
   "id": "8f0ee510",
   "metadata": {},
   "outputs": [
    {
     "data": {
      "text/plain": [
       "120"
      ]
     },
     "execution_count": 2,
     "metadata": {},
     "output_type": "execute_result"
    }
   ],
   "source": [
    "# 2. Write a Python program to Multiply all numbers in the list?\n",
    "import logging\n",
    "logging.basicConfig(filename='programming_assign10.log',level = logging.DEBUG, format = '%(levelname)s %(name)s %(message)s')\n",
    "\n",
    "class multiply_list:\n",
    "    logging.info(\"Into class multiply_list.\")\n",
    "    \n",
    "    def multiply_elements_list(self,l):\n",
    "        '''This Function will Multiply all numbers in the list'''\n",
    "        logging.info(f'Inside multiply_elements_list function. The list Entered by user is {l}.')\n",
    "        \n",
    "        multiply = 1\n",
    "        for i in l:\n",
    "            multiply = multiply*i\n",
    "        logging.info(f'Multiplication of all elements :- {multiply}')\n",
    "        return multiply\n",
    "obj = multiply_list()\n",
    "obj.multiply_elements_list([1,2,3,4,5])"
   ]
  },
  {
   "cell_type": "code",
   "execution_count": 3,
   "id": "fdb1f331",
   "metadata": {},
   "outputs": [
    {
     "data": {
      "text/plain": [
       "12"
      ]
     },
     "execution_count": 3,
     "metadata": {},
     "output_type": "execute_result"
    }
   ],
   "source": [
    "# 3. Write a Python program to find smallest number in a list?\n",
    "import logging\n",
    "logging.basicConfig(filename='programming_assign10.log',level = logging.DEBUG, format = '%(levelname)s %(name)s %(message)s')\n",
    "\n",
    "class small_num:\n",
    "    logging.info(\"Into class small_num.\")\n",
    "    \n",
    "    def smallest_num_list(self,l):\n",
    "        '''This Function will find smallest number in a list'''\n",
    "        logging.info(f'Inside smallest_num_list function. The list Entered by user is {l}.')\n",
    "        \n",
    "        small=l[0]\n",
    "        for i in l:\n",
    "            if i < small:\n",
    "                small = i\n",
    "        logging.info(f'Smallest number in list :- {small}')\n",
    "        return small\n",
    "obj = small_num()\n",
    "obj.smallest_num_list([50,12,98,63,45])"
   ]
  },
  {
   "cell_type": "code",
   "execution_count": 4,
   "id": "6a19fc2a",
   "metadata": {},
   "outputs": [
    {
     "data": {
      "text/plain": [
       "91"
      ]
     },
     "execution_count": 4,
     "metadata": {},
     "output_type": "execute_result"
    }
   ],
   "source": [
    "# 4. Write a Python program to find largest number in a list?\n",
    "import logging\n",
    "logging.basicConfig(filename='programming_assign10.log',level = logging.DEBUG, format = '%(levelname)s %(name)s %(message)s')\n",
    "\n",
    "class large_num:\n",
    "    logging.info(\"Into class large_num.\")\n",
    "    \n",
    "    def largest_num_list(self,l):\n",
    "        '''This Function will find largest number in a list'''\n",
    "        logging.info(f'Inside largest_num_list function. The list Entered by user is {l}.')\n",
    "        \n",
    "        large=l[0]\n",
    "        for i in l:\n",
    "            if i>large:\n",
    "                large=i\n",
    "        logging.info(f'Largest number in list :- {large}')\n",
    "        return large\n",
    "obj = large_num()\n",
    "obj.largest_num_list([45,23,86,41,91])"
   ]
  },
  {
   "cell_type": "code",
   "execution_count": 5,
   "id": "9ad89bee",
   "metadata": {},
   "outputs": [
    {
     "data": {
      "text/plain": [
       "86"
      ]
     },
     "execution_count": 5,
     "metadata": {},
     "output_type": "execute_result"
    }
   ],
   "source": [
    "# 5. Write a Python program to find second largest number in a list?\n",
    "import logging\n",
    "logging.basicConfig(filename='programming_assign10.log',level = logging.DEBUG, format = '%(levelname)s %(name)s %(message)s')\n",
    "\n",
    "class second_large_num:\n",
    "    logging.info(\"Into class second_large_num.\")\n",
    "    \n",
    "    def second_largest_num_list(self,l):\n",
    "        '''This Function will find second largest number in a list'''\n",
    "        logging.info(f'Inside second_largest_num_list function. The list Entered by user is {l}.')\n",
    "        \n",
    "        large=l[0]\n",
    "        second_large  = l[0]\n",
    "        for i in l:\n",
    "            if i>large:\n",
    "                large=i\n",
    "        l.remove(large)\n",
    "        logging.info(f'First largest number in list :- {large} will be removed from the list')\n",
    "        for i in l:\n",
    "            if i>second_large:\n",
    "                second_large=i\n",
    "        logging.info(f'Seconf largest number in list :- {second_large}')\n",
    "        return second_large\n",
    "obj = second_large_num()\n",
    "obj.second_largest_num_list([45,23,86,41,91])"
   ]
  },
  {
   "cell_type": "code",
   "execution_count": 6,
   "id": "f199f8bf",
   "metadata": {},
   "outputs": [
    {
     "data": {
      "text/plain": [
       "[91, 86]"
      ]
     },
     "execution_count": 6,
     "metadata": {},
     "output_type": "execute_result"
    }
   ],
   "source": [
    "# 6. Write a Python program to find N largest elements from a list?\n",
    "import logging\n",
    "logging.basicConfig(filename='programming_assign10.log',level = logging.DEBUG, format = '%(levelname)s %(name)s %(message)s')\n",
    "\n",
    "class n_largest:\n",
    "    logging.info(\"Into class n_largest.\")\n",
    "    \n",
    "    def n_largest_list(self,l,n):\n",
    "        '''This Function will find N largest elements from a list'''\n",
    "        logging.info(f'Inside n_largest_list function. The list Entered by user is {l} and value {n}.')\n",
    "        \n",
    "        l = sorted(l,reverse=True)\n",
    "        logging.info(f'largest number upto {n} :- {l[:n]}')\n",
    "        return l[:n]\n",
    "obj = n_largest()\n",
    "obj.n_largest_list([45,23,86,41,91],2)"
   ]
  },
  {
   "cell_type": "code",
   "execution_count": 7,
   "id": "7f24412f",
   "metadata": {},
   "outputs": [
    {
     "data": {
      "text/plain": [
       "[2, 4, 6, 8, 10]"
      ]
     },
     "execution_count": 7,
     "metadata": {},
     "output_type": "execute_result"
    }
   ],
   "source": [
    "# 7. Write a Python program to print even numbers in a list?\n",
    "import logging\n",
    "logging.basicConfig(filename='programming_assign10.log',level = logging.DEBUG, format = '%(levelname)s %(name)s %(message)s')\n",
    "\n",
    "class even_num:\n",
    "    logging.info(\"Into class even_num.\")\n",
    "    \n",
    "    def even_num_list(self,l):\n",
    "        '''This Function will print even numbers in a list'''\n",
    "        logging.info(f'Inside even_num_list function. The list Entered by user is {l}.')\n",
    "        \n",
    "        even=[]\n",
    "        for i in l:\n",
    "            if i % 2 ==0:\n",
    "                even.append(i)\n",
    "        logging.info(f'Even elements from list :- {even}')\n",
    "        return even\n",
    "obj = even_num()\n",
    "obj.even_num_list([1,2,3,4,5,6,7,8,9,10])"
   ]
  },
  {
   "cell_type": "code",
   "execution_count": 8,
   "id": "979b4fe1",
   "metadata": {},
   "outputs": [
    {
     "data": {
      "text/plain": [
       "[1, 3, 5, 7, 9]"
      ]
     },
     "execution_count": 8,
     "metadata": {},
     "output_type": "execute_result"
    }
   ],
   "source": [
    "# 8. Write a Python program to print odd numbers in a List?\n",
    "import logging\n",
    "logging.basicConfig(filename='programming_assign10.log',level = logging.DEBUG, format = '%(levelname)s %(name)s %(message)s')\n",
    "\n",
    "class odd_num:\n",
    "    logging.info(\"Into class odd_num.\")\n",
    "    \n",
    "    def odd_num_list(self,l):\n",
    "        '''This Function will print odd numbers in a List'''\n",
    "        logging.info(f'Inside odd_num_list function. The list Entered by user is {l}.')\n",
    "        \n",
    "        odd=[]\n",
    "        for i in l:\n",
    "            if i % 2 !=0:\n",
    "                odd.append(i)\n",
    "        logging.info(f'odd Elements from the list :- {odd}')\n",
    "        return odd\n",
    "obj = odd_num()\n",
    "obj.odd_num_list([1,2,3,4,5,6,7,8,9,10])"
   ]
  },
  {
   "cell_type": "code",
   "execution_count": 9,
   "id": "9e020e4a",
   "metadata": {},
   "outputs": [
    {
     "data": {
      "text/plain": [
       "[[1, 2, 6], [1, 8]]"
      ]
     },
     "execution_count": 9,
     "metadata": {},
     "output_type": "execute_result"
    }
   ],
   "source": [
    "# 9. Write a Python program to Remove empty List from List?\n",
    "import logging\n",
    "logging.basicConfig(filename='programming_assign10.log',level = logging.DEBUG, format = '%(levelname)s %(name)s %(message)s')\n",
    "\n",
    "class remove_list:\n",
    "    logging.info(\"Into class remove_list.\")\n",
    "    \n",
    "    def empty_List(self,l):\n",
    "        '''This Function will Remove empty List from List'''\n",
    "        logging.info(f'Inside empty_List function. The list Entered by user is {l}.')\n",
    "        \n",
    "        for i in l:\n",
    "            if i == []:\n",
    "                l.remove(i)\n",
    "        logging.info(f'{l} empty list removed! ')\n",
    "        return l\n",
    "obj = remove_list()\n",
    "obj.empty_List([[1,2,6],[1,8],[]])"
   ]
  },
  {
   "cell_type": "code",
   "execution_count": 10,
   "id": "46119110",
   "metadata": {},
   "outputs": [
    {
     "data": {
      "text/plain": [
       "[1, 2, 3, 4, 5, 6]"
      ]
     },
     "execution_count": 10,
     "metadata": {},
     "output_type": "execute_result"
    }
   ],
   "source": [
    "# 10. Write a Python program to Cloning or Copying a list?\n",
    "import logging\n",
    "logging.basicConfig(filename='programming_assign10.log',level = logging.DEBUG, format = '%(levelname)s %(name)s %(message)s')\n",
    "\n",
    "class copy_list:\n",
    "    logging.info(\"Into class copy_list.\")\n",
    "    \n",
    "    def copying_List(self,l):\n",
    "        '''This Function will Cloning or Copying a list'''\n",
    "        logging.info(f'Inside copying_List function. The list Entered by user is {l}.')\n",
    "        \n",
    "        cpy_l = l.copy()\n",
    "        logging.info(f'original list :- {l}')\n",
    "        logging.info(f'copying list into another list :- {cpy_l}')\n",
    "        return cpy_l\n",
    "obj = copy_list()\n",
    "obj.copying_List([1,2,3,4,5,6])"
   ]
  },
  {
   "cell_type": "code",
   "execution_count": 11,
   "id": "777ecfca",
   "metadata": {},
   "outputs": [
    {
     "data": {
      "text/plain": [
       "Counter({1: 5, 2: 3, 6: 1, 4: 1, 3: 1})"
      ]
     },
     "execution_count": 11,
     "metadata": {},
     "output_type": "execute_result"
    }
   ],
   "source": [
    "# 11. Write a Python program to Count occurrences of an element in a list?\n",
    "import logging\n",
    "logging.basicConfig(filename='programming_assign10.log',level = logging.DEBUG, format = '%(levelname)s %(name)s %(message)s')\n",
    "\n",
    "from collections import Counter \n",
    "class count_element:\n",
    "    logging.info(\"Into class count_element.\")\n",
    "    \n",
    "    def count_elements_list(self,l):\n",
    "        '''This Function will Count occurrences of an all the element in a list'''\n",
    "        logging.info(f'Inside count_elements_list function. The list Entered by user is {l}.')\n",
    "        logging.info(f'Counting occurrences of all elements and printing into dictionary :- {Counter(l)}')\n",
    "        \n",
    "        return (Counter(l))\n",
    "    \n",
    "    def count_single_elements_list(self,l,value):\n",
    "        '''This Function will Count occurrences of an single element in a list'''\n",
    "        logging.info(f'Inside count_single_elements_list function. The list Entered by user is {l}.')\n",
    "        \n",
    "        count_value = 0\n",
    "        for i in l:\n",
    "            if i == value:\n",
    "                count_value +=1\n",
    "        logging.info(f'counting occurrences if {value} in list :- {count_value}')\n",
    "        return count_value\n",
    "    \n",
    "obj = count_element()\n",
    "obj.count_elements_list([1,2,1,6,2,4,1,3,2,1,1])"
   ]
  },
  {
   "cell_type": "code",
   "execution_count": 12,
   "id": "10af5145",
   "metadata": {},
   "outputs": [
    {
     "data": {
      "text/plain": [
       "5"
      ]
     },
     "execution_count": 12,
     "metadata": {},
     "output_type": "execute_result"
    }
   ],
   "source": [
    "obj = count_element()\n",
    "obj.count_single_elements_list([1,2,1,6,2,4,1,3,2,1,1],1)"
   ]
  },
  {
   "cell_type": "code",
   "execution_count": null,
   "id": "b5a2f71f",
   "metadata": {},
   "outputs": [],
   "source": []
  }
 ],
 "metadata": {
  "kernelspec": {
   "display_name": "Python 3 (ipykernel)",
   "language": "python",
   "name": "python3"
  },
  "language_info": {
   "codemirror_mode": {
    "name": "ipython",
    "version": 3
   },
   "file_extension": ".py",
   "mimetype": "text/x-python",
   "name": "python",
   "nbconvert_exporter": "python",
   "pygments_lexer": "ipython3",
   "version": "3.9.7"
  }
 },
 "nbformat": 4,
 "nbformat_minor": 5
}
