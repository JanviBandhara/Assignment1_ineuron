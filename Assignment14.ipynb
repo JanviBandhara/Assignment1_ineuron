{
 "cells": [
  {
   "cell_type": "code",
   "execution_count": null,
   "id": "79e019db",
   "metadata": {},
   "outputs": [],
   "source": [
    "#1. What does RGBA stand for?\n",
    "--> Red-Green-Blue-Alpha"
   ]
  },
  {
   "cell_type": "code",
   "execution_count": 2,
   "id": "8cb41172",
   "metadata": {},
   "outputs": [
    {
     "data": {
      "text/plain": [
       "(255, 0, 0, 255)"
      ]
     },
     "execution_count": 2,
     "metadata": {},
     "output_type": "execute_result"
    }
   ],
   "source": [
    "#2. From the Pillow module, how do you get the RGBA value of any images?\n",
    "# --> ImageColor.getcolor() function gives the RGBA value.\n",
    "# --> This function takes a color name string as its first argument, and the string 'RGBA' as its second argument, and it returns an RGBA tuple\n",
    "from PIL import ImageColor\n",
    "ImageColor.getcolor('red', 'RGBA')"
   ]
  },
  {
   "cell_type": "code",
   "execution_count": null,
   "id": "a8d8a70a",
   "metadata": {},
   "outputs": [],
   "source": [
    "#3. What is a box tuple, and how does it work?\n",
    "--> The box tuple submodule provides read-only access for the tuple userdata type.\n",
    "--> It allows, for a single tuple: selective retrieval of the field contents, retrieval of information about size, iteration over all the fields, and conversion to a Lua table."
   ]
  },
  {
   "cell_type": "code",
   "execution_count": 7,
   "id": "9c95bdf0",
   "metadata": {},
   "outputs": [
    {
     "name": "stdout",
     "output_type": "stream",
     "text": [
      "225 225\n"
     ]
    }
   ],
   "source": [
    "#4. Use your image and load in notebook then, How can you find out the width and height of an Image object?\n",
    "#--> imgobj.width and imgobj.height can be use to find out the width and height of an Image object.\n",
    "from PIL import Image\n",
    "img = Image.open('C:/Users/abc/Desktop/iNeuron.png')\n",
    "width = img.width\n",
    "height = img.height\n",
    "print(width,height)"
   ]
  },
  {
   "cell_type": "code",
   "execution_count": 8,
   "id": "b1d28ff9",
   "metadata": {},
   "outputs": [],
   "source": [
    "#5. What method would you call to get Image object for a 100×100 image, excluding the lower-left quarter of it?\n",
    "#--> imgobj.crop() method will be use to ger Image object for a 100×100 image, excluding the lower-left quarter of it.\n",
    "from PIL import Image\n",
    "img = Image.open(\"C:/Users/abc/Desktop/iNeuron.png\")\n",
    "cropped_img = img.crop((0, 50, 50, 100))\n",
    "cropped_img.show()"
   ]
  },
  {
   "cell_type": "code",
   "execution_count": null,
   "id": "7e63ec8e",
   "metadata": {},
   "outputs": [],
   "source": [
    "#6. After making changes to an Image object, how could you save it as an image file?\n",
    "--> imageobj.save()"
   ]
  },
  {
   "cell_type": "code",
   "execution_count": null,
   "id": "07a575f1",
   "metadata": {},
   "outputs": [],
   "source": [
    "#7. What module contains Pillow’s shape-drawing code?\n",
    "--> ImageDraw module contains Pillow’s shape-drawing code."
   ]
  },
  {
   "cell_type": "code",
   "execution_count": null,
   "id": "cfce8772",
   "metadata": {},
   "outputs": [],
   "source": [
    "#8. Image objects do not have drawing methods. What kind of object does? How do you get this kind of object?\n",
    "--> All the rotations, resizing, cropping, drawing, and other image manipulations will be done through method calls on the Image object."
   ]
  }
 ],
 "metadata": {
  "kernelspec": {
   "display_name": "Python 3 (ipykernel)",
   "language": "python",
   "name": "python3"
  },
  "language_info": {
   "codemirror_mode": {
    "name": "ipython",
    "version": 3
   },
   "file_extension": ".py",
   "mimetype": "text/x-python",
   "name": "python",
   "nbconvert_exporter": "python",
   "pygments_lexer": "ipython3",
   "version": "3.9.7"
  }
 },
 "nbformat": 4,
 "nbformat_minor": 5
}
