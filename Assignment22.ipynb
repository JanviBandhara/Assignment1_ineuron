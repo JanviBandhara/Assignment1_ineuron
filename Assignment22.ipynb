{
 "cells": [
  {
   "cell_type": "code",
   "execution_count": null,
   "id": "45d5fb98",
   "metadata": {},
   "outputs": [],
   "source": [
    "'''1. What is the result of the code, and explain?\n",
    "\n",
    ">>> X='iNeuron'\n",
    ">>> def func():\n",
    "print(X)\n",
    ">>> func()'''"
   ]
  },
  {
   "cell_type": "code",
   "execution_count": 152,
   "id": "fbcd13b3",
   "metadata": {},
   "outputs": [
    {
     "name": "stdout",
     "output_type": "stream",
     "text": [
      "iNeuron\n"
     ]
    }
   ],
   "source": [
    "X='iNeuron' \n",
    "def func(): \n",
    "    print(X) \n",
    "func()"
   ]
  },
  {
   "cell_type": "markdown",
   "id": "eee7a041",
   "metadata": {},
   "source": [
    "result will be the value which is present in variable x because it is an global variable so, accessible to all"
   ]
  },
  {
   "cell_type": "code",
   "execution_count": null,
   "id": "0f96d6e1",
   "metadata": {},
   "outputs": [],
   "source": [
    "'''2. What is the result of the code, and explain?\n",
    "\n",
    ">>> X='iNeuron'\n",
    ">>> def func():\n",
    "X = 'NI!'\n",
    ">>> func()\n",
    ">>> print(X)'''"
   ]
  },
  {
   "cell_type": "code",
   "execution_count": 155,
   "id": "394cc322",
   "metadata": {},
   "outputs": [
    {
     "name": "stdout",
     "output_type": "stream",
     "text": [
      "iNeuron\n"
     ]
    }
   ],
   "source": [
    "X='iNeuron' \n",
    "def func(): \n",
    "    X = 'NI!' \n",
    "func() \n",
    "print(X)"
   ]
  },
  {
   "cell_type": "markdown",
   "id": "318a00a1",
   "metadata": {},
   "source": [
    "we are calling the variable out of the scope of function so, global variable value will be displayed"
   ]
  },
  {
   "cell_type": "code",
   "execution_count": null,
   "id": "19a9cb3a",
   "metadata": {},
   "outputs": [],
   "source": [
    "'''3. What does this code print, and why?\n",
    "\n",
    ">>> X='iNeuron'\n",
    ">>> def func():\n",
    "X = 'NI!'\n",
    "print('X')\n",
    ">>> func()\n",
    ">>> print(X)'''"
   ]
  },
  {
   "cell_type": "code",
   "execution_count": 157,
   "id": "43e85946",
   "metadata": {},
   "outputs": [
    {
     "name": "stdout",
     "output_type": "stream",
     "text": [
      "NI!\n",
      "iNeuron\n"
     ]
    }
   ],
   "source": [
    "X='iNeuron' \n",
    "def func(): \n",
    "    X = 'NI!' \n",
    "    print(X) \n",
    "func() \n",
    "print(X)"
   ]
  },
  {
   "cell_type": "markdown",
   "id": "5259b9b5",
   "metadata": {},
   "source": [
    "first we are calling the func() so 'NI' will be printed and then out of the function 'x' variable is called so global value will be printed"
   ]
  },
  {
   "cell_type": "code",
   "execution_count": null,
   "id": "2829e42b",
   "metadata": {},
   "outputs": [],
   "source": [
    "'''4. What output does this code produce? why?\n",
    "\n",
    ">>> X='iNeuron'\n",
    ">>> def func():\n",
    "global X\n",
    "X = 'NI!'\n",
    "\n",
    ">>> func()\n",
    ">>> print(X)'''"
   ]
  },
  {
   "cell_type": "code",
   "execution_count": 158,
   "id": "c40d2d70",
   "metadata": {},
   "outputs": [
    {
     "name": "stdout",
     "output_type": "stream",
     "text": [
      "NI!\n"
     ]
    }
   ],
   "source": [
    "X='iNeuron' \n",
    "def func(): \n",
    "    global X \n",
    "    X = 'NI!'\n",
    "func() \n",
    "print(X)"
   ]
  },
  {
   "cell_type": "markdown",
   "id": "e7c46e67",
   "metadata": {},
   "source": [
    "we have dre-declare the global variable inside the function as 'NI' so 'Ni' will be printed "
   ]
  },
  {
   "cell_type": "code",
   "execution_count": null,
   "id": "0e7db891",
   "metadata": {},
   "outputs": [],
   "source": [
    "'''\n",
    "5. What about this code—what’s the output, and why?\n",
    "\n",
    ">>> X='iNeuron'\n",
    ">>> def func():\n",
    "X = 'NI!'\n",
    "def nested():\n",
    "print(x)\n",
    "nested()\n",
    "\n",
    ">>> func()\n",
    ">>> x\n",
    "'''"
   ]
  },
  {
   "cell_type": "code",
   "execution_count": 163,
   "id": "685cde6a",
   "metadata": {},
   "outputs": [
    {
     "name": "stdout",
     "output_type": "stream",
     "text": [
      "NI!\n"
     ]
    },
    {
     "data": {
      "text/plain": [
       "'iNeuron'"
      ]
     },
     "execution_count": 163,
     "metadata": {},
     "output_type": "execute_result"
    }
   ],
   "source": [
    "X='iNeuron'\n",
    "def func():\n",
    "    X = 'NI!'\n",
    "    def nested():\n",
    "        print(X)\n",
    "    nested()\n",
    "\n",
    "func()\n",
    "X"
   ]
  },
  {
   "cell_type": "markdown",
   "id": "dc00d488",
   "metadata": {},
   "source": [
    "First of the func() is called so it will go inside this function and in the func() another func is called and inside the nested() X variable is printing but in nested() it is not present so, it will print the value which is assugn in parent function "
   ]
  },
  {
   "cell_type": "markdown",
   "id": "e02512a3",
   "metadata": {},
   "source": [
    "Afterwards, the global variable is called so, iNeuron is printed"
   ]
  },
  {
   "cell_type": "code",
   "execution_count": null,
   "id": "0b89db00",
   "metadata": {},
   "outputs": [],
   "source": [
    "'''\n",
    "6. How about this code: what is its output in Python 3, and explain?\n",
    "\n",
    ">>> def func():\n",
    "X = 'NI!'\n",
    "def nested():\n",
    "nonlocal X\n",
    "X = 'Spam'\n",
    "nested()\n",
    "print(X)\n",
    "\n",
    ">>> func()\n",
    "'''"
   ]
  },
  {
   "cell_type": "code",
   "execution_count": 166,
   "id": "e909c712",
   "metadata": {},
   "outputs": [
    {
     "name": "stdout",
     "output_type": "stream",
     "text": [
      "Spam\n"
     ]
    }
   ],
   "source": [
    "def func():\n",
    "    X = 'NI!'\n",
    "    def nested():\n",
    "        nonlocal X\n",
    "        X = 'Spam'\n",
    "    nested()\n",
    "    print(X)\n",
    "\n",
    "func()"
   ]
  },
  {
   "cell_type": "markdown",
   "id": "999028f0",
   "metadata": {},
   "source": [
    "Nonlocal variables are used in nested functions whose local scope is not defined. "
   ]
  },
  {
   "cell_type": "markdown",
   "id": "9098bf09",
   "metadata": {},
   "source": [
    "This means that the variable can be neither in the local nor the global scope. it print the updated value from nested function"
   ]
  },
  {
   "cell_type": "code",
   "execution_count": null,
   "id": "5d4adf4e",
   "metadata": {},
   "outputs": [],
   "source": []
  }
 ],
 "metadata": {
  "kernelspec": {
   "display_name": "Python 3 (ipykernel)",
   "language": "python",
   "name": "python3"
  },
  "language_info": {
   "codemirror_mode": {
    "name": "ipython",
    "version": 3
   },
   "file_extension": ".py",
   "mimetype": "text/x-python",
   "name": "python",
   "nbconvert_exporter": "python",
   "pygments_lexer": "ipython3",
   "version": "3.9.7"
  }
 },
 "nbformat": 4,
 "nbformat_minor": 5
}
