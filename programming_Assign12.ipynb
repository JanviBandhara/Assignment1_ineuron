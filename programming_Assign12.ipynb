{
 "cells": [
  {
   "cell_type": "code",
   "execution_count": 1,
   "id": "a7d79e38",
   "metadata": {},
   "outputs": [
    {
     "data": {
      "text/plain": [
       "[1, 2, 3, 4]"
      ]
     },
     "execution_count": 1,
     "metadata": {},
     "output_type": "execute_result"
    }
   ],
   "source": [
    "# 1. Write a Python program to Extract Unique values dictionary values?\n",
    "class dict_unique:\n",
    "    def dict_unique_values(self,d):\n",
    "        try:\n",
    "            l1 =[]\n",
    "            for i in d.values():\n",
    "                if i not in l1:\n",
    "                    l1.append(i)\n",
    "            return l1\n",
    "        except Exception as e:\n",
    "            print('Error :- ',e)\n",
    "\n",
    "obj = dict_unique()\n",
    "obj.dict_unique_values({'a':1,'b':2,'c':3,'d':4,'e':1,'f':2})"
   ]
  },
  {
   "cell_type": "code",
   "execution_count": 2,
   "id": "50d1c443",
   "metadata": {},
   "outputs": [
    {
     "data": {
      "text/plain": [
       "13"
      ]
     },
     "execution_count": 2,
     "metadata": {},
     "output_type": "execute_result"
    }
   ],
   "source": [
    "# 2. Write a Python program to find the sum of all items in a dictionary?\n",
    "class sum_dict:\n",
    "    try : \n",
    "        def sum_dict_items(self,d):\n",
    "            l1 = [i for i in d.values()]\n",
    "            return sum(l1)\n",
    "    except Exception as e:\n",
    "        print('Error :- ',e)\n",
    "    \n",
    "obj = sum_dict()\n",
    "obj.sum_dict_items({'a':1,'b':2,'c':3,'d':4,'e':1,'f':2})"
   ]
  },
  {
   "cell_type": "code",
   "execution_count": 3,
   "id": "1f901f13",
   "metadata": {},
   "outputs": [
    {
     "data": {
      "text/plain": [
       "{'a': 100, 'b': 200, 'c': 10, 'd': 20}"
      ]
     },
     "execution_count": 3,
     "metadata": {},
     "output_type": "execute_result"
    }
   ],
   "source": [
    "# 3. Write a Python program to Merging two Dictionaries?\n",
    "class merge_dict:\n",
    "    def merging_dict(self,d1,d2):\n",
    "        try :\n",
    "            for i in d2:\n",
    "                d1[i] = d2[i]\n",
    "            return d1\n",
    "        except Exception as e:\n",
    "            print('Error :- ',e)\n",
    "    \n",
    "obj = merge_dict()\n",
    "obj.merging_dict({'a':100,'b':200},{'c':10,'d':20})"
   ]
  },
  {
   "cell_type": "code",
   "execution_count": 4,
   "id": "1508f585",
   "metadata": {},
   "outputs": [
    {
     "data": {
      "text/plain": [
       "{1: 'Jan', 2: 'Feb', 3: 'March'}"
      ]
     },
     "execution_count": 4,
     "metadata": {},
     "output_type": "execute_result"
    }
   ],
   "source": [
    "# 4. Write a Python program to convert key-values list to flat dictionary?\n",
    "class convert_dict:\n",
    "    def convert_list_dict(self,d1):\n",
    "        try:\n",
    "            x=list(d1.values())\n",
    "            a=x[0]\n",
    "            b=x[1]\n",
    "            d=dict()\n",
    "            for i in range(0,len(a)):\n",
    "                d[a[i]]=b[i]\n",
    "            return d\n",
    "        except Exception as e:\n",
    "            print('Error :- ',e)\n",
    "\n",
    "obj = convert_dict()\n",
    "obj.convert_list_dict({'month' : [1, 2, 3],\n",
    "             'name' : ['Jan', 'Feb', 'March']})"
   ]
  },
  {
   "cell_type": "code",
   "execution_count": 5,
   "id": "26e377c9",
   "metadata": {},
   "outputs": [
    {
     "data": {
      "text/plain": [
       "OrderedDict([('k', 230), ('a', 100), ('b', 200), ('c', 10), ('d', 20)])"
      ]
     },
     "execution_count": 5,
     "metadata": {},
     "output_type": "execute_result"
    }
   ],
   "source": [
    "# 5. Write a Python program to insertion at the beginning in OrderedDict?\n",
    "from collections import OrderedDict\n",
    "class insert_dict:\n",
    "    def insertion_ordered_dict(self,d,key,value):\n",
    "        od = OrderedDict(d)\n",
    "        od[key]= value\n",
    "        od.move_to_end(key,last=False)\n",
    "        return od\n",
    "        \n",
    "obj = insert_dict()\n",
    "obj.insertion_ordered_dict({'a': 100, 'b': 200, 'c': 10, 'd': 20},'k',230)"
   ]
  },
  {
   "cell_type": "code",
   "execution_count": 6,
   "id": "1dbd4fb7",
   "metadata": {},
   "outputs": [
    {
     "data": {
      "text/plain": [
       "'Order of character matches'"
      ]
     },
     "execution_count": 6,
     "metadata": {},
     "output_type": "execute_result"
    }
   ],
   "source": [
    "# 6. Write a Python program to check order of character in string using OrderedDict()?\n",
    "class check_order:\n",
    "    def order_char_str(self,s,pattern):\n",
    "        try:\n",
    "            dict = OrderedDict.fromkeys(s)\n",
    "            pattern_counter = 0\n",
    "            for key,value in dict.items():\n",
    "                if (key == pattern[pattern_counter]):\n",
    "                    pattern_counter +=1\n",
    "                if (pattern_counter == (len(pattern))):\n",
    "                    return 'Order of character matches'\n",
    "                \n",
    "            return 'Order of character doesnot matches'\n",
    "        except Exception as e:\n",
    "            print('Error :- ',e)\n",
    "        \n",
    "obj = check_order()\n",
    "obj.order_char_str('ineuron','eo')"
   ]
  },
  {
   "cell_type": "code",
   "execution_count": 7,
   "id": "ee1917b9",
   "metadata": {},
   "outputs": [
    {
     "data": {
      "text/plain": [
       "{'a': 4, 'g': 6, 'k': 5, 'z': 1}"
      ]
     },
     "execution_count": 7,
     "metadata": {},
     "output_type": "execute_result"
    }
   ],
   "source": [
    "# 7. Write a Python program to sort Python Dictionaries by Key or Value?\n",
    "class sort_dict:\n",
    "    def sorting_dict(self,d):\n",
    "        try : \n",
    "            l1 = list(d.keys())\n",
    "            l1.sort()\n",
    "            d1 = {i:d[i] for i in l1}\n",
    "            return d1\n",
    "        except Exception as e:\n",
    "            print('Error :- ',e)\n",
    "obj = sort_dict()\n",
    "obj.sorting_dict({'k':5,'g':6,'a':4,'z':1})"
   ]
  },
  {
   "cell_type": "code",
   "execution_count": null,
   "id": "8664934d",
   "metadata": {},
   "outputs": [],
   "source": []
  }
 ],
 "metadata": {
  "kernelspec": {
   "display_name": "Python 3 (ipykernel)",
   "language": "python",
   "name": "python3"
  },
  "language_info": {
   "codemirror_mode": {
    "name": "ipython",
    "version": 3
   },
   "file_extension": ".py",
   "mimetype": "text/x-python",
   "name": "python",
   "nbconvert_exporter": "python",
   "pygments_lexer": "ipython3",
   "version": "3.9.7"
  }
 },
 "nbformat": 4,
 "nbformat_minor": 5
}
