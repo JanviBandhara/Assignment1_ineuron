{
 "cells": [
  {
   "cell_type": "markdown",
   "id": "fb2c4c1f",
   "metadata": {},
   "source": [
    "## Question1\n",
    "Create a function that takes three integer arguments (a, b, c) and returns the amount of\n",
    "integers which are of equal value.\n",
    "### Examples\n",
    "* equal(3, 4, 3) ➞ 2\n",
    "* equal(1, 1, 1) ➞ 3\n",
    "* equal(3, 4, 1) ➞ 0\n",
    "###### Notes\n",
    "Your function must return 0, 2 or 3."
   ]
  },
  {
   "cell_type": "code",
   "execution_count": 1,
   "id": "9c6f2a4a",
   "metadata": {},
   "outputs": [
    {
     "data": {
      "text/plain": [
       "'2'"
      ]
     },
     "execution_count": 1,
     "metadata": {},
     "output_type": "execute_result"
    }
   ],
   "source": [
    "class equal_int:\n",
    "    def equal(Self,a,b,c):\n",
    "        try:\n",
    "            if a == b and a == c:\n",
    "                return '3'\n",
    "            elif a==c or b==c :\n",
    "                return '2'\n",
    "            elif a==b or b==c:\n",
    "                return '2'\n",
    "            else:\n",
    "                return '0'\n",
    "        except Exception as e:\n",
    "            print('Error :- ',e)\n",
    "        \n",
    "obj = equal_int()\n",
    "obj.equal(0,6,0)"
   ]
  },
  {
   "cell_type": "markdown",
   "id": "c0f35981",
   "metadata": {},
   "source": [
    "## Question2\n",
    "Write a function that converts a dictionary into a list of keys-values tuples.\n",
    "### Examples\n",
    "* dict_to_list({\n",
    "&quot;D&quot;: 1,\n",
    "&quot;B&quot;: 2,\n",
    "&quot;C&quot;: 3\n",
    "}) ➞ [(&quot;B&quot;, 2), (&quot;C&quot;, 3), (&quot;D&quot;, 1)]\n",
    "* dict_to_list({\n",
    "&quot;likes&quot;: 2,\n",
    "&quot;dislikes&quot;: 3,\n",
    "&quot;followers&quot;: 10\n",
    "}) ➞ [(&quot;dislikes&quot;, 3), (&quot;followers&quot;, 10), (&quot;likes&quot;, 2)]\n",
    "###### Notes\n",
    "Return the elements in the list in alphabetical order."
   ]
  },
  {
   "cell_type": "code",
   "execution_count": 2,
   "id": "da609e33",
   "metadata": {},
   "outputs": [
    {
     "data": {
      "text/plain": [
       "[('dislikes', 3), ('followers', 10), ('likes', 2)]"
      ]
     },
     "execution_count": 2,
     "metadata": {},
     "output_type": "execute_result"
    }
   ],
   "source": [
    "class convert_dict_list:\n",
    "    def dict_to_list(self,d):\n",
    "        try:\n",
    "            l1=[]\n",
    "            for i in d:\n",
    "                t = i,d[i]\n",
    "                l1.append(tuple(t))\n",
    "            return sorted(l1)\n",
    "        except Exception as e:\n",
    "            print('Error:- ',e)\n",
    "    \n",
    "obj = convert_dict_list()\n",
    "obj.dict_to_list({ \"likes\": 2, \"dislikes\": 3, \"followers\": 10 })"
   ]
  },
  {
   "cell_type": "markdown",
   "id": "a23d4bd3",
   "metadata": {},
   "source": [
    "## Question3\n",
    "Write a function that creates a dictionary with each (key, value) pair being the (lower case,\n",
    "upper case) versions of a letter, respectively.\n",
    "### Examples\n",
    "* mapping([&quot;p&quot;, &quot;s&quot;]) ➞ { &quot;p&quot;: &quot;P&quot;, &quot;s&quot;: &quot;S&quot; }\n",
    "\n",
    "* mapping([&quot;a&quot;, &quot;b&quot;, &quot;c&quot;]) ➞ { &quot;a&quot;: &quot;A&quot;, &quot;b&quot;: &quot;B&quot;, &quot;c&quot;: &quot;C&quot; }\n",
    "* mapping([&quot;a&quot;, &quot;v&quot;, &quot;y&quot;, &quot;z&quot;]) ➞ { &quot;a&quot;: &quot;A&quot;, &quot;v&quot;: &quot;V&quot;, &quot;y&quot;: &quot;Y&quot;, &quot;z&quot;: &quot;Z&quot; }\n",
    "\n",
    "###### Notes\n",
    "All of the letters in the input list will always be lowercase."
   ]
  },
  {
   "cell_type": "code",
   "execution_count": 3,
   "id": "d3d9645b",
   "metadata": {},
   "outputs": [
    {
     "data": {
      "text/plain": [
       "{'a': 'A', 'b': 'B', 'c': 'C'}"
      ]
     },
     "execution_count": 3,
     "metadata": {},
     "output_type": "execute_result"
    }
   ],
   "source": [
    "class dict_letters:\n",
    "    def mapping(self,l):\n",
    "        try:\n",
    "            d1 = {key:key.upper() for key in l}\n",
    "            return d1\n",
    "        except Exception as e:\n",
    "            print('Error :- ',e)\n",
    "        \n",
    "obj = dict_letters()\n",
    "obj.mapping([\"a\", \"b\", \"c\"])"
   ]
  },
  {
   "cell_type": "markdown",
   "id": "7065a194",
   "metadata": {},
   "source": [
    "## Question4\n",
    "Write a function, that replaces all vowels in a string with a specified vowel.\n",
    "### Examples\n",
    "* vow_replace(&quot;apples and bananas&quot;, &quot;u&quot;) ➞ &quot;upplus und bununus&quot;\n",
    "* vow_replace(&quot;cheese casserole&quot;, &quot;o&quot;) ➞ &quot;chooso cossorolo&quot;\n",
    "* vow_replace(&quot;stuffed jalapeno poppers&quot;, &quot;e&quot;) ➞ &quot;steffed jelepene peppers&quot;\n",
    "###### Notes\n",
    "All words will be lowercase. Y is not considered a vowel."
   ]
  },
  {
   "cell_type": "code",
   "execution_count": 4,
   "id": "7d62142c",
   "metadata": {},
   "outputs": [
    {
     "data": {
      "text/plain": [
       "'upplus und bununus'"
      ]
     },
     "execution_count": 4,
     "metadata": {},
     "output_type": "execute_result"
    }
   ],
   "source": [
    "class replace_vowel:\n",
    "    def vow_replace(self,s,replace_value):\n",
    "        try:\n",
    "            for i in s:\n",
    "                if i == 'a' or i == 'e' or i == 'i' or i == 'o' or i == 'u':\n",
    "                    s = s.replace(i,replace_value)\n",
    "            return s\n",
    "        except Exception as e:\n",
    "            print('Error:- ',e)\n",
    "    \n",
    "obj = replace_vowel()\n",
    "obj.vow_replace(\"apples and bananas\", \"u\")"
   ]
  },
  {
   "cell_type": "markdown",
   "id": "c9bb89e5",
   "metadata": {},
   "source": [
    "## Question5\n",
    "Create a function that takes a string as input and capitalizes a letter if its ASCII code is even\n",
    "and returns its lower case version if its ASCII code is odd.\n",
    "### Examples\n",
    "* ascii_capitalize(&quot;to be or not to be!&quot;) ➞ &quot;To Be oR NoT To Be!&quot;\n",
    "* ascii_capitalize(&quot;THE LITTLE MERMAID&quot;) ➞ &quot;THe LiTTLe meRmaiD&quot;\n",
    "* ascii_capitalize(&quot;Oh what a beautiful morning.&quot;) ➞ &quot;oH wHaT a BeauTiFuL\n",
    "moRNiNg.&quot;"
   ]
  },
  {
   "cell_type": "code",
   "execution_count": 5,
   "id": "6b5d61c9",
   "metadata": {},
   "outputs": [
    {
     "data": {
      "text/plain": [
       "'THe LiTTLe meRmaiD'"
      ]
     },
     "execution_count": 5,
     "metadata": {},
     "output_type": "execute_result"
    }
   ],
   "source": [
    "class ascii_case:\n",
    "    def ascii_capitalize(self,s):\n",
    "        try:\n",
    "            s1 = ''\n",
    "            for i in s:\n",
    "                if ord(i) % 2 ==0:\n",
    "                    s1 = s1+i.upper()\n",
    "                else :\n",
    "                    s1 = s1+i.lower()\n",
    "            return s1\n",
    "        except Exception as e:\n",
    "            print('Error:- ',e)\n",
    "            \n",
    "obj = ascii_case()\n",
    "obj.ascii_capitalize(\"THE LITTLE MERMAID\")"
   ]
  },
  {
   "cell_type": "code",
   "execution_count": null,
   "id": "62dda247",
   "metadata": {},
   "outputs": [],
   "source": []
  }
 ],
 "metadata": {
  "kernelspec": {
   "display_name": "Python 3 (ipykernel)",
   "language": "python",
   "name": "python3"
  },
  "language_info": {
   "codemirror_mode": {
    "name": "ipython",
    "version": 3
   },
   "file_extension": ".py",
   "mimetype": "text/x-python",
   "name": "python",
   "nbconvert_exporter": "python",
   "pygments_lexer": "ipython3",
   "version": "3.9.7"
  }
 },
 "nbformat": 4,
 "nbformat_minor": 5
}
