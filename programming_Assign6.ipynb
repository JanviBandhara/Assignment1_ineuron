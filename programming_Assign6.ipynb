{
 "cells": [
  {
   "cell_type": "code",
   "execution_count": 62,
   "id": "aef054dd",
   "metadata": {},
   "outputs": [],
   "source": [
    "# 1. Write a Python Program to Display Fibonacci Sequence Using Recursion?\n",
    "import logging\n",
    "logging.basicConfig(filename='programming_assign6.log',level = logging.DEBUG, format = '%(levelname)s %(name)s %(message)s')\n",
    "class recursive_fibo:\n",
    "    logging.info(\"Into class recursive_fibo.\")\n",
    "    def fibonacci(self,n):\n",
    "        '''This Function will find the Fibonacci Sequence Using Recursion '''\n",
    "        logging.info(f'The range Entered by user is {n}.')\n",
    "        if n <= 1 :\n",
    "            return n\n",
    "        else :\n",
    "            return self.fibonacci(n-1) + self.fibonacci(n-2)\n",
    "    def fibo(self,n):\n",
    "        for i in range(n):\n",
    "            logging.info(f'The Fibonacci is {self.fibonacci(i)}.')\n",
    "            print(self.fibonacci(i),end=' ')"
   ]
  },
  {
   "cell_type": "code",
   "execution_count": 63,
   "id": "183c04c0",
   "metadata": {},
   "outputs": [
    {
     "name": "stdout",
     "output_type": "stream",
     "text": [
      "0 1 1 2 3 5 8 13 21 34 "
     ]
    }
   ],
   "source": [
    "obj = recursive_fibo()\n",
    "obj.fibo(10)"
   ]
  },
  {
   "cell_type": "code",
   "execution_count": 16,
   "id": "d24cdeb0",
   "metadata": {},
   "outputs": [],
   "source": [
    "# 2. Write a Python Program to Find Factorial of Number Using Recursion?\n",
    "import logging\n",
    "logging.basicConfig(filename='programming_assign6.log',level = logging.DEBUG, format = '%(levelname)s %(name)s %(message)s')\n",
    "class recursive_fact:\n",
    "    logging.info(\"Into class recursive_fact.\")\n",
    "    def factorial(self,num):\n",
    "        '''This Function will find the Factorial of Number Using Recursion'''\n",
    "        logging.info(f'The Entered number is {num}.')\n",
    "        if num == 1:\n",
    "            return 1\n",
    "        else :\n",
    "            logging.info(f'The Factorial is {num * (self.factorial(num-1))}.')\n",
    "            return num * (self.factorial(num-1))"
   ]
  },
  {
   "cell_type": "code",
   "execution_count": 17,
   "id": "f4652424",
   "metadata": {},
   "outputs": [
    {
     "data": {
      "text/plain": [
       "120"
      ]
     },
     "execution_count": 17,
     "metadata": {},
     "output_type": "execute_result"
    }
   ],
   "source": [
    "obj = recursive_fact()\n",
    "obj.factorial(5)"
   ]
  },
  {
   "cell_type": "code",
   "execution_count": 40,
   "id": "002fba46",
   "metadata": {},
   "outputs": [],
   "source": [
    "# 3. Write a Python Program to calculate your Body Mass Index?\n",
    "import logging\n",
    "logging.basicConfig(filename='programming_assign6.log',level = logging.DEBUG, format = '%(levelname)s %(name)s %(message)s')\n",
    "class bmi:\n",
    "    logging.info(\"Into class bmi.\")\n",
    "    def calculate_bmi(self,height,weight):\n",
    "        '''This Function will calculate your Body Mass Index'''\n",
    "        logging.info(f'Entered Height {height} and Weight {weight}.')\n",
    "        logging.info(f'The BMI is {weight // height}.')\n",
    "        return weight // height"
   ]
  },
  {
   "cell_type": "code",
   "execution_count": 41,
   "id": "a5ee1122",
   "metadata": {},
   "outputs": [
    {
     "data": {
      "text/plain": [
       "25.0"
      ]
     },
     "execution_count": 41,
     "metadata": {},
     "output_type": "execute_result"
    }
   ],
   "source": [
    "obj = bmi()\n",
    "obj.calculate_bmi(2.31,60)"
   ]
  },
  {
   "cell_type": "code",
   "execution_count": 44,
   "id": "ea742ca5",
   "metadata": {},
   "outputs": [],
   "source": [
    "# 4. Write a Python Program to calculate the natural logarithm of any number?\n",
    "import math\n",
    "import logging\n",
    "logging.basicConfig(filename='programming_assign6.log',level = logging.DEBUG, format = '%(levelname)s %(name)s %(message)s')\n",
    "class logarithm:\n",
    "    logging.info(\"Into class logarithm.\")\n",
    "    def log_n(self,n):\n",
    "        '''This Function will calculate the natural logarithm of any number'''\n",
    "        logging.info(f'The Entered number is {n}.')\n",
    "        logging.info(f'The log of {n} is {math.log(n)}.')\n",
    "        return math.log(n)"
   ]
  },
  {
   "cell_type": "code",
   "execution_count": 46,
   "id": "8d969205",
   "metadata": {},
   "outputs": [
    {
     "data": {
      "text/plain": [
       "1.6094379124341003"
      ]
     },
     "execution_count": 46,
     "metadata": {},
     "output_type": "execute_result"
    }
   ],
   "source": [
    "obj = logarithm()\n",
    "obj.log_n(5)"
   ]
  },
  {
   "cell_type": "code",
   "execution_count": 59,
   "id": "8db89f33",
   "metadata": {},
   "outputs": [],
   "source": [
    "# 5. Write a Python Program for cube sum of first n natural numbers?\n",
    "import logging\n",
    "logging.basicConfig(filename='programming_assign6.log',level = logging.DEBUG, format = '%(levelname)s %(name)s %(message)s')\n",
    "class cube:\n",
    "    logging.info(\"Into class cube.\")\n",
    "    def cube_sum(self,n):\n",
    "        '''This Function will find the cube sum of first n natural numbers'''\n",
    "        logging.info(f'The cube sum of first {n} natural numbers.')\n",
    "        cube = 0\n",
    "        for i in range(n+1):\n",
    "            cube = cube + (i*i*i)\n",
    "        logging.info(f'The cube sum of first {n} natural numbers is {cube}.')\n",
    "        return cube"
   ]
  },
  {
   "cell_type": "code",
   "execution_count": 60,
   "id": "0df19f5e",
   "metadata": {},
   "outputs": [
    {
     "data": {
      "text/plain": [
       "225"
      ]
     },
     "execution_count": 60,
     "metadata": {},
     "output_type": "execute_result"
    }
   ],
   "source": [
    "obj = cube()\n",
    "obj.cube_sum(5)"
   ]
  },
  {
   "cell_type": "code",
   "execution_count": null,
   "id": "b88895c5",
   "metadata": {},
   "outputs": [],
   "source": []
  }
 ],
 "metadata": {
  "kernelspec": {
   "display_name": "Python 3 (ipykernel)",
   "language": "python",
   "name": "python3"
  },
  "language_info": {
   "codemirror_mode": {
    "name": "ipython",
    "version": 3
   },
   "file_extension": ".py",
   "mimetype": "text/x-python",
   "name": "python",
   "nbconvert_exporter": "python",
   "pygments_lexer": "ipython3",
   "version": "3.9.7"
  }
 },
 "nbformat": 4,
 "nbformat_minor": 5
}
