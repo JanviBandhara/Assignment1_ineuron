{
 "cells": [
  {
   "cell_type": "code",
   "execution_count": 1,
   "id": "820062fe",
   "metadata": {},
   "outputs": [
    {
     "data": {
      "text/plain": [
       "'Words length is greater than given length'"
      ]
     },
     "execution_count": 1,
     "metadata": {},
     "output_type": "execute_result"
    }
   ],
   "source": [
    "# 1. Write a Python program to find words which are greater than given length k?\n",
    "class check_length:\n",
    "    def words_length(self,word,length):\n",
    "        try :\n",
    "            if type(word) == str and type(length) ==int:\n",
    "                if (len(word)>length):\n",
    "                    return f'Words length is greater than given length'\n",
    "                else:\n",
    "                    return f'Words length is not greater than given length'\n",
    "            else :\n",
    "                raise Exception('Invalid Input')\n",
    "        except Exception as e:\n",
    "            print('Error :- ',e)\n",
    "obj = check_length()\n",
    "obj.words_length('ineuron',5)"
   ]
  },
  {
   "cell_type": "code",
   "execution_count": 2,
   "id": "b409bc01",
   "metadata": {},
   "outputs": [
    {
     "data": {
      "text/plain": [
       "'inuron'"
      ]
     },
     "execution_count": 2,
     "metadata": {},
     "output_type": "execute_result"
    }
   ],
   "source": [
    "# 2. Write a Python program for removing i-th character from a string?\n",
    "class remove_char:\n",
    "    def char_remove_str(self,string,i_char):\n",
    "        try :\n",
    "            if type(string) == str and type(i_char) ==int:\n",
    "                for i in range(len(string)):\n",
    "                    if i == i_char:\n",
    "                        string = string.replace(string[i],'')\n",
    "                return string\n",
    "            else :\n",
    "                raise Exception('Invalid Input')\n",
    "        except Exception as e:\n",
    "            print('Error :- ',e)\n",
    "obj = remove_char()\n",
    "obj.char_remove_str('ineuron',2)"
   ]
  },
  {
   "cell_type": "code",
   "execution_count": 3,
   "id": "382abe7e",
   "metadata": {},
   "outputs": [
    {
     "name": "stdout",
     "output_type": "stream",
     "text": [
      "['Welcome', 'to', 'ineuron']\n",
      "join:-  Welcome to ineuron\n"
     ]
    }
   ],
   "source": [
    "# 3. Write a Python program to split and join a string?\n",
    "class str_split_join:\n",
    "    def split_join_str(self,string):\n",
    "        try :\n",
    "            if type(string) == str:\n",
    "                string = string.split(' ')\n",
    "                print(string)\n",
    "                string = ' '.join(string)\n",
    "                print('join:- ',string)\n",
    "            else :\n",
    "                raise Exception('Invalid Input')\n",
    "        except Exception as e:\n",
    "            print('Error :- ',e)\n",
    "obj = str_split_join()\n",
    "obj.split_join_str('Welcome to ineuron')"
   ]
  },
  {
   "cell_type": "code",
   "execution_count": 4,
   "id": "aa8f1789",
   "metadata": {},
   "outputs": [
    {
     "data": {
      "text/plain": [
       "'string is binary'"
      ]
     },
     "execution_count": 4,
     "metadata": {},
     "output_type": "execute_result"
    }
   ],
   "source": [
    "# 4. Write a Python to check if a given string is binary string or not?\n",
    "class check_binary:\n",
    "    def binary_str(self,string):\n",
    "        length = len(string)\n",
    "        count_bin = 0\n",
    "        try :\n",
    "            if type(string) == str:\n",
    "                for i in string:\n",
    "                    if i == '1' or i == '0':\n",
    "                        count_bin += 1\n",
    "                if count_bin == length:\n",
    "                    return f'string is binary'\n",
    "                else:\n",
    "                    return f'String is not binary'\n",
    "            else :\n",
    "                raise Exception('Invalid Input')\n",
    "        except Exception as e:\n",
    "            print('Error :- ',e)\n",
    "            \n",
    "obj = check_binary()\n",
    "obj.binary_str('1010')"
   ]
  },
  {
   "cell_type": "code",
   "execution_count": 5,
   "id": "8c66379b",
   "metadata": {},
   "outputs": [
    {
     "data": {
      "text/plain": [
       "['e', 'u', 'r', 'o', 'j', 'a', 'v']"
      ]
     },
     "execution_count": 5,
     "metadata": {},
     "output_type": "execute_result"
    }
   ],
   "source": [
    "# 5. Write a Python program to find uncommon words from two Strings?\n",
    "class uncommon_word:\n",
    "    def string_uncommon_words(self,str1,str2):\n",
    "        words = []\n",
    "        try :\n",
    "            if type(str1) == str and type(str2) == str:\n",
    "                for i in str1:\n",
    "                    if i not in str2:\n",
    "                        words.append(i)\n",
    "                for i in str2:\n",
    "                    if i not in str1:\n",
    "                        words.append(i)\n",
    "                return words\n",
    "            else :\n",
    "                raise Exception('Invalid Input')\n",
    "        except Exception as e:\n",
    "            print('Error :- ',e)\n",
    "            \n",
    "obj = uncommon_word()\n",
    "obj.string_uncommon_words('ineuron','janviii')"
   ]
  },
  {
   "cell_type": "code",
   "execution_count": 6,
   "id": "f9dd3a3c",
   "metadata": {},
   "outputs": [
    {
     "data": {
      "text/plain": [
       "['n', 'o']"
      ]
     },
     "execution_count": 6,
     "metadata": {},
     "output_type": "execute_result"
    }
   ],
   "source": [
    "# 6. Write a Python to find all duplicate characters in string?\n",
    "class duplicate_char:\n",
    "    def duplicate_char_str(self,string):\n",
    "        try :\n",
    "            if type(string) == str :\n",
    "                list_str=[i for i in string]\n",
    "                duplicate = []\n",
    "                for i in list_str:\n",
    "                    if list_str.count(i)>1:\n",
    "                        if i not in duplicate:\n",
    "                            duplicate.append(i)\n",
    "                return duplicate\n",
    "            else :\n",
    "                raise Exception('Invalid Input')\n",
    "        except Exception as e:\n",
    "            print('Error :- ',e)\n",
    "\n",
    "obj = duplicate_char()\n",
    "obj.duplicate_char_str('ineuroon')"
   ]
  },
  {
   "cell_type": "code",
   "execution_count": 7,
   "id": "a6acc27d",
   "metadata": {},
   "outputs": [
    {
     "data": {
      "text/plain": [
       "'String contain special characters'"
      ]
     },
     "execution_count": 7,
     "metadata": {},
     "output_type": "execute_result"
    }
   ],
   "source": [
    "# 7. Write a Python Program to check if a string contains any special character?\n",
    "import string\n",
    "class str_special_char:\n",
    "    def special_char_str(self,string):\n",
    "        special_char = '[@_!#$%^&*()<>?/\\|}{~:]'\n",
    "        counter=0\n",
    "        try :\n",
    "            if type(string) == str :\n",
    "                for i in string:\n",
    "                    if i in special_char:\n",
    "                        counter +=1\n",
    "                if counter > 1:\n",
    "                    return 'String contain special characters'\n",
    "                else:\n",
    "                    return 'String doesnot contain special characters'\n",
    "            else :\n",
    "                raise Exception('Invalid Input')\n",
    "        except Exception as e:\n",
    "            print('Error :- ',e)\n",
    "            \n",
    "obj=str_special_char()\n",
    "obj.special_char_str('jan$vii__')"
   ]
  }
 ],
 "metadata": {
  "kernelspec": {
   "display_name": "Python 3 (ipykernel)",
   "language": "python",
   "name": "python3"
  },
  "language_info": {
   "codemirror_mode": {
    "name": "ipython",
    "version": 3
   },
   "file_extension": ".py",
   "mimetype": "text/x-python",
   "name": "python",
   "nbconvert_exporter": "python",
   "pygments_lexer": "ipython3",
   "version": "3.9.7"
  }
 },
 "nbformat": 4,
 "nbformat_minor": 5
}
