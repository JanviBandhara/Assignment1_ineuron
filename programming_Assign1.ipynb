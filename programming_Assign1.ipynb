{
 "cells": [
  {
   "cell_type": "code",
   "execution_count": 2,
   "id": "23016e66",
   "metadata": {},
   "outputs": [
    {
     "name": "stdout",
     "output_type": "stream",
     "text": [
      "Hello python\n"
     ]
    }
   ],
   "source": [
    "# 1. Write a Python program to print \"Hello Python\"?\n",
    "print(\"Hello python\")"
   ]
  },
  {
   "cell_type": "code",
   "execution_count": 5,
   "id": "236d931b",
   "metadata": {},
   "outputs": [
    {
     "name": "stdout",
     "output_type": "stream",
     "text": [
      "Enter value of a :- 10\n",
      "Enter value of b :- 5\n",
      "Addition of 10 and 5 is 15\n",
      "Addition of 10 and 5 is 2.0\n"
     ]
    }
   ],
   "source": [
    "# 2. Write a Python program to do arithmetical operations addition and division.?\n",
    "a = int(input(\"Enter value of a :- \"))\n",
    "b = int(input(\"Enter value of b :- \"))\n",
    "print(f\"Addition of {a} and {b} is {a+b}\")\n",
    "print(f\"Addition of {a} and {b} is {a/b}\")"
   ]
  },
  {
   "cell_type": "code",
   "execution_count": 6,
   "id": "32662b96",
   "metadata": {},
   "outputs": [
    {
     "name": "stdout",
     "output_type": "stream",
     "text": [
      "Enter value of base :- 10\n",
      "Enter value of height :- 5\n",
      "Area of Triangle is 25.0\n"
     ]
    }
   ],
   "source": [
    "# 3. Write a Python program to find the area of a triangle?\n",
    "Base = int(input(\"Enter value of base :- \"))\n",
    "Height = int(input(\"Enter value of height :- \"))\n",
    "print(f'Area of Triangle is {Base*Height/2}')"
   ]
  },
  {
   "cell_type": "code",
   "execution_count": 9,
   "id": "362fc508",
   "metadata": {},
   "outputs": [
    {
     "name": "stdout",
     "output_type": "stream",
     "text": [
      "Enter value of a :- 2\n",
      "Enter value of b :- 5\n",
      "Before Swapping values of a = 2 and b = 5\n",
      "After Swapping values of a = 5 and b = 2\n"
     ]
    }
   ],
   "source": [
    "# 4. Write a Python program to swap two variables?\n",
    "a = int(input(\"Enter value of a :- \"))\n",
    "b = int(input(\"Enter value of b :- \"))\n",
    "print(f'Before Swapping values of a = {a} and b = {b}')\n",
    "temp = a\n",
    "a = b\n",
    "b = temp\n",
    "print(f'After Swapping values of a = {a} and b = {b}')"
   ]
  },
  {
   "cell_type": "code",
   "execution_count": 15,
   "id": "d352e4cb",
   "metadata": {},
   "outputs": [
    {
     "name": "stdout",
     "output_type": "stream",
     "text": [
      "0.4346948634508069\n"
     ]
    }
   ],
   "source": [
    "# 5. Write a Python program to generate a random number?\n",
    "import random\n",
    "print(random.random())"
   ]
  }
 ],
 "metadata": {
  "kernelspec": {
   "display_name": "Python 3 (ipykernel)",
   "language": "python",
   "name": "python3"
  },
  "language_info": {
   "codemirror_mode": {
    "name": "ipython",
    "version": 3
   },
   "file_extension": ".py",
   "mimetype": "text/x-python",
   "name": "python",
   "nbconvert_exporter": "python",
   "pygments_lexer": "ipython3",
   "version": "3.9.7"
  }
 },
 "nbformat": 4,
 "nbformat_minor": 5
}
