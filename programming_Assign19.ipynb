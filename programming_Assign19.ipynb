{
 "cells": [
  {
   "cell_type": "markdown",
   "id": "9be6f868",
   "metadata": {},
   "source": [
    "## Question1\n",
    "Create a function that takes a string and returns a string in which each character is repeated\n",
    "once.\n",
    "### Examples\n",
    "* double_char(&quot;String&quot;) ➞ &quot;SSttrriinngg&quot;\n",
    "* double_char(&quot;Hello World!&quot;) ➞ &quot;HHeelllloo WWoorrlldd!!&quot;\n",
    "* double_char(&quot;1234!_ &quot;) ➞ &quot;11223344!!__ &quot;"
   ]
  },
  {
   "cell_type": "code",
   "execution_count": 1,
   "id": "28f808e1",
   "metadata": {},
   "outputs": [
    {
     "data": {
      "text/plain": [
       "'HHeelllloo  WWoorrlldd!!'"
      ]
     },
     "execution_count": 1,
     "metadata": {},
     "output_type": "execute_result"
    }
   ],
   "source": [
    "class character:\n",
    "    def double_char(self,s):\n",
    "        try:\n",
    "            l1=[]\n",
    "            for i in s:\n",
    "                l1.append(i)\n",
    "                l1.append(i)\n",
    "            s1 = ''\n",
    "            for i in l1:\n",
    "                s1 = s1+str(i)\n",
    "            return s1\n",
    "        except Exception as e:\n",
    "            print('Error :- ',e)\n",
    "    \n",
    "obj = character()\n",
    "obj.double_char('Hello World!')"
   ]
  },
  {
   "cell_type": "markdown",
   "id": "97f75fb3",
   "metadata": {},
   "source": [
    "## Question2\n",
    "Create a function that reverses a boolean value and returns the string &quot;boolean expected&quot;\n",
    "if another variable type is given.\n",
    "### Examples\n",
    "* reverse(True) ➞ False\n",
    "* reverse(False) ➞ True\n",
    "* reverse(0) ➞ &quot;boolean expected&quot;\n",
    "* reverse(None) ➞ &quot;boolean expected&quot;"
   ]
  },
  {
   "cell_type": "code",
   "execution_count": 2,
   "id": "01d8ff2f",
   "metadata": {},
   "outputs": [
    {
     "data": {
      "text/plain": [
       "'boolean expected'"
      ]
     },
     "execution_count": 2,
     "metadata": {},
     "output_type": "execute_result"
    }
   ],
   "source": [
    "class boolean:\n",
    "    def reverse_bool(self,value):\n",
    "        try :\n",
    "            if value == True:\n",
    "                return False\n",
    "            elif value == False:\n",
    "                return True\n",
    "            else:\n",
    "                return 'boolean expected'\n",
    "        except Exception as e:\n",
    "            print('Error :-',e)\n",
    "        \n",
    "obj = boolean()\n",
    "obj.reverse_bool(12)"
   ]
  },
  {
   "cell_type": "markdown",
   "id": "186b6480",
   "metadata": {},
   "source": [
    "## Question3\n",
    "Create a function that returns the thickness (in meters) of a piece of paper after folding it n\n",
    "number of times. The paper starts off with a thickness of 0.5mm.\n",
    "### Examples\n",
    "* num_layers(1) ➞ '0.001m'\n",
    "Paper folded once is 1mm (equal to 0.001m)\n",
    "* num_layers(4) ➞ '0.008m'\n",
    " Paper folded 4 times is 8mm (equal to 0.008m)\n",
    "* num_layers(21) ➞ '1048.576m'\n",
    "Paper folded 21 times is 1048576mm (equal to 1048.576m)"
   ]
  },
  {
   "cell_type": "code",
   "execution_count": 3,
   "id": "34d0a981",
   "metadata": {},
   "outputs": [
    {
     "data": {
      "text/plain": [
       "'1048.576m'"
      ]
     },
     "execution_count": 3,
     "metadata": {},
     "output_type": "execute_result"
    }
   ],
   "source": [
    "class thickness_paper:\n",
    "    def num_layers(self,value):\n",
    "        try:\n",
    "            thickness = 0.0005\n",
    "            l1= []\n",
    "            for i in range(1,value+1):\n",
    "                mm = str(thickness * (2**i))+'m'\n",
    "                l1.append(mm)\n",
    "            return l1[-1]\n",
    "        except Exception as e:\n",
    "            print('Error :- ',e)\n",
    "    \n",
    "obj = thickness_paper()\n",
    "obj.num_layers(21)"
   ]
  },
  {
   "cell_type": "markdown",
   "id": "8acc4bba",
   "metadata": {},
   "source": [
    "## Question4\n",
    "Create a function that takes a single string as argument and returns an ordered list containing\n",
    "the indices of all capital letters in the string.\n",
    "### Examples\n",
    "* index_of_caps(&quot;eDaBiT&quot;) ➞ [1, 3, 5]\n",
    "* index_of_caps(&quot;eQuINoX&quot;) ➞ [1, 3, 4, 6]\n",
    "* index_of_caps(&quot;determine&quot;) ➞ []\n",
    "* index_of_caps(&quot;STRIKE&quot;) ➞ [0, 1, 2, 3, 4, 5]\n",
    "* index_of_caps(&quot;sUn&quot;) ➞ [1]"
   ]
  },
  {
   "cell_type": "code",
   "execution_count": 4,
   "id": "31f988d2",
   "metadata": {},
   "outputs": [
    {
     "data": {
      "text/plain": [
       "[1, 3, 4, 6]"
      ]
     },
     "execution_count": 4,
     "metadata": {},
     "output_type": "execute_result"
    }
   ],
   "source": [
    "class capital_letter_index:\n",
    "    def index_of_caps(self,s):\n",
    "        try:\n",
    "            l2 =[i for i in range(len(s)) if s[i].isupper()]\n",
    "            return l2\n",
    "        except Exception as e:\n",
    "            print('Error :- ',e)\n",
    "    \n",
    "obj = capital_letter_index()\n",
    "obj.index_of_caps(\"eQuINoX\")"
   ]
  },
  {
   "cell_type": "markdown",
   "id": "60f8f706",
   "metadata": {},
   "source": [
    "## Question5\n",
    "Using list comprehensions, create a function that finds all even numbers from 1 to the given\n",
    "number.\n",
    "### Examples\n",
    "* find_even_nums(8) ➞ [2, 4, 6, 8]\n",
    "* find_even_nums(4) ➞ [2, 4]\n",
    "* find_even_nums(2) ➞ [2]"
   ]
  },
  {
   "cell_type": "code",
   "execution_count": 5,
   "id": "2ebfa8e0",
   "metadata": {},
   "outputs": [
    {
     "data": {
      "text/plain": [
       "[2, 4, 6, 8]"
      ]
     },
     "execution_count": 5,
     "metadata": {},
     "output_type": "execute_result"
    }
   ],
   "source": [
    "class even_num:\n",
    "    def find_even_nums(self,n):\n",
    "        try:\n",
    "            l1 = [i for i in range(1,n+1) if i%2==0]\n",
    "            return l1\n",
    "        except Exception as e:\n",
    "            print('Error :- ',e)\n",
    "    \n",
    "obj = even_num()\n",
    "obj.find_even_nums(8)"
   ]
  },
  {
   "cell_type": "code",
   "execution_count": null,
   "id": "7f15a5b5",
   "metadata": {},
   "outputs": [],
   "source": []
  }
 ],
 "metadata": {
  "kernelspec": {
   "display_name": "Python 3 (ipykernel)",
   "language": "python",
   "name": "python3"
  },
  "language_info": {
   "codemirror_mode": {
    "name": "ipython",
    "version": 3
   },
   "file_extension": ".py",
   "mimetype": "text/x-python",
   "name": "python",
   "nbconvert_exporter": "python",
   "pygments_lexer": "ipython3",
   "version": "3.9.7"
  }
 },
 "nbformat": 4,
 "nbformat_minor": 5
}
