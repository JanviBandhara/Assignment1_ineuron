{
 "cells": [
  {
   "cell_type": "code",
   "execution_count": null,
   "id": "bfdd5a76",
   "metadata": {},
   "outputs": [],
   "source": [
    "#1) What is the difference between enclosing a list comprehension in square brackets and parentheses?\n",
    "--> Square brackets indicates its list comprehension while parentheses return the generator object."
   ]
  },
  {
   "cell_type": "code",
   "execution_count": 4,
   "id": "108b354f",
   "metadata": {},
   "outputs": [
    {
     "name": "stdout",
     "output_type": "stream",
     "text": [
      "[0, 1, 2, 3, 4] <class 'list'>\n",
      "<generator object <genexpr> at 0x00000178D2666B30> <class 'list'>\n"
     ]
    }
   ],
   "source": [
    "list_com = [value for value in range(5)]\n",
    "print(list_com,type(list_com))\n",
    "gen_com = (value for value in range(5))\n",
    "print(gen_com,type(list_com))"
   ]
  },
  {
   "cell_type": "code",
   "execution_count": null,
   "id": "b0d33390",
   "metadata": {},
   "outputs": [],
   "source": [
    "#2) What is the relationship between generators and iterators?\n",
    "--> Iterators are the objects that use the next() method to get the next value of the sequence. \n",
    "--> A generator is a function that produces or yields a sequence of values using a yield statement. \n",
    "--> Classes are used to Implement the iterators. \n",
    "--> Functions are used to implement the generator."
   ]
  },
  {
   "cell_type": "code",
   "execution_count": null,
   "id": "63ccc720",
   "metadata": {},
   "outputs": [],
   "source": [
    "#3) What are the signs that a function is a generator function?\n",
    "--> if yield keyword is written instead of return then it is an sign of generator function."
   ]
  },
  {
   "cell_type": "code",
   "execution_count": null,
   "id": "f9e1e9f2",
   "metadata": {},
   "outputs": [],
   "source": [
    "#4) What is the purpose of a yield statement?\n",
    "--> The yield statement returns a generator object to the one who calls the function which contains yield, instead of simply returning a value."
   ]
  },
  {
   "cell_type": "code",
   "execution_count": null,
   "id": "3476d87d",
   "metadata": {},
   "outputs": [],
   "source": [
    "#5) What is the relationship between map calls and list comprehensions? Make a comparison and contrast between the two.\n",
    "--> List comprehension is more concise and easier to read as compared to map.\n",
    "--> List comprehension allows filtering. In map, we have no such facility. For example, to print all even numbers in range of 100, we can write [n for n in range(100) if n%2 == 0]. There is no alternate for it in map.\n",
    "--> List comprehension are used when a list of results is required as map only returns a map object and does not return any list.\n",
    "--> List comprehension is faster than map when we need to evaluate expressions that are too long or complicated to express.\n",
    "--> Map is faster in case of calling an already defined function (as no lambda is required)."
   ]
  }
 ],
 "metadata": {
  "kernelspec": {
   "display_name": "Python 3 (ipykernel)",
   "language": "python",
   "name": "python3"
  },
  "language_info": {
   "codemirror_mode": {
    "name": "ipython",
    "version": 3
   },
   "file_extension": ".py",
   "mimetype": "text/x-python",
   "name": "python",
   "nbconvert_exporter": "python",
   "pygments_lexer": "ipython3",
   "version": "3.9.7"
  }
 },
 "nbformat": 4,
 "nbformat_minor": 5
}
