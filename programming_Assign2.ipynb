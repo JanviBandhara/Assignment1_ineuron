{
 "cells": [
  {
   "cell_type": "code",
   "execution_count": 18,
   "id": "6cea28e3",
   "metadata": {},
   "outputs": [
    {
     "name": "stdout",
     "output_type": "stream",
     "text": [
      "Enter Kilometer :- 15\n",
      "kilometer =  9.32056788356001 miles\n"
     ]
    }
   ],
   "source": [
    "# 1. Write a Python program to convert kilometers to miles?\n",
    "class conversion_km_m:\n",
    "    def km_to_m(self):\n",
    "        km = int(input(\"Enter Kilometer :- \"))\n",
    "        m = km/1.609344\n",
    "        return m\n",
    "obj = conversion()\n",
    "print(\"kilometer = \",obj.km_to_m(),\"miles\")"
   ]
  },
  {
   "cell_type": "code",
   "execution_count": 22,
   "id": "f3cb024f",
   "metadata": {},
   "outputs": [
    {
     "name": "stdout",
     "output_type": "stream",
     "text": [
      "Enter celsius :- 56\n",
      "Celsius =  132 °F\n"
     ]
    }
   ],
   "source": [
    "# 2. Write a Python program to convert Celsius to Fahrenheit?\n",
    "class conversion_C_F:\n",
    "    def cel_fah(self):\n",
    "        cel = int(input(\"Enter celsius :- \"))\n",
    "        fah = int((cel * 1.8) + 32)\n",
    "        return fah\n",
    "obj = conversion_C_F()\n",
    "print(\"Celsius = \",obj.cel_fah(),\"°F\")"
   ]
  },
  {
   "cell_type": "code",
   "execution_count": 6,
   "id": "1a803d64",
   "metadata": {},
   "outputs": [
    {
     "name": "stdout",
     "output_type": "stream",
     "text": [
      "    January 2025\n",
      "Mo Tu We Th Fr Sa Su\n",
      "       1  2  3  4  5\n",
      " 6  7  8  9 10 11 12\n",
      "13 14 15 16 17 18 19\n",
      "20 21 22 23 24 25 26\n",
      "27 28 29 30 31\n",
      "\n",
      "                                  2020\n",
      "\n",
      "      January                   February                   March\n",
      "Mo Tu We Th Fr Sa Su      Mo Tu We Th Fr Sa Su      Mo Tu We Th Fr Sa Su\n",
      "       1  2  3  4  5                      1  2                         1\n",
      " 6  7  8  9 10 11 12       3  4  5  6  7  8  9       2  3  4  5  6  7  8\n",
      "13 14 15 16 17 18 19      10 11 12 13 14 15 16       9 10 11 12 13 14 15\n",
      "20 21 22 23 24 25 26      17 18 19 20 21 22 23      16 17 18 19 20 21 22\n",
      "27 28 29 30 31            24 25 26 27 28 29         23 24 25 26 27 28 29\n",
      "                                                    30 31\n",
      "\n",
      "       April                      May                       June\n",
      "Mo Tu We Th Fr Sa Su      Mo Tu We Th Fr Sa Su      Mo Tu We Th Fr Sa Su\n",
      "       1  2  3  4  5                   1  2  3       1  2  3  4  5  6  7\n",
      " 6  7  8  9 10 11 12       4  5  6  7  8  9 10       8  9 10 11 12 13 14\n",
      "13 14 15 16 17 18 19      11 12 13 14 15 16 17      15 16 17 18 19 20 21\n",
      "20 21 22 23 24 25 26      18 19 20 21 22 23 24      22 23 24 25 26 27 28\n",
      "27 28 29 30               25 26 27 28 29 30 31      29 30\n",
      "\n",
      "        July                     August                  September\n",
      "Mo Tu We Th Fr Sa Su      Mo Tu We Th Fr Sa Su      Mo Tu We Th Fr Sa Su\n",
      "       1  2  3  4  5                      1  2          1  2  3  4  5  6\n",
      " 6  7  8  9 10 11 12       3  4  5  6  7  8  9       7  8  9 10 11 12 13\n",
      "13 14 15 16 17 18 19      10 11 12 13 14 15 16      14 15 16 17 18 19 20\n",
      "20 21 22 23 24 25 26      17 18 19 20 21 22 23      21 22 23 24 25 26 27\n",
      "27 28 29 30 31            24 25 26 27 28 29 30      28 29 30\n",
      "                          31\n",
      "\n",
      "      October                   November                  December\n",
      "Mo Tu We Th Fr Sa Su      Mo Tu We Th Fr Sa Su      Mo Tu We Th Fr Sa Su\n",
      "          1  2  3  4                         1          1  2  3  4  5  6\n",
      " 5  6  7  8  9 10 11       2  3  4  5  6  7  8       7  8  9 10 11 12 13\n",
      "12 13 14 15 16 17 18       9 10 11 12 13 14 15      14 15 16 17 18 19 20\n",
      "19 20 21 22 23 24 25      16 17 18 19 20 21 22      21 22 23 24 25 26 27\n",
      "26 27 28 29 30 31         23 24 25 26 27 28 29      28 29 30 31\n",
      "                          30\n",
      "\n"
     ]
    }
   ],
   "source": [
    "# 3. Write a Python program to display calendar?\n",
    "import calendar\n",
    "class display_calendar:\n",
    "    def calendar_particular_month(self,year,month):\n",
    "        print(calendar.month(year,month),end = \"\\n\")\n",
    "        #return calendar.month(year,month) \n",
    "    \n",
    "    def calendar_year(self,year):\n",
    "        print(calendar.calendar(year,2,1,6),end= \"\\n\")\n",
    "        \n",
    "obj = display_calendar()\n",
    "obj.calendar_particular_month(2025,1)\n",
    "obj.calendar_year(2020)"
   ]
  },
  {
   "cell_type": "code",
   "execution_count": 26,
   "id": "96452bbf",
   "metadata": {
    "scrolled": true
   },
   "outputs": [
    {
     "name": "stdout",
     "output_type": "stream",
     "text": [
      "Outputs are (-0.8507810593582121+0j) and (2.350781059358212+0j) \n"
     ]
    }
   ],
   "source": [
    "# 4. Write a Python program to solve quadratic equation? \n",
    "# ax² - bx - c\n",
    "import cmath\n",
    "class quadratic_equation:\n",
    "    def solve_equation(self,a,b,c):\n",
    "        root = (b**2) - (4*a*c)\n",
    "        output_plus = (-b+cmath.sqrt(root))/(2*a)\n",
    "        output_minus = (-b-cmath.sqrt(root))/(2*a)\n",
    "        \n",
    "        print(f\"Outputs are {output_minus} and {output_plus} \")\n",
    "\n",
    "obj = quadratic_equation()\n",
    "obj.solve_equation(2,-3,-4)"
   ]
  },
  {
   "cell_type": "code",
   "execution_count": 13,
   "id": "05872ed9",
   "metadata": {},
   "outputs": [
    {
     "data": {
      "text/plain": [
       "(50, 20)"
      ]
     },
     "execution_count": 13,
     "metadata": {},
     "output_type": "execute_result"
    }
   ],
   "source": [
    "# 5. Write a Python program to swap two variables without temp variable?\n",
    "class swaping:\n",
    "    def swap(self,a,b):\n",
    "        a = abs(a+b)\n",
    "        b = abs(b-a)\n",
    "        a = abs(a-b)\n",
    "        return a,b\n",
    "obj = swaping()\n",
    "obj.swap(20,50)"
   ]
  }
 ],
 "metadata": {
  "kernelspec": {
   "display_name": "Python 3 (ipykernel)",
   "language": "python",
   "name": "python3"
  },
  "language_info": {
   "codemirror_mode": {
    "name": "ipython",
    "version": 3
   },
   "file_extension": ".py",
   "mimetype": "text/x-python",
   "name": "python",
   "nbconvert_exporter": "python",
   "pygments_lexer": "ipython3",
   "version": "3.9.7"
  }
 },
 "nbformat": 4,
 "nbformat_minor": 5
}
