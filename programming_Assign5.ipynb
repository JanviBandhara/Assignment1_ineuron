{
 "cells": [
  {
   "cell_type": "code",
   "execution_count": 1,
   "id": "6ba22eb7",
   "metadata": {},
   "outputs": [],
   "source": [
    "# 1. Write a Python Program to Find LCM?\n",
    "import logging\n",
    "logging.basicConfig(filename='programming_assign5.log',level = logging.DEBUG, format = '%(levelname)s %(name)s %(message)s')\n",
    "class lcm:\n",
    "    logging.info(\"Into class lcm.\")\n",
    "    def twonum_Lcm(self,n1,n2):\n",
    "        '''This Function will find the lcm between two numbers'''\n",
    "        logging.info(f'The numbers Entered by user is {n1} and {n2}.')\n",
    "        for i in range(1,max(n1,n2)):\n",
    "            if n1 % i == n2 % i==0:\n",
    "                hcf = i\n",
    "        lcm = (n1*n2)//hcf\n",
    "        logging.info(f'Lcm is {lcm}.')\n",
    "        return lcm"
   ]
  },
  {
   "cell_type": "code",
   "execution_count": 2,
   "id": "d6d68a19",
   "metadata": {},
   "outputs": [
    {
     "data": {
      "text/plain": [
       "84"
      ]
     },
     "execution_count": 2,
     "metadata": {},
     "output_type": "execute_result"
    }
   ],
   "source": [
    "obj =lcm()\n",
    "obj.twonum_Lcm(12,14)"
   ]
  },
  {
   "cell_type": "code",
   "execution_count": 3,
   "id": "6365342e",
   "metadata": {},
   "outputs": [],
   "source": [
    "# 2. Write a Python Program to Find HCF?\n",
    "import logging\n",
    "logging.basicConfig(filename='programming_assign5.log',level = logging.DEBUG, format = '%(levelname)s %(name)s %(message)s')\n",
    "class hcf:\n",
    "    logging.info(\"Into class hcf.\")\n",
    "    def twonum_hcf(self,n1,n2):\n",
    "        '''This Function will find the hcf between two numbers'''\n",
    "        logging.info(f'The numbers Entered by user is {n1} and {n2}.')\n",
    "        for i in range(1,max(n1,n2)):\n",
    "            if n1 % i == n2 % i==0:\n",
    "                hcf = i\n",
    "                logging.info(f'Hcf is {hcf}.')\n",
    "        return hcf"
   ]
  },
  {
   "cell_type": "code",
   "execution_count": 4,
   "id": "65e31b3d",
   "metadata": {},
   "outputs": [
    {
     "data": {
      "text/plain": [
       "2"
      ]
     },
     "execution_count": 4,
     "metadata": {},
     "output_type": "execute_result"
    }
   ],
   "source": [
    "obj =hcf()\n",
    "obj.twonum_hcf(12,14)"
   ]
  },
  {
   "cell_type": "code",
   "execution_count": 5,
   "id": "4a46b613",
   "metadata": {},
   "outputs": [],
   "source": [
    "# 3. Write a Python Program to Convert Decimal to Binary, Octal and Hexadecimal?\n",
    "import logging\n",
    "logging.basicConfig(filename='programming_assign5.log',level = logging.DEBUG, format = '%(levelname)s %(name)s %(message)s')\n",
    "class convertion:\n",
    "    logging.info(\"Into class conversion.\")\n",
    "    def dec_bin(self,value):\n",
    "        '''This Function will convert the decimal number into binary'''\n",
    "        logging.info(f'The number Entered by user is {value}.')\n",
    "        l1 = []\n",
    "        binary = ''\n",
    "        while value > 0:\n",
    "            rem = value % 2\n",
    "            binary = binary+str(rem)\n",
    "            l1.append(rem)\n",
    "            value = value//2\n",
    "        logging.info(f'Binary number is {binary[::-1]}.')\n",
    "        return binary[::-1]\n",
    "    \n",
    "    def dec_oct(self,value):\n",
    "        '''This Function will convert the decimal number into octal'''\n",
    "        logging.info(f'The number Entered by user is {value}.')\n",
    "        l1 = []\n",
    "        octal = ''\n",
    "        while value > 0:\n",
    "            rem = value % 8\n",
    "            octal = octal+str(rem)\n",
    "            l1.append(rem)\n",
    "            value = value//8\n",
    "        logging.info(f'octal number is {octal[::-1]}.')\n",
    "        return octal[::-1]\n",
    "    \n",
    "    def dec_hex(self,value):\n",
    "        '''This Function will convert the decimal number into hexadecimal'''\n",
    "        logging.info(f'The number Entered by user is {value}.')\n",
    "        l1 = []\n",
    "        hexa = ''\n",
    "        hexachar = ['0','1','2','3','4','5','6','7','8','9','A','B','C','D','E','F']\n",
    "        while value > 0:\n",
    "            rem = value % 16\n",
    "            hexa = hexa+hexachar[rem]\n",
    "            l1.append(rem)\n",
    "            value = value//16\n",
    "        logging.info(f'hexadecimal number is {hexa[::-1]}.')\n",
    "        return hexa[::-1]"
   ]
  },
  {
   "cell_type": "code",
   "execution_count": 6,
   "id": "05c93d0b",
   "metadata": {},
   "outputs": [
    {
     "name": "stdout",
     "output_type": "stream",
     "text": [
      "Decimal to binary :-  1010\n",
      "Decimaml to octal :-  12\n",
      "Decimaml to Heaxdecimaml :-  5\n"
     ]
    }
   ],
   "source": [
    "obj = convertion()\n",
    "print (\"Decimal to binary :- \",obj.dec_bin(10))\n",
    "print(\"Decimaml to octal :- \",obj.dec_oct(10))\n",
    "print(\"Decimaml to Heaxdecimaml :- \",obj.dec_hex(5))"
   ]
  },
  {
   "cell_type": "code",
   "execution_count": 7,
   "id": "505dc605",
   "metadata": {},
   "outputs": [],
   "source": [
    "# 4. Write a Python Program To Find ASCII value of a character?\n",
    "import logging\n",
    "logging.basicConfig(filename='programming_assign5.log',level = logging.DEBUG, format = '%(levelname)s %(name)s %(message)s')\n",
    "class Ascii_char:\n",
    "    logging.info(\"Into class Ascii_char.\")\n",
    "    def find_ascii(self,character):\n",
    "        logging.info(f'The character entered is {character}.')\n",
    "        logging.info(f'The characters ascii value is {ord(character)}.')\n",
    "        return ord(character)"
   ]
  },
  {
   "cell_type": "code",
   "execution_count": 8,
   "id": "d19fe42e",
   "metadata": {},
   "outputs": [
    {
     "data": {
      "text/plain": [
       "65"
      ]
     },
     "execution_count": 8,
     "metadata": {},
     "output_type": "execute_result"
    }
   ],
   "source": [
    "obj = Ascii_char()\n",
    "obj.find_ascii('A')"
   ]
  },
  {
   "cell_type": "code",
   "execution_count": 9,
   "id": "59da7822",
   "metadata": {},
   "outputs": [],
   "source": [
    "# 5. Write a Python Program to Make a Simple Calculator with 4 basic mathematical operations?\n",
    "import logging\n",
    "logging.basicConfig(filename='programming_assign5.log',level = logging.DEBUG, format = '%(levelname)s %(name)s %(message)s')\n",
    "class calculator:\n",
    "    logging.info(\"Into class calculator.\")\n",
    "    def add(self,a,b):\n",
    "        logging.info(f'Addition of two entered number is {a+b}')\n",
    "        print( \"Addition of two entered number is \",a+b)\n",
    "    \n",
    "    def sub(self,a,b):\n",
    "        logging.info(f'Subtraction of two entered number is {a-b}')\n",
    "        print(\"Subtraction of two entered number is \",a-b)\n",
    "    \n",
    "    def multiply(self,a,b):\n",
    "        logging.info(f'Multiplication of two entered number is {a*b}')\n",
    "        print(\"Multiplication of two entered number is \",a*b)\n",
    "    \n",
    "    def divide(self,a,b):\n",
    "        logging.info(f'Division of two entered number is  {a//b}')\n",
    "        print(\"Division of two entered number is \",a//b)\n",
    "    \n",
    "    def options(self):\n",
    "        logging.info(f'Entering users choice for mathematical operations')\n",
    "        print(\"Select operation.\")\n",
    "        print(\"1.Add\")\n",
    "        print(\"2.Subtract\")\n",
    "        print(\"3.Multiply\")\n",
    "        print(\"4.Divide\")\n",
    "\n",
    "        while True:\n",
    "            try : \n",
    "                num1 = int(input('Enter first value :- '))\n",
    "                num2 = int(input('Enter second value :- '))\n",
    "                logging.info(f'The numbers are {num1} and {num2}')\n",
    "            except ValueError :\n",
    "                logging.info(f'The entered values are not numbers')\n",
    "                print(\"Invalid input...Enter only numbers!!\")\n",
    "                continue\n",
    "                \n",
    "            choice = input('Enter choice (1/2/3/4)')\n",
    "            logging.info(f'user choice {choice}')\n",
    "            \n",
    "            if choice == '1':\n",
    "                logging.info(f'choose Additions')\n",
    "                self.add(num1,num2)\n",
    "\n",
    "            elif choice == '2':\n",
    "                logging.info(f'choose Subtraction')\n",
    "                self.sub(num1,num2)\n",
    "\n",
    "            elif choice == '3':\n",
    "                logging.info(f'choose Multiplication')\n",
    "                self.multiply(num1,num2)\n",
    "\n",
    "            elif choice == '4':\n",
    "                logging.info(f'choose Division')\n",
    "                self.divide(num1,num2)\n",
    "\n",
    "            else:\n",
    "                logging.info(f'None of the mention')\n",
    "                print('invalid Number')\n",
    "\n",
    "            user_choice = input(\"Wanna continue the calculations? (yes/no)\")\n",
    "            if user_choice == 'no':\n",
    "                logging.info(f'Going out of the loop')\n",
    "                break\n",
    "#obj = calculator()        "
   ]
  },
  {
   "cell_type": "code",
   "execution_count": 10,
   "id": "abdfdb83",
   "metadata": {},
   "outputs": [
    {
     "name": "stdout",
     "output_type": "stream",
     "text": [
      "Select operation.\n",
      "1.Add\n",
      "2.Subtract\n",
      "3.Multiply\n",
      "4.Divide\n",
      "Enter first value :- 5\n",
      "Enter second value :- 10\n",
      "Enter choice (1/2/3/4)3\n",
      "Multiplication of two entered number is  50\n",
      "Wanna continue the calculations? (yes/no)no\n"
     ]
    }
   ],
   "source": [
    "obj = calculator()\n",
    "obj.options()"
   ]
  },
  {
   "cell_type": "code",
   "execution_count": null,
   "id": "2647bee5",
   "metadata": {},
   "outputs": [],
   "source": []
  }
 ],
 "metadata": {
  "kernelspec": {
   "display_name": "Python 3 (ipykernel)",
   "language": "python",
   "name": "python3"
  },
  "language_info": {
   "codemirror_mode": {
    "name": "ipython",
    "version": 3
   },
   "file_extension": ".py",
   "mimetype": "text/x-python",
   "name": "python",
   "nbconvert_exporter": "python",
   "pygments_lexer": "ipython3",
   "version": "3.9.7"
  }
 },
 "nbformat": 4,
 "nbformat_minor": 5
}
