{
 "cells": [
  {
   "cell_type": "markdown",
   "id": "d6fd49e9",
   "metadata": {},
   "source": [
    "## Question 1\n",
    "Create a function that takes a list of non-negative integers and strings and return a new list\n",
    "without the strings.\n",
    "### Examples\n",
    "* filter_list([1, 2, &quot;a&quot;, &quot;b&quot;]) ➞ [1, 2]\n",
    "* filter_list([1, &quot;a&quot;, &quot;b&quot;, 0, 15]) ➞ [1, 0, 15]\n",
    "* filter_list([1, 2, &quot;aasf&quot;, &quot;1&quot;, &quot;123&quot;, 123]) ➞ [1, 2, 123]"
   ]
  },
  {
   "cell_type": "code",
   "execution_count": 1,
   "id": "75511a58",
   "metadata": {},
   "outputs": [
    {
     "data": {
      "text/plain": [
       "[1, 2, 123]"
      ]
     },
     "execution_count": 1,
     "metadata": {},
     "output_type": "execute_result"
    }
   ],
   "source": [
    "class List:\n",
    "    def filter_list(self,l):\n",
    "        try:\n",
    "            for i in l:\n",
    "                if type(i) != int and type(i) != str:\n",
    "                    return 'Invalid Input'\n",
    "            l2 = [i for i in l if type(i)==int]\n",
    "            return l2\n",
    "        except Exception as e:\n",
    "            print('Error :- ',e)\n",
    "            \n",
    "obj = List()\n",
    "obj.filter_list([1, 2, \"aasf\", \"1\", \"123\", 123])"
   ]
  },
  {
   "cell_type": "markdown",
   "id": "c98d80a8",
   "metadata": {},
   "source": [
    "## Question 2\n",
    "The &quot;Reverser&quot; takes a string as input and returns that string in reverse order, with the\n",
    "opposite case.\n",
    "### Examples\n",
    "* reverse(&quot;Hello World&quot;) ➞ &quot;DLROw OLLEh&quot;\n",
    "* reverse(&quot;ReVeRsE&quot;) ➞ &quot;eSrEvEr&quot;\n",
    "* reverse(&quot;Radar&quot;) ➞ &quot;RADAr&quot;"
   ]
  },
  {
   "cell_type": "code",
   "execution_count": 2,
   "id": "17e4e646",
   "metadata": {},
   "outputs": [
    {
     "data": {
      "text/plain": [
       "'DLROw OLLEh'"
      ]
     },
     "execution_count": 2,
     "metadata": {},
     "output_type": "execute_result"
    }
   ],
   "source": [
    "class reverse_str:\n",
    "    def reverse(self,s):\n",
    "        try:\n",
    "            s = s[::-1]\n",
    "            s = s.swapcase()\n",
    "            return s\n",
    "        except Exception as e:\n",
    "            print('Error :- ',e)\n",
    "    \n",
    "obj = reverse_str()\n",
    "obj.reverse(\"Hello World\")"
   ]
  },
  {
   "cell_type": "markdown",
   "id": "db4418f9",
   "metadata": {},
   "source": [
    "## Question 3\n",
    "You can assign variables from lists like this:\n",
    "* lst = [1, 2, 3, 4, 5, 6]\n",
    "* first = lst[0]\n",
    "* middle = lst[1:-1]\n",
    "* last = lst[-1]\n",
    "* print(first) ➞ outputs 1\n",
    "* print(middle) ➞ outputs [2, 3, 4, 5]\n",
    "* print(last) ➞ outputs 6\n",
    "#### With Python 3, you can assign variables from lists in a much more succinct way. Create variables first, middle and last from the given list using destructuring assignment (check the Resources tab for some examples), where:\n",
    "* first ➞ 1\n",
    "* middle ➞ [2, 3, 4, 5]\n",
    "* last ➞ 6\n",
    "#### Your task is to unpack the list write your code here into three variables, being first,middle, and last, with middle being everything in between the first and last element. Then print all three variables."
   ]
  },
  {
   "cell_type": "code",
   "execution_count": 3,
   "id": "2f1ffbe1",
   "metadata": {},
   "outputs": [
    {
     "name": "stdout",
     "output_type": "stream",
     "text": [
      "First 1\n",
      "Middle [2, 3, 4, 5, 6, 7, 8, 9]\n",
      "last 10\n"
     ]
    }
   ],
   "source": [
    "class list_Unpacking:\n",
    "    def unpack(self,l):\n",
    "        try:\n",
    "            first = l[0]\n",
    "            last= l[-1]\n",
    "            middle = l[1:-1]\n",
    "            print('First',first)\n",
    "            print('Middle',middle)\n",
    "            print('last',last)\n",
    "        except Exception as e:\n",
    "            print('Error :- ',e)\n",
    "        \n",
    "    def unpack_list(self,l):\n",
    "        try:\n",
    "            first ,*middle,last = l\n",
    "            print('First',first)\n",
    "            print('Middle',middle)\n",
    "            print('last',last)\n",
    "        except Exception as e:\n",
    "            print('Error :- ',e)\n",
    "        \n",
    "obj = list_Unpacking()\n",
    "obj.unpack([1,2,3,4,5,6,7,8,9,10])"
   ]
  },
  {
   "cell_type": "code",
   "execution_count": 4,
   "id": "6bd53811",
   "metadata": {},
   "outputs": [
    {
     "name": "stdout",
     "output_type": "stream",
     "text": [
      "First 1\n",
      "Middle [2, 3, 4, 5, 6, 7, 8, 9]\n",
      "last 10\n"
     ]
    }
   ],
   "source": [
    "obj = list_Unpacking()\n",
    "obj.unpack_list([1,2,3,4,5,6,7,8,9,10])"
   ]
  },
  {
   "cell_type": "markdown",
   "id": "c4d90b46",
   "metadata": {},
   "source": [
    "## Question 4\n",
    "Write a function that calculates the factorial of a number recursively.\n",
    "### Examples\n",
    "* factorial(5) ➞ 120\n",
    "* factorial(3) ➞ 6\n",
    "* factorial(1) ➞ 1\n",
    "* factorial(0) ➞ 1"
   ]
  },
  {
   "cell_type": "code",
   "execution_count": 5,
   "id": "75758e1c",
   "metadata": {},
   "outputs": [
    {
     "data": {
      "text/plain": [
       "720"
      ]
     },
     "execution_count": 5,
     "metadata": {},
     "output_type": "execute_result"
    }
   ],
   "source": [
    "class factorial:\n",
    "    def fact(self,n):\n",
    "        try:\n",
    "            f= 1\n",
    "            for i in range(1,n+1):\n",
    "                f = f*i\n",
    "            return f\n",
    "        except Exception as e:\n",
    "            print('Error :- ',e)\n",
    "    \n",
    "    def recursive_fact(self,n):\n",
    "        try : \n",
    "            if n == 1:\n",
    "                return 1\n",
    "            else :\n",
    "                return (n * self.recursive_fact(n-1))\n",
    "        except Exception as e:\n",
    "            print('Error :- ',e)\n",
    "    \n",
    "obj = factorial()\n",
    "obj.fact(6)"
   ]
  },
  {
   "cell_type": "code",
   "execution_count": 6,
   "id": "70cea426",
   "metadata": {},
   "outputs": [
    {
     "data": {
      "text/plain": [
       "120"
      ]
     },
     "execution_count": 6,
     "metadata": {},
     "output_type": "execute_result"
    }
   ],
   "source": [
    "obj.recursive_fact(5)"
   ]
  },
  {
   "cell_type": "markdown",
   "id": "89e4806c",
   "metadata": {},
   "source": [
    "## Question 5\n",
    "Write a function that moves all elements of one type to the end of the list.\n",
    "### Examples (Move all the 1s to the end of the array.)\n",
    "* move_to_end([1, 3, 2, 4, 4, 1], 1) ➞ [3, 2, 4, 4, 1, 1]\n",
    "* move_to_end([7, 8, 9, 1, 2, 3, 4], 9) ➞ [7, 8, 1, 2, 3, 4, 9]\n",
    "* move_to_end([&quot;a&quot;, &quot;a&quot;, &quot;a&quot;, &quot;b&quot;], &quot;a&quot;) ➞ [&quot;b&quot;, &quot;a&quot;, &quot;a&quot;, &quot;a&quot;]"
   ]
  },
  {
   "cell_type": "code",
   "execution_count": 7,
   "id": "1ae6d1e3",
   "metadata": {},
   "outputs": [
    {
     "data": {
      "text/plain": [
       "['b', 'a', 'a', 'a']"
      ]
     },
     "execution_count": 7,
     "metadata": {},
     "output_type": "execute_result"
    }
   ],
   "source": [
    "class remove_element:\n",
    "    def move_to_end(self,l,value):\n",
    "        try :\n",
    "            count_ele = 0\n",
    "            for i in l:\n",
    "                if i == value:\n",
    "                    count_ele +=1\n",
    "            for i in range(1,count_ele+1):\n",
    "                l.remove(value)\n",
    "                l.append(value)\n",
    "            return l\n",
    "        except Exception as e:\n",
    "            print('Error :- ',e)\n",
    "    \n",
    "obj = remove_element()\n",
    "obj.move_to_end([\"a\", \"a\", \"a\", \"b\"], \"a\")"
   ]
  },
  {
   "cell_type": "code",
   "execution_count": null,
   "id": "ef5d6559",
   "metadata": {},
   "outputs": [],
   "source": []
  }
 ],
 "metadata": {
  "kernelspec": {
   "display_name": "Python 3 (ipykernel)",
   "language": "python",
   "name": "python3"
  },
  "language_info": {
   "codemirror_mode": {
    "name": "ipython",
    "version": 3
   },
   "file_extension": ".py",
   "mimetype": "text/x-python",
   "name": "python",
   "nbconvert_exporter": "python",
   "pygments_lexer": "ipython3",
   "version": "3.9.7"
  }
 },
 "nbformat": 4,
 "nbformat_minor": 5
}
