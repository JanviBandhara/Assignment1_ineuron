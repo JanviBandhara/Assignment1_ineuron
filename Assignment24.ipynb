{
 "cells": [
  {
   "cell_type": "code",
   "execution_count": null,
   "id": "cfde0085",
   "metadata": {},
   "outputs": [],
   "source": [
    "#1. What is the relationship between def statements and lambda expressions ?\n",
    "--> The def keyword is used to define normal functions, while the lambda keyword is used to define anonymous functions. These are single line of method."
   ]
  },
  {
   "cell_type": "code",
   "execution_count": null,
   "id": "a6442db9",
   "metadata": {},
   "outputs": [],
   "source": [
    "#2. What is the benefit of lambda?\n",
    "--> Lambda helps you to use a function only once and are inline functions.\n",
    "--> It's an single line of code and use it immediately."
   ]
  },
  {
   "cell_type": "code",
   "execution_count": null,
   "id": "a4beafa8",
   "metadata": {},
   "outputs": [],
   "source": [
    "#3. Compare and contrast map, filter, and reduce.\n",
    "--> map(): The map() function is a type of higher-order. This function takes another function as a parameter along with a sequence of iterables and returns an output after applying the function to each iterable present in the sequence. \n",
    "--> 2. filter(): The filter() function is used to create an output list consisting of values for which the function returns true. \n",
    "--> 3. reduce(): The reduce() function, as the name describes, applies a given function to the iterables and returns a single value"
   ]
  },
  {
   "cell_type": "code",
   "execution_count": null,
   "id": "48010eac",
   "metadata": {},
   "outputs": [],
   "source": [
    "#4. What are function annotations, and how are they used?\n",
    "--> Function annotations are completely optional both for parameters and return value.\n",
    "--> Function annotations provide a way of associating various parts of a function with arbitrary python expressions at compile time.\n",
    "--> Annotations of simple parameters def func(x: expression, y: expression = 20):\n",
    "--> Whereas the annotations for excess parameters are as − def func (**args: expression, **kwargs: expression):"
   ]
  },
  {
   "cell_type": "code",
   "execution_count": 2,
   "id": "0a387b11",
   "metadata": {},
   "outputs": [
    {
     "name": "stdout",
     "output_type": "stream",
     "text": [
      "Factorial :-  24\n"
     ]
    }
   ],
   "source": [
    "#5. What are recursive functions, and how are they used?\n",
    "# --> A recursive function is a function that calls itself during its execution. This means that the function will continue to call itself and repeat its behavior until some condition is met to return a result\n",
    "# Example:\n",
    "def factorial(x):\n",
    "    if x == 1:\n",
    "        return 1\n",
    "    else:\n",
    "        return (x * factorial(x-1))\n",
    "\n",
    "print(\"Factorial :- \", factorial(4))"
   ]
  },
  {
   "cell_type": "code",
   "execution_count": null,
   "id": "0a4ad59c",
   "metadata": {},
   "outputs": [],
   "source": [
    "#6. What are some general design guidelines for coding functions?\n",
    "--> Always use docstring to explain the functionality of thhe function.\n",
    "--> Use 4-space of indentation for increasing te code readability.\n",
    "--> Follow naming convention.\n",
    "--> Wrap lines so that they don’t exceed 79 characters.\n",
    "--> Use of regular and updated comments are valuable to both the coders and users.\n",
    "--> Constant should be represented in all caps(Example:- PIE:-3.14).\n",
    "--> Function name should be such that it should convey the purpose of the function."
   ]
  },
  {
   "cell_type": "code",
   "execution_count": null,
   "id": "7b931c0b",
   "metadata": {},
   "outputs": [],
   "source": [
    "#7. Name three or more ways that functions can communicate results to a caller.\n",
    "--> To call a function, we specify the function name with the parentheses( () ).\n",
    "--> Use of return keyword inside function which returns the results to the caller. (return)\n",
    "--> Use of print statement inside function which prints the results to the caller. (print)\n",
    "--> Use of yield keyword iside function can also prints the results to the caller. (yield)"
   ]
  }
 ],
 "metadata": {
  "kernelspec": {
   "display_name": "Python 3 (ipykernel)",
   "language": "python",
   "name": "python3"
  },
  "language_info": {
   "codemirror_mode": {
    "name": "ipython",
    "version": 3
   },
   "file_extension": ".py",
   "mimetype": "text/x-python",
   "name": "python",
   "nbconvert_exporter": "python",
   "pygments_lexer": "ipython3",
   "version": "3.9.7"
  }
 },
 "nbformat": 4,
 "nbformat_minor": 5
}
