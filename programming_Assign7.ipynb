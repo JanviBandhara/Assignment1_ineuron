{
 "cells": [
  {
   "cell_type": "code",
   "execution_count": 1,
   "id": "0878dafc",
   "metadata": {},
   "outputs": [],
   "source": [
    "# 1. Write a Python Program to find sum of array?\n",
    "class sum_array:\n",
    "    def sum_of_array(self,l1):\n",
    "        total = 0\n",
    "        for i in l1:\n",
    "            total = total + i\n",
    "        #return sum(l1)\n",
    "        return total"
   ]
  },
  {
   "cell_type": "code",
   "execution_count": 2,
   "id": "bdad0fc4",
   "metadata": {},
   "outputs": [
    {
     "data": {
      "text/plain": [
       "65"
      ]
     },
     "execution_count": 2,
     "metadata": {},
     "output_type": "execute_result"
    }
   ],
   "source": [
    "obj = sum_array()\n",
    "obj.sum_of_array([11,12,13,14,15])"
   ]
  },
  {
   "cell_type": "code",
   "execution_count": 3,
   "id": "5b375505",
   "metadata": {},
   "outputs": [],
   "source": [
    "# 2. Write a Python Program to find largest element in an array?\n",
    "class largest:\n",
    "    def largest_num(self,l1):\n",
    "        large =0\n",
    "        for i in l1:\n",
    "            if i> large:\n",
    "                large=i\n",
    "        #return max(l1)\n",
    "        return large"
   ]
  },
  {
   "cell_type": "code",
   "execution_count": 4,
   "id": "314c4e52",
   "metadata": {},
   "outputs": [
    {
     "data": {
      "text/plain": [
       "15"
      ]
     },
     "execution_count": 4,
     "metadata": {},
     "output_type": "execute_result"
    }
   ],
   "source": [
    "obj = largest()\n",
    "obj.largest_num([11,12,13,14,15])"
   ]
  },
  {
   "cell_type": "code",
   "execution_count": 5,
   "id": "22d67c5e",
   "metadata": {},
   "outputs": [],
   "source": [
    "# 3. Write a Python Program for array rotation?\n",
    "class rotation:\n",
    "    def array_rotation(self,l1,value,size):\n",
    "        rev_whole_array = l1[::-1]\n",
    "        #print(\"reverse whole array\",rev_whole_array)\n",
    "        \n",
    "        size_arr2 = len(rev_whole_array)-value\n",
    "        #print(\"Size for array2 :- \",size_arr2)\n",
    "        \n",
    "        size_arr1 = size-size_arr2\n",
    "        #print(\"Size for array1 :- \",size_arr1)\n",
    "        \n",
    "        sub_array2 = rev_whole_array[0:size_arr2] \n",
    "        #print(\"sub array 2\",sub_array2)\n",
    "        \n",
    "        sub_array1 = l1[0: size_arr1] \n",
    "        #print(\"Sub array 1\",sub_array1)\n",
    "        \n",
    "        return (sub_array2[::-1] + sub_array1)"
   ]
  },
  {
   "cell_type": "code",
   "execution_count": 6,
   "id": "09487a0f",
   "metadata": {},
   "outputs": [
    {
     "data": {
      "text/plain": [
       "[14, 15, 11, 12, 13]"
      ]
     },
     "execution_count": 6,
     "metadata": {},
     "output_type": "execute_result"
    }
   ],
   "source": [
    "obj = rotation()\n",
    "obj.array_rotation([11,12,13,14,15],3,5)"
   ]
  },
  {
   "cell_type": "code",
   "execution_count": 7,
   "id": "a8ec39de",
   "metadata": {},
   "outputs": [],
   "source": [
    "# 4. Write a Python Program to Split the array and add the first part to the end?\n",
    "class spliting:\n",
    "    def split_array(self,l1,split_value):\n",
    "        a = l1\n",
    "        #print(\"Copyied list\",a)\n",
    "        a1 = a[0:split_value]\n",
    "        #print(\"spliting values \",a1)\n",
    "        del l1[0:split_value]\n",
    "        #print('Value after Deletion',l1)\n",
    "        return l1 + a1"
   ]
  },
  {
   "cell_type": "code",
   "execution_count": 8,
   "id": "3a3fc153",
   "metadata": {},
   "outputs": [
    {
     "data": {
      "text/plain": [
       "[13, 14, 15, 11, 12]"
      ]
     },
     "execution_count": 8,
     "metadata": {},
     "output_type": "execute_result"
    }
   ],
   "source": [
    "obj = spliting()\n",
    "obj.split_array([11,12,13,14,15],2)"
   ]
  },
  {
   "cell_type": "code",
   "execution_count": 9,
   "id": "34cc2379",
   "metadata": {},
   "outputs": [],
   "source": [
    "# 5. Write a Python Program to check if given array is Monotonic?\n",
    "class monotonic:\n",
    "    def monotic_array(self,l1):\n",
    "        return (all(l1[i]<=l1[i+1] for i in range(len(l1)-1)) or all(l1[i]>=l1[i+1] for i in range(len(l1)-1)))"
   ]
  },
  {
   "cell_type": "code",
   "execution_count": 10,
   "id": "949f0374",
   "metadata": {
    "scrolled": true
   },
   "outputs": [
    {
     "data": {
      "text/plain": [
       "True"
      ]
     },
     "execution_count": 10,
     "metadata": {},
     "output_type": "execute_result"
    }
   ],
   "source": [
    "obj = monotonic()\n",
    "obj.monotic_array([4,4,5,6])"
   ]
  }
 ],
 "metadata": {
  "kernelspec": {
   "display_name": "Python 3 (ipykernel)",
   "language": "python",
   "name": "python3"
  },
  "language_info": {
   "codemirror_mode": {
    "name": "ipython",
    "version": 3
   },
   "file_extension": ".py",
   "mimetype": "text/x-python",
   "name": "python",
   "nbconvert_exporter": "python",
   "pygments_lexer": "ipython3",
   "version": "3.9.7"
  }
 },
 "nbformat": 4,
 "nbformat_minor": 5
}
