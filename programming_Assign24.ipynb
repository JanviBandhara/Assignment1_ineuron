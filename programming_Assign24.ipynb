{
 "cells": [
  {
   "cell_type": "markdown",
   "id": "dbbe9a44",
   "metadata": {},
   "source": [
    "## Question1\n",
    "Create a function that takes an integer and returns a list from 1 to the given number, where:\n",
    "1. If the number can be divided evenly by 4, amplify it by 10 (i.e. return 10 times the\n",
    "number).\n",
    "2. If the number cannot be divided evenly by 4, simply return the number.\n",
    "### Examples\n",
    "* amplify(4) ➞ [1, 2, 3, 40]\n",
    "* amplify(3) ➞ [1, 2, 3]\n",
    "* amplify(25) ➞ [1, 2, 3, 40, 5, 6, 7, 80, 9, 10, 11, 120, 13, 14, 15, 160,\n",
    "17, 18, 19, 200, 21, 22, 23, 240, 25]\n",
    "###### Notes\n",
    "1. The given integer will always be equal to or greater than 1.\n",
    "2. Include the number (see example above).\n",
    "3. To perform this problem with its intended purpose, try doing it with list comprehensions. If that&#39;s too difficult, just solve the challenge any way you can."
   ]
  },
  {
   "cell_type": "code",
   "execution_count": 1,
   "id": "9015fe09",
   "metadata": {},
   "outputs": [
    {
     "data": {
      "text/plain": [
       "[1, 2, 3, 4, 40, 5, 6, 7, 8, 80, 9, 10]"
      ]
     },
     "execution_count": 1,
     "metadata": {},
     "output_type": "execute_result"
    }
   ],
   "source": [
    "class divisible:\n",
    "    def amplify(self,n):\n",
    "        try:\n",
    "            l = []\n",
    "            for i in range(1,n+1):\n",
    "                l.append(i)\n",
    "                if i %4 == 0:\n",
    "                    l.append(i*10)\n",
    "            return l\n",
    "        except Exception as e:\n",
    "            print('Error :- ',e)\n",
    "    \n",
    "obj = divisible()\n",
    "obj.amplify(10)"
   ]
  },
  {
   "cell_type": "markdown",
   "id": "33c8311d",
   "metadata": {},
   "source": [
    "## Question2\n",
    "Create a function that takes a list of numbers and return the number that&#39;s unique.\n",
    "### Examples\n",
    "* unique([3, 3, 3, 7, 3, 3]) ➞ 7\n",
    "* unique([0, 0, 0.77, 0, 0]) ➞ 0.77\n",
    "* unique([0, 1, 1, 1, 1, 1, 1, 1]) ➞ 0\n",
    "###### Notes\n",
    "Test cases will always have exactly one unique number while all others are the same."
   ]
  },
  {
   "cell_type": "code",
   "execution_count": 2,
   "id": "426313cd",
   "metadata": {},
   "outputs": [
    {
     "data": {
      "text/plain": [
       "7"
      ]
     },
     "execution_count": 2,
     "metadata": {},
     "output_type": "execute_result"
    }
   ],
   "source": [
    "from collections import Counter\n",
    "class unique_value:\n",
    "    def unique(self,l):\n",
    "        try:\n",
    "            d = Counter(l)\n",
    "            #return [i for i in d if d[i]==1]\n",
    "            for i in d:\n",
    "                if d[i] == 1:\n",
    "                    return i\n",
    "        except Exception as e:\n",
    "            print('Error :- ',e)\n",
    "        \n",
    "obj = unique_value()\n",
    "obj.unique([3, 3, 3, 7, 3, 3])"
   ]
  },
  {
   "cell_type": "markdown",
   "id": "fb425888",
   "metadata": {},
   "source": [
    "## Question3\n",
    "Your task is to create a Circle constructor that creates a circle with a radius provided by an argument. The circles constructed must have two getters getArea() (PIr^2) and getPerimeter() (2PI*r) which give both respective areas and perimeter (circumference).\n",
    "For help with this class, I have provided you with a Rectangle constructor which you can use as a base example.\n",
    "### Examples\n",
    "* circy = Circle(11)\n",
    "* circy.getArea() -> Should return 380.132711084365\n",
    "\n",
    "* circy = Circle(4.44)\n",
    "*  circy.getPerimeter() -> Should return 27.897342763877365\n",
    "###### Notes\n",
    "Round results up to the nearest integer.\n"
   ]
  },
  {
   "cell_type": "code",
   "execution_count": 3,
   "id": "a19511f7",
   "metadata": {},
   "outputs": [
    {
     "data": {
      "text/plain": [
       "'380.13'"
      ]
     },
     "execution_count": 3,
     "metadata": {},
     "output_type": "execute_result"
    }
   ],
   "source": [
    "class Circle:\n",
    "    def getArea(self,r):\n",
    "        try:\n",
    "            pi = 3.14159265359\n",
    "            return f'{round(pi*(r*r),2)}'\n",
    "        except Exception as e:\n",
    "            print('Error :- ',e)\n",
    "    \n",
    "    def getPerimeter(self,r):\n",
    "        try: \n",
    "            pi = 3.14159265359\n",
    "            return f'{round(2*pi*r,2)}'\n",
    "        except Exception as e:\n",
    "            print('Error :- ',e)\n",
    "    \n",
    "obj = Circle()\n",
    "obj.getArea(11)"
   ]
  },
  {
   "cell_type": "code",
   "execution_count": 4,
   "id": "2e3af015",
   "metadata": {},
   "outputs": [
    {
     "data": {
      "text/plain": [
       "'27.9'"
      ]
     },
     "execution_count": 4,
     "metadata": {},
     "output_type": "execute_result"
    }
   ],
   "source": [
    "obj = Circle()\n",
    "obj.getPerimeter(4.44)"
   ]
  },
  {
   "cell_type": "markdown",
   "id": "90d235d1",
   "metadata": {},
   "source": [
    "## Question4\n",
    "Create a function that takes a list of strings and return a list, sorted from shortest to longest.\n",
    "### Examples\n",
    "* sort_by_length([\"Google\", \"Apple\", \"Microsoft\"])\n",
    "➞ [\"Apple\", \"Google\", \"Microsoft\"]\n",
    "\n",
    "* sort_by_length([\"Leonardo\", \"Michelangelo\", \"Raphael\", \"Donatello\"])\n",
    "➞ [\"Raphael\", \"Leonardo\", \"Donatello\", \"Michelangelo\"]\n",
    "\n",
    "* sort_by_length([\"Turing\", \"Einstein\", \"Jung\"])\n",
    "➞ [\"Jung\", \"Turing\", \"Einstein\"]\n",
    "###### Notes\n",
    "All test cases contain lists with strings of different lengths, so you won't have to deal with multiple strings of the same length."
   ]
  },
  {
   "cell_type": "code",
   "execution_count": 5,
   "id": "b2cd4f1b",
   "metadata": {},
   "outputs": [
    {
     "data": {
      "text/plain": [
       "\"['Raphael', 'Leonardo', 'Donatello', 'Michelangelo']\""
      ]
     },
     "execution_count": 5,
     "metadata": {},
     "output_type": "execute_result"
    }
   ],
   "source": [
    "class sort_len:\n",
    "    def sort_by_length(self,l):\n",
    "        try:\n",
    "            return f'{sorted(l,key=len)}'\n",
    "        except Exception as e:\n",
    "            print('Error :- ',e)\n",
    "            \n",
    "            \n",
    "obj = sort_len()\n",
    "obj.sort_by_length([\"Leonardo\", \"Michelangelo\", \"Raphael\", \"Donatello\"])"
   ]
  },
  {
   "cell_type": "markdown",
   "id": "9fa17afa",
   "metadata": {},
   "source": [
    "## Question5\n",
    "Create a function that validates whether three given integers form a Pythagorean triplet. The sum of the squares of the two smallest integers must equal the square of the largest number to be validated.\n",
    "\n",
    "\n",
    "### Examples\n",
    "* is_triplet(3, 4, 5) ➞ True\n",
    "3² + 4² = 25\n",
    "5² = 25\n",
    "\n",
    "* is_triplet(13, 5, 12) ➞ True\n",
    "5² + 12² = 169\n",
    "13² = 169\n",
    "\n",
    "* is_triplet(1, 2, 3) ➞ False\n",
    "1² + 2² = 5\n",
    "3² = 9\n",
    "###### Notes\n",
    "Numbers may not be given in a sorted order.\n"
   ]
  },
  {
   "cell_type": "code",
   "execution_count": 6,
   "id": "bb286151",
   "metadata": {},
   "outputs": [
    {
     "data": {
      "text/plain": [
       "False"
      ]
     },
     "execution_count": 6,
     "metadata": {},
     "output_type": "execute_result"
    }
   ],
   "source": [
    "class pythagorean_triplet:\n",
    "    def is_triplet(self,*a):\n",
    "        try:\n",
    "            l1 = [i for i in a]\n",
    "            large =  max(l1)\n",
    "            l1.remove(max(l1))\n",
    "            square_sum =0\n",
    "            for i in l1:\n",
    "                square_sum = square_sum+ (i*i)\n",
    "            if square_sum == large*large:\n",
    "                return True\n",
    "            else:\n",
    "                return False\n",
    "        except Exception as e:\n",
    "            print('Error :- ',e)\n",
    "    \n",
    "obj = pythagorean_triplet()\n",
    "obj.is_triplet(1,2,3)"
   ]
  },
  {
   "cell_type": "code",
   "execution_count": null,
   "id": "6c7cfec3",
   "metadata": {},
   "outputs": [],
   "source": []
  }
 ],
 "metadata": {
  "kernelspec": {
   "display_name": "Python 3 (ipykernel)",
   "language": "python",
   "name": "python3"
  },
  "language_info": {
   "codemirror_mode": {
    "name": "ipython",
    "version": 3
   },
   "file_extension": ".py",
   "mimetype": "text/x-python",
   "name": "python",
   "nbconvert_exporter": "python",
   "pygments_lexer": "ipython3",
   "version": "3.9.7"
  }
 },
 "nbformat": 4,
 "nbformat_minor": 5
}
