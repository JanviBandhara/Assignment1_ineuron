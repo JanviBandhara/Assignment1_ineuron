{
 "cells": [
  {
   "cell_type": "code",
   "execution_count": null,
   "id": "320a13fe",
   "metadata": {},
   "outputs": [],
   "source": [
    "#1. Create an assert statement that throws an AssertionError if the variable spam is a negative integer.\n",
    "--> assert value<0, 'negative integer not allowed'"
   ]
  },
  {
   "cell_type": "code",
   "execution_count": null,
   "id": "fbd95872",
   "metadata": {},
   "outputs": [],
   "source": [
    "# 2. Write an assert statement that triggers an AssertionError if the variables eggs and bacon contain strings that are the same as each other, even if their cases are different (that is, 'hello' and 'hello' are considered the same, and 'goodbye' and 'GOODbye' are also considered the same).\n",
    "--> assert eggs.lower() != bacon.lower(), 'The eggs and bacon variables are the same!' \n",
    "or \n",
    "--> assert eggs.upper() != bacon.upper(), 'The eggs and bacon variables are the same!'"
   ]
  },
  {
   "cell_type": "code",
   "execution_count": null,
   "id": "116ae80e",
   "metadata": {},
   "outputs": [],
   "source": [
    "# 3. Create an assert statement that throws an AssertionError every time.\n",
    "--> assert False, 'This assertion always triggers.'"
   ]
  },
  {
   "cell_type": "code",
   "execution_count": null,
   "id": "fae45fbd",
   "metadata": {},
   "outputs": [],
   "source": [
    "#4. What are the two lines that must be present in your software in order to call logging.debug()?\n",
    "--> import logging\n",
    "--> logging.basicConfig(level = logging.DEBUG, format = '%(levelname)s %(name)s %(message)s')"
   ]
  },
  {
   "cell_type": "code",
   "execution_count": null,
   "id": "7da61f02",
   "metadata": {},
   "outputs": [],
   "source": [
    "#5. What are the two lines that your program must have in order to have logging.debug() send a logging message to a file named programLog.txt?\n",
    "--> import logging\n",
    "--> logging.basicConfig(filename = 'programLog.txt',level = logging.DEBUG, format = '%(levelname)s %(name)s %(message)s')"
   ]
  },
  {
   "cell_type": "code",
   "execution_count": null,
   "id": "264cc87c",
   "metadata": {},
   "outputs": [],
   "source": [
    "#6. What are the five levels of logging?\n",
    "--> DEBUG, INFO, WARNING, ERROR, and CRITICAL"
   ]
  },
  {
   "cell_type": "code",
   "execution_count": null,
   "id": "37aa8fc3",
   "metadata": {},
   "outputs": [],
   "source": [
    "#7. What line of code would you add to your software to disable all logging messages?\n",
    "--> logging.disable(logging.CRITICAL)"
   ]
  },
  {
   "cell_type": "code",
   "execution_count": null,
   "id": "c7f67192",
   "metadata": {},
   "outputs": [],
   "source": [
    "#8.Why is using logging messages better than using print() to display the same message?\n",
    "--> Logging messages provide timestamp\n",
    "--> Logging messages are better then print() because not everytime it is possible to have the command prompt for displaying the error messages so, it is better to have an separate file in which everything is added. "
   ]
  },
  {
   "cell_type": "code",
   "execution_count": null,
   "id": "15ae212b",
   "metadata": {},
   "outputs": [],
   "source": [
    "#9. What are the differences between the Step Over, Step In, and Step Out buttons in the debugger?\n",
    "--> step over :- means that if there is a function call, it just executes it like a black box and returns the result, but you cannot see how the function was executed.\n",
    "--> step In :- means that if there is a function call, it goes inside the function and you can see how the function is executing line by line till it returns and you go back to the next line right after the function call.\n",
    "--> Step out :- means that if you have Stepped in a function and now you want to skip seeing how the rest of the function is going to execute, you Step out and the function returns. Then, you go back to the next line, that is the line right after the function call."
   ]
  },
  {
   "cell_type": "code",
   "execution_count": null,
   "id": "716f02aa",
   "metadata": {},
   "outputs": [],
   "source": [
    "#10.After you click Continue, when will the debugger stop ?\n",
    "--> Continue execution, only stop when a breakpoint is encountered."
   ]
  },
  {
   "cell_type": "code",
   "execution_count": null,
   "id": "5ee66e20",
   "metadata": {},
   "outputs": [],
   "source": [
    "#11. What is the concept of a breakpoint?\n",
    "--> A breakpoint is a setting on a line of code that causes the debugger to pause when the program execution reaches the line."
   ]
  }
 ],
 "metadata": {
  "kernelspec": {
   "display_name": "Python 3 (ipykernel)",
   "language": "python",
   "name": "python3"
  },
  "language_info": {
   "codemirror_mode": {
    "name": "ipython",
    "version": 3
   },
   "file_extension": ".py",
   "mimetype": "text/x-python",
   "name": "python",
   "nbconvert_exporter": "python",
   "pygments_lexer": "ipython3",
   "version": "3.9.7"
  }
 },
 "nbformat": 4,
 "nbformat_minor": 5
}
