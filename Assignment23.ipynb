{
 "cells": [
  {
   "cell_type": "code",
   "execution_count": null,
   "id": "3f9559aa",
   "metadata": {},
   "outputs": [],
   "source": [
    "'''1. What is the result of the code, and why?\n",
    ">>> def func(a, b=6, c=8):\n",
    "print(a, b, c)\n",
    ">>> func(1, 2)'''"
   ]
  },
  {
   "cell_type": "code",
   "execution_count": 167,
   "id": "78794d89",
   "metadata": {},
   "outputs": [
    {
     "name": "stdout",
     "output_type": "stream",
     "text": [
      "1 2 8\n"
     ]
    }
   ],
   "source": [
    "def func(a, b=6, c=8):\n",
    "    print(a, b, c)\n",
    "func(1, 2)"
   ]
  },
  {
   "cell_type": "markdown",
   "id": "e3625bbb",
   "metadata": {},
   "source": [
    "a and b are passed while calling of the function so, default value will not be used and c is not passed so, it will print the default value "
   ]
  },
  {
   "cell_type": "code",
   "execution_count": null,
   "id": "b82f5c49",
   "metadata": {},
   "outputs": [],
   "source": [
    "'''2. What is the result of this code, and why?\n",
    ">>> def func(a, b, c=5):\n",
    "print(a, b, c)\n",
    ">>> func(1, c=3, b=2)'''"
   ]
  },
  {
   "cell_type": "code",
   "execution_count": 168,
   "id": "03caece3",
   "metadata": {},
   "outputs": [
    {
     "name": "stdout",
     "output_type": "stream",
     "text": [
      "1 2 3\n"
     ]
    }
   ],
   "source": [
    "def func(a, b, c=5):\n",
    "    print(a, b, c)\n",
    "func(1, c=3, b=2)"
   ]
  },
  {
   "cell_type": "markdown",
   "id": "e41e26e7",
   "metadata": {},
   "source": [
    "1 will be assigned to a and after though order is not maintain but variable names are passed while giving the values to it will print b as 2 and c as 3"
   ]
  },
  {
   "cell_type": "code",
   "execution_count": null,
   "id": "026a887e",
   "metadata": {},
   "outputs": [],
   "source": [
    "'''3. How about this code: what is its result, and why?\n",
    ">>> def func(a, *pargs):\n",
    "print(a, pargs)\n",
    ">>> func(1, 2, 3)'''"
   ]
  },
  {
   "cell_type": "code",
   "execution_count": 169,
   "id": "86745150",
   "metadata": {},
   "outputs": [
    {
     "name": "stdout",
     "output_type": "stream",
     "text": [
      "1 (2, 3)\n"
     ]
    }
   ],
   "source": [
    "def func(a, *pargs):\n",
    "    print(a, pargs)\n",
    "func(1, 2, 3)"
   ]
  },
  {
   "cell_type": "markdown",
   "id": "ada281fb",
   "metadata": {},
   "source": [
    "1 will be assigned to a and after 1 all will be received as tuple because at the time of declaring the function we don't know how many parameters will be passed so applied *(Arbitrary Arguments)"
   ]
  },
  {
   "cell_type": "code",
   "execution_count": null,
   "id": "46bb7adf",
   "metadata": {},
   "outputs": [],
   "source": [
    "'''4. What does this code print, and why?\n",
    ">>> def func(a, **kargs):\n",
    "print(a, kargs)\n",
    ">>> func(a=1, c=3, b=2)'''"
   ]
  },
  {
   "cell_type": "code",
   "execution_count": 170,
   "id": "c9d86ef9",
   "metadata": {},
   "outputs": [
    {
     "name": "stdout",
     "output_type": "stream",
     "text": [
      "1 {'c': 3, 'b': 2}\n"
     ]
    }
   ],
   "source": [
    "def func(a, **kargs):\n",
    "    print(a, kargs)\n",
    "func(a=1, c=3, b=2)"
   ]
  },
  {
   "cell_type": "markdown",
   "id": "6cf838cb",
   "metadata": {},
   "source": [
    "1 will be assigned to a and after 1 all will be received as dictionary because at the time of declaring the function we don't know how many parameters(key-valaue pairs) will be passed so applied *(Arbitrary keyword Arguments)"
   ]
  },
  {
   "cell_type": "code",
   "execution_count": null,
   "id": "d50e30f0",
   "metadata": {},
   "outputs": [],
   "source": [
    "'''5. What gets printed by this, and explain?\n",
    ">>> def func(a, b, c=8, d=5): \n",
    "print(a, b, c, d)\n",
    ">>> func(1, *(5, 6))'''"
   ]
  },
  {
   "cell_type": "code",
   "execution_count": 171,
   "id": "c1216b12",
   "metadata": {},
   "outputs": [
    {
     "name": "stdout",
     "output_type": "stream",
     "text": [
      "1 5 6 5\n"
     ]
    }
   ],
   "source": [
    "def func(a, b, c=8, d=5): \n",
    "    print(a, b, c, d)\n",
    "func(1, *(5, 6))"
   ]
  },
  {
   "cell_type": "markdown",
   "id": "8357f374",
   "metadata": {},
   "source": [
    "*' is the unpacking operator and are operators that unpack the values from iterable objects in Python. In the example the value *(5,6) will be unpacked and will be assigned to b and c and passed as arguments, and default value of d will be taken."
   ]
  },
  {
   "cell_type": "code",
   "execution_count": null,
   "id": "9cac10cf",
   "metadata": {},
   "outputs": [],
   "source": [
    "'''6. what is the result of this, and explain?\n",
    ">>> def func(a, b, c): a = 2; b[0] ='x'; c['a'] = 'y'\n",
    ">>> l=1; m=[1]; n={'a':0}\n",
    ">>> func(l, m, n)\n",
    "\n",
    ">>> l, m, n'''"
   ]
  },
  {
   "cell_type": "code",
   "execution_count": 173,
   "id": "f09a2718",
   "metadata": {},
   "outputs": [
    {
     "data": {
      "text/plain": [
       "(1, ['x'], {'a': 'y'})"
      ]
     },
     "execution_count": 173,
     "metadata": {},
     "output_type": "execute_result"
    }
   ],
   "source": [
    "def func(a, b, c): \n",
    "    a = 2; b[0] ='x'; c['a'] = 'y'\n",
    "\n",
    "l=1; m=[1]; n={'a':0}\n",
    "func(l, m, n)\n",
    "\n",
    "l, m, n"
   ]
  },
  {
   "cell_type": "markdown",
   "id": "0ba098e8",
   "metadata": {},
   "source": [
    "The list and dict are passed as argument, and those are mutable. The list m and parameter b point to the same list in the memory location where as dict n and c point to the same memory location. Any updates to this list will update in the memory location\n",
    "\n",
    "l = 1 , integer values, immutable, m is list, mutable, n is dict, mutable."
   ]
  },
  {
   "cell_type": "code",
   "execution_count": null,
   "id": "a3eb4c63",
   "metadata": {},
   "outputs": [],
   "source": []
  }
 ],
 "metadata": {
  "kernelspec": {
   "display_name": "Python 3 (ipykernel)",
   "language": "python",
   "name": "python3"
  },
  "language_info": {
   "codemirror_mode": {
    "name": "ipython",
    "version": 3
   },
   "file_extension": ".py",
   "mimetype": "text/x-python",
   "name": "python",
   "nbconvert_exporter": "python",
   "pygments_lexer": "ipython3",
   "version": "3.9.7"
  }
 },
 "nbformat": 4,
 "nbformat_minor": 5
}
