{
 "cells": [
  {
   "cell_type": "code",
   "execution_count": null,
   "id": "e85df750",
   "metadata": {},
   "outputs": [],
   "source": [
    "# 1.What are the two values of the Boolean data type? How do you write them?\n",
    "-> Two values of boolean data type are True and False\n",
    "-> They are written as :-\n",
    "    a = True # equivalent to a = 1\n",
    "    b = False # equivalent to b = 0"
   ]
  },
  {
   "cell_type": "code",
   "execution_count": null,
   "id": "b9696ae3",
   "metadata": {},
   "outputs": [],
   "source": [
    "# 2. What are the three different types of Boolean operators?\n",
    "-> Boolean Operator :\n",
    "    AND :- will evaluate the condition if both operands are True \n",
    "    OR :- will evaluate the condition if either of the operand is True\n",
    "    Not :- will reverse the Answer that is if it is True then it will became False nd vice-versa"
   ]
  },
  {
   "cell_type": "code",
   "execution_count": null,
   "id": "a705686c",
   "metadata": {},
   "outputs": [],
   "source": [
    "#3. Make a list of each Boolean operator's truth tables (i.e. every possible combination of Boolean values for the operator and what it evaluate ).\n",
    "And Operator Truth Table:-\n",
    "    A     B     Output\n",
    "    True  True  True\n",
    "    True  False False\n",
    "    False True  False\n",
    "    False False False\n",
    "OR Operator Truth Table:-\n",
    "    A     B     Output\n",
    "    True  True  True\n",
    "    True  False True\n",
    "    False True  True\n",
    "    False False False\n",
    "NOT Operator Truth Table:-\n",
    "    A     Output\n",
    "    True  False\n",
    "    False True"
   ]
  },
  {
   "cell_type": "code",
   "execution_count": null,
   "id": "0273bd26",
   "metadata": {},
   "outputs": [],
   "source": [
    "#4. What are the values of the following expressions?\n",
    "(5 > 4) and (3 == 5)\n",
    "-> False \n",
    "not (5 > 4)\n",
    "-> False\n",
    "(5 > 4) or (3 == 5)\n",
    "-> True\n",
    "not ((5 > 4) or (3 == 5))\n",
    "-> False\n",
    "(True and True) and (True == False)\n",
    "-> False\n",
    "(not False) or (not True)\n",
    "-> True"
   ]
  },
  {
   "cell_type": "code",
   "execution_count": null,
   "id": "1823abd5",
   "metadata": {},
   "outputs": [],
   "source": [
    "# 5. What are the six comparison operators?\n",
    "-> 1) > :- will compare if one value is greater than second value. \n",
    "    Example:- 10 > 15 [Output :- False]\n",
    "-> 2) < :- will compare if one value is less than second value.\n",
    "    Example:- 10 < 15 [Output :- True]\n",
    "-> 3) == :- will compare if one value is equal to second value.\n",
    "    Example:- 10 == 15 [Output :- False]\n",
    "-> 4) >= :- will compare if one value is greater than equal to second value.\n",
    "    Example:- 10 >= 10 [Output :- True]\n",
    "-> 5) <= :- will compare if one value is less than equal to second value.\n",
    "    Example:- 10 <= 10 [Output :- True]\n",
    "-> 6) != :- will compare if one value is not equal to second value.\n",
    "    Example:- 10 != 15 [Output :- True]"
   ]
  },
  {
   "cell_type": "code",
   "execution_count": null,
   "id": "937c975d",
   "metadata": {},
   "outputs": [],
   "source": [
    "# 6. How do you tell the difference between the equal to and assignment operators?Describe a condition and when you would use one.\n",
    "-> Equal to means we are comparing two values whereas Assignment Operator means we are assigning some value to the variable\n",
    "a = 10\n",
    "if (a==10):\n",
    "    print(\"Correct!!\")\n",
    "Here, in first line we have assign the value 10 to the variable 'a' and in \n",
    "second line we are comparing that is the value of variable 'a' is equal to 10 "
   ]
  },
  {
   "cell_type": "code",
   "execution_count": null,
   "id": "ef7b25c0",
   "metadata": {},
   "outputs": [],
   "source": [
    "# 7. Identify the three blocks in this code:\n",
    "spam = 0\n",
    "if spam == 10:\n",
    "    print('eggs')\n",
    "if spam > 5:\n",
    "    print('bacon')\n",
    "else:\n",
    "    print('ham')\n",
    "    print('spam')\n",
    "    print('spam')\n",
    "-> From this 3 block 'else' block will execute because the value of spam is neither 10 nor greater than 5"
   ]
  },
  {
   "cell_type": "code",
   "execution_count": null,
   "id": "733f282a",
   "metadata": {},
   "outputs": [],
   "source": [
    "# 8. Write code that prints Hello if 1 is stored in spam, prints Howdy if 2 is stored in spam, and prints Greetings! if anything else is stored in spam.\n",
    "spam = int(input(\"Enter the value of spam:- \"))\n",
    "if spam == 1:\n",
    "    print(\"Hello\")\n",
    "elif spam == 2:\n",
    "    print(\"Howdy\")\n",
    "else:\n",
    "    print(\"Greetings!\")"
   ]
  },
  {
   "cell_type": "code",
   "execution_count": null,
   "id": "bf9aca18",
   "metadata": {},
   "outputs": [],
   "source": [
    "# 9.If your programme is stuck in an endless loop, what keys you’ll press?\n",
    "-> In Anaconda, if the program is stuck into an endless loop then will have to restart the kernel else \"ctrl+c\" is used."
   ]
  },
  {
   "cell_type": "code",
   "execution_count": null,
   "id": "cdd12e02",
   "metadata": {},
   "outputs": [],
   "source": [
    "# 10. How can you tell the difference between break and continue?\n",
    "-> Break will end the execution of some block of code.(means it will come out of that particular block of code)\n",
    "-> Continue will trigger the condition to start again."
   ]
  },
  {
   "cell_type": "code",
   "execution_count": null,
   "id": "52153b62",
   "metadata": {},
   "outputs": [],
   "source": [
    "# 11. In a for loop, what is the difference between range(10), range(0, 10), and range(0, 10, 1)?\n",
    "-> Basically, the output of all will be same the difference is just that in first 'range(10)':-\n",
    "    lower-bound is not given but by default it will consider it as 0 and by default step will be consider as 1 \n",
    "    In, Second also step is not given so, it will consider as 1\n",
    "    In, third all the parameters are given!"
   ]
  },
  {
   "cell_type": "code",
   "execution_count": 21,
   "id": "45893b26",
   "metadata": {},
   "outputs": [
    {
     "name": "stdout",
     "output_type": "stream",
     "text": [
      "1\n",
      "2\n",
      "3\n",
      "4\n",
      "5\n",
      "6\n",
      "7\n",
      "8\n",
      "9\n",
      "10\n"
     ]
    }
   ],
   "source": [
    "# 12. Write a short program that prints the numbers 1 to 10 using a for loop. Then write an equivalent program that prints the numbers 1 to 10 using a while loop.\n",
    "# For loop\n",
    "for i in range(1,11):\n",
    "    print(i)"
   ]
  },
  {
   "cell_type": "code",
   "execution_count": 22,
   "id": "800dd1ae",
   "metadata": {},
   "outputs": [
    {
     "name": "stdout",
     "output_type": "stream",
     "text": [
      "1\n",
      "2\n",
      "3\n",
      "4\n",
      "5\n",
      "6\n",
      "7\n",
      "8\n",
      "9\n",
      "10\n"
     ]
    }
   ],
   "source": [
    "# while loop\n",
    "a = 1\n",
    "while a<=10:\n",
    "    print(a)\n",
    "    a+=1"
   ]
  },
  {
   "cell_type": "code",
   "execution_count": null,
   "id": "f9c8a3f7",
   "metadata": {},
   "outputs": [],
   "source": [
    "# 13. If you had a function named bacon() inside a module named spam, how would you call it after importing spam?\n",
    "-> After importing spam, it can call as \"spam.bacon()\""
   ]
  }
 ],
 "metadata": {
  "kernelspec": {
   "display_name": "Python 3 (ipykernel)",
   "language": "python",
   "name": "python3"
  },
  "language_info": {
   "codemirror_mode": {
    "name": "ipython",
    "version": 3
   },
   "file_extension": ".py",
   "mimetype": "text/x-python",
   "name": "python",
   "nbconvert_exporter": "python",
   "pygments_lexer": "ipython3",
   "version": "3.9.7"
  }
 },
 "nbformat": 4,
 "nbformat_minor": 5
}
