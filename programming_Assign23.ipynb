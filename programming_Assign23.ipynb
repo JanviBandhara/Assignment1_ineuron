{
 "cells": [
  {
   "cell_type": "markdown",
   "id": "38d202b6",
   "metadata": {},
   "source": [
    "### Question 1:\n",
    "Create a function that takes a number as an argument and returns True or False depending\n",
    "on whether the number is symmetrical or not. A number is symmetrical when it is the same as\n",
    "its reverse.\n",
    "### Examples\n",
    "* is_symmetrical(7227) ➞ True\n",
    "* is_symmetrical(12567) ➞ False\n",
    "* is_symmetrical(44444444) ➞ True\n",
    "* is_symmetrical(9939) ➞ False\n",
    "* is_symmetrical(1112111) ➞ True"
   ]
  },
  {
   "cell_type": "code",
   "execution_count": 132,
   "id": "c6776905",
   "metadata": {},
   "outputs": [
    {
     "data": {
      "text/plain": [
       "True"
      ]
     },
     "execution_count": 132,
     "metadata": {},
     "output_type": "execute_result"
    }
   ],
   "source": [
    "class symmetrical:\n",
    "    def is_symmetrical(self,num):\n",
    "        try:\n",
    "            s = ''\n",
    "            n= str(num)\n",
    "            while num>0:\n",
    "                rem = num%10\n",
    "                s = s+str(rem)\n",
    "                num = num//10\n",
    "            if s==n:\n",
    "                return True\n",
    "            else:\n",
    "                return False\n",
    "        except Exception as e:\n",
    "            print('Error :- ',e)\n",
    "            \n",
    "obj = symmetrical()\n",
    "obj.is_symmetrical(44444444)"
   ]
  },
  {
   "cell_type": "markdown",
   "id": "e438e577",
   "metadata": {},
   "source": [
    "## Question 2\n",
    "Given a string of numbers separated by a comma and space, return the product of the\n",
    "numbers.\n",
    "#### Examples\n",
    "* multiply_nums(&quot;2, 3&quot;) ➞ 6\n",
    "* multiply_nums(&quot;1, 2, 3, 4&quot;) ➞ 24\n",
    "* multiply_nums(&quot;54, 75, 453, 0&quot;) ➞ 0\n",
    "* multiply_nums(&quot;10, -2&quot;) ➞ -20"
   ]
  },
  {
   "cell_type": "code",
   "execution_count": 133,
   "id": "1d0553af",
   "metadata": {},
   "outputs": [
    {
     "data": {
      "text/plain": [
       "-20"
      ]
     },
     "execution_count": 133,
     "metadata": {},
     "output_type": "execute_result"
    }
   ],
   "source": [
    "class num_product:\n",
    "    def multiply_nums(self,*n):\n",
    "        try:\n",
    "            l2=[]\n",
    "            product=1\n",
    "            l1 = [i.split(',') for i in n]\n",
    "            l2 = [int(j) for i in l1 for j in i]\n",
    "            for i in l2:\n",
    "                product = product *i\n",
    "            return product\n",
    "        except Exception as e:\n",
    "            print('Error:- ',e)\n",
    "\n",
    "obj = num_product()\n",
    "obj.multiply_nums('10,-2')\n",
    "        "
   ]
  },
  {
   "cell_type": "markdown",
   "id": "1263232d",
   "metadata": {},
   "source": [
    "## Question 3\n",
    "Create a function that squares every digit of a number.\n",
    "### Examples\n",
    "* square_digits(9119) ➞ 811181\n",
    "* square_digits(2483) ➞ 416649\n",
    "* square_digits(3212) ➞ 9414\n",
    "\n",
    "#### Notes\n",
    "The function receives an integer and must return an integer."
   ]
  },
  {
   "cell_type": "code",
   "execution_count": 134,
   "id": "70944afe",
   "metadata": {},
   "outputs": [
    {
     "data": {
      "text/plain": [
       "416649"
      ]
     },
     "execution_count": 134,
     "metadata": {},
     "output_type": "execute_result"
    }
   ],
   "source": [
    "class squaring_digit:\n",
    "    def square_digits(self,n):\n",
    "        try:\n",
    "            if type(n)==int:\n",
    "                l1=[]\n",
    "                while n > 0:\n",
    "                    rem = n %10\n",
    "                    l1.append(rem)\n",
    "                    n = n//10\n",
    "                l1 = l1[::-1]\n",
    "                l2 = [i*i for i in l1]\n",
    "                s = ''\n",
    "                for i in l2:\n",
    "                    s= s+str(i)\n",
    "                return int(s)\n",
    "            else:\n",
    "                raise Exception ('Invalid Input')\n",
    "        except Exception as e:\n",
    "            print('Error:- ',e)\n",
    "\n",
    "obj = squaring_digit()\n",
    "obj.square_digits(2483)"
   ]
  },
  {
   "cell_type": "markdown",
   "id": "1528ca40",
   "metadata": {},
   "source": [
    "## Question 4\n",
    "Create a function that sorts a list and removes all duplicate items from it.\n",
    "### Examples\n",
    "* setify([1, 3, 3, 5, 5]) ➞ [1, 3, 5]\n",
    "* setify([4, 4, 4, 4]) ➞ [4]\n",
    "* setify([5, 7, 8, 9, 10, 15]) ➞ [5, 7, 8, 9, 10, 15]\n",
    "* setify([3, 3, 3, 2, 1]) ➞ [1, 2, 3]"
   ]
  },
  {
   "cell_type": "code",
   "execution_count": 135,
   "id": "65e43308",
   "metadata": {},
   "outputs": [
    {
     "data": {
      "text/plain": [
       "[1, 2, 3]"
      ]
     },
     "execution_count": 135,
     "metadata": {},
     "output_type": "execute_result"
    }
   ],
   "source": [
    "class sort_list:\n",
    "    def setify(self,l):\n",
    "        try: \n",
    "            list_set = set(l)\n",
    "            set_list = list(list_set)\n",
    "            return sorted(set_list)\n",
    "        except Exception as e:\n",
    "            print('Error:- ',e)\n",
    "        \n",
    "obj = sort_list()\n",
    "obj.setify([3,3,3,2,1])"
   ]
  },
  {
   "cell_type": "markdown",
   "id": "30e3e2ed",
   "metadata": {},
   "source": [
    "## Question 5\n",
    "Create a function that returns the mean of all digits.\n",
    "### Examples\n",
    "* mean(42) ➞ 3\n",
    "* mean(12345) ➞ 3\n",
    "* mean(666) ➞ 6\n",
    "#### Notes\n",
    " The mean of all digits is the sum of digits / how many digits there are (e.g. mean of digits in\n",
    "512 is (5+1+2)/3(number of digits) = 8/3=2).\n",
    " The mean will always be an integer."
   ]
  },
  {
   "cell_type": "code",
   "execution_count": 136,
   "id": "423c6ffb",
   "metadata": {},
   "outputs": [
    {
     "data": {
      "text/plain": [
       "6"
      ]
     },
     "execution_count": 136,
     "metadata": {},
     "output_type": "execute_result"
    }
   ],
   "source": [
    "class mean_digits:\n",
    "    def mean(self,num):\n",
    "        try:\n",
    "            l1=[]\n",
    "            while num > 0:\n",
    "                rem = num %10\n",
    "                l1.append(rem)\n",
    "                num = num//10\n",
    "            mean = sum(l1)//len(l1)\n",
    "            return int(mean)\n",
    "        except Exception as e:\n",
    "            print('Error :- ',e)\n",
    "        \n",
    "obj = mean_digits()\n",
    "obj.mean(666)"
   ]
  },
  {
   "cell_type": "code",
   "execution_count": null,
   "id": "89f18af0",
   "metadata": {},
   "outputs": [],
   "source": []
  }
 ],
 "metadata": {
  "kernelspec": {
   "display_name": "Python 3 (ipykernel)",
   "language": "python",
   "name": "python3"
  },
  "language_info": {
   "codemirror_mode": {
    "name": "ipython",
    "version": 3
   },
   "file_extension": ".py",
   "mimetype": "text/x-python",
   "name": "python",
   "nbconvert_exporter": "python",
   "pygments_lexer": "ipython3",
   "version": "3.9.7"
  }
 },
 "nbformat": 4,
 "nbformat_minor": 5
}
