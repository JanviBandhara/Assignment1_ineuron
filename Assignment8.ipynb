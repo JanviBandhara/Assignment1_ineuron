{
 "cells": [
  {
   "cell_type": "code",
   "execution_count": null,
   "id": "eae88eea",
   "metadata": {},
   "outputs": [],
   "source": [
    "#1. Is the Python Standard Library included with PyInputPlus?\n",
    "--> No, pyinputplus is not included in python standard library. so, we have to install through pip."
   ]
  },
  {
   "cell_type": "code",
   "execution_count": null,
   "id": "9ad02f24",
   "metadata": {},
   "outputs": [],
   "source": [
    "#2. Why is PyInputPlus commonly imported with import pyinputplus as pypi?\n",
    "--> pypi is the alias of pyinputplus. so, instead of writting the whole 'pyinputplus' alias are given and everytime we called as 'pyin'. "
   ]
  },
  {
   "cell_type": "code",
   "execution_count": null,
   "id": "3bfe58c8",
   "metadata": {},
   "outputs": [],
   "source": [
    "#3. How do you distinguish between inputInt() and inputFloat()?\n",
    "--> inputInt will allow only the integer values nd return an integer value that are without decimal(458,964,12)\n",
    "--> inputFloat will allow the integer and float values but return an float value.(458.23,964.102,12.1)"
   ]
  },
  {
   "cell_type": "code",
   "execution_count": null,
   "id": "d94babbd",
   "metadata": {},
   "outputs": [],
   "source": [
    "#4. Using PyInputPlus, how do you ensure that the user enters a whole number between 0 and 99?\n",
    "--> By giving the paramters of (min,max)\n",
    "--> user_input = pypl.inputInt(prompt= \"Enter Integer:- \",min=0,max=99)"
   ]
  },
  {
   "cell_type": "code",
   "execution_count": null,
   "id": "5ee4631d",
   "metadata": {},
   "outputs": [],
   "source": [
    "#5. What is transferred to the keyword arguments allowRegexes and blockRegexes?\n",
    "--> regex are used in allowRegexes parameter for allowing the particular type of input or not.\n",
    "--> Example :- user_input = pypl.inputInt(prompt= \"Enter String:- \",allowRegexes=[r'^J.*'])\n",
    "--> regex are used in blockRegexes parameter for not allowing the particular type of input.\n",
    "--> Example :- user_input = pypl.inputStr(prompt= \"Enter String:- \",blockRegexes=[r'a$'])"
   ]
  },
  {
   "cell_type": "code",
   "execution_count": null,
   "id": "36dc4c2d",
   "metadata": {},
   "outputs": [],
   "source": [
    "#6. If a blank input is entered three times, what does inputStr(limit=3) do?\n",
    "--> RetryLimitException will occurred if blank input or invalid inputs are entered the number of times the limit paramter as specified. "
   ]
  },
  {
   "cell_type": "code",
   "execution_count": null,
   "id": "b2d73a5b",
   "metadata": {},
   "outputs": [],
   "source": [
    "#7. If blank input is entered three times, what does inputStr(limit=3, default='hello') do?\n",
    "--> If defualt paramter is passed then RetryLimitException will not occured but the value which is passed in default paramter will occurred."
   ]
  }
 ],
 "metadata": {
  "kernelspec": {
   "display_name": "Python 3 (ipykernel)",
   "language": "python",
   "name": "python3"
  },
  "language_info": {
   "codemirror_mode": {
    "name": "ipython",
    "version": 3
   },
   "file_extension": ".py",
   "mimetype": "text/x-python",
   "name": "python",
   "nbconvert_exporter": "python",
   "pygments_lexer": "ipython3",
   "version": "3.9.7"
  }
 },
 "nbformat": 4,
 "nbformat_minor": 5
}
