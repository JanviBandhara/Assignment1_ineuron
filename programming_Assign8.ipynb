{
 "cells": [
  {
   "cell_type": "code",
   "execution_count": 1,
   "id": "c5bd574e",
   "metadata": {},
   "outputs": [
    {
     "data": {
      "text/plain": [
       "[[12, 14], [17, 20], [26, 28]]"
      ]
     },
     "execution_count": 1,
     "metadata": {},
     "output_type": "execute_result"
    }
   ],
   "source": [
    "# 1. Write a Python Program to Add Two Matrices?\n",
    "import logging\n",
    "logging.basicConfig(filename='programming_assign8.log',level = logging.DEBUG, format = '%(levelname)s %(name)s %(message)s')\n",
    "\n",
    "class add_mat:\n",
    "    logging.info(\"Into class Add_mat.\")\n",
    "    def add_matrices(Self,a,b):\n",
    "        '''This Function will add the two matrices.'''\n",
    "        logging.info(\"Inside function add_matrices.\")\n",
    "        try:\n",
    "            if len(a) == len(b):\n",
    "                logging.info(f'Checking the length of both the matrices for performing addition.')\n",
    "                c = [[a[i][j] + b[i][j] for j in range(len(a[i]))] for i in range(len(a))]\n",
    "                logging.info(f'Printing the new added up matrices :- {c}')\n",
    "                return c\n",
    "            else :\n",
    "                logging.info(f'Length of the matrices are not same')\n",
    "                print('Index out of bound error')\n",
    "        except Exception as e:\n",
    "            logging.info(f'Displaying the error {e}')\n",
    "            print(\"Error :- \",e)\n",
    "obj = add_mat()\n",
    "obj.add_matrices([[1,2],[4,5],[6,7]],[[11,12],[13,15],[20,21]])"
   ]
  },
  {
   "cell_type": "code",
   "execution_count": 2,
   "id": "9e52be80",
   "metadata": {},
   "outputs": [
    {
     "data": {
      "text/plain": [
       "[[11, 24], [52, 75], [120, 147]]"
      ]
     },
     "execution_count": 2,
     "metadata": {},
     "output_type": "execute_result"
    }
   ],
   "source": [
    "# 2. Write a Python Program to Multiply Two Matrices?\n",
    "import logging\n",
    "logging.basicConfig(filename='programming_assign8.log',level = logging.DEBUG, format = '%(levelname)s %(name)s %(message)s')\n",
    "\n",
    "class multi_mat:\n",
    "    logging.info(\"Into class multi_mat.\")\n",
    "    def multi_matrices(Self,a,b):\n",
    "        '''This Function will multiply the two matrices.'''\n",
    "        logging.info(\"Inside function multi_matrices.\")\n",
    "        try:\n",
    "            if len(a) == len(b):\n",
    "                logging.info(f'Checking the length of both the matrices for performing Multiplication.')\n",
    "                c = [[a[i][j] * b[i][j] for j in range(len(a[i]))] for i in range(len(a))]\n",
    "                logging.info(f'Printing the new multiplied matrices :- {c}')\n",
    "                return c\n",
    "            else :\n",
    "                logging.info(f'Length of the matrices are not same')\n",
    "                print('Index out of bound error')\n",
    "        except Exception as e:\n",
    "            logging.info(f'Displaying the error {e}')\n",
    "            print(\"Error :- \",e)\n",
    "obj = multi_mat()\n",
    "obj.multi_matrices([[1,2],[4,5],[6,7]],[[11,12],[13,15],[20,21]])"
   ]
  },
  {
   "cell_type": "code",
   "execution_count": 6,
   "id": "98852921",
   "metadata": {},
   "outputs": [
    {
     "data": {
      "text/plain": [
       "[[1, 4, 6], [2, 5, 7]]"
      ]
     },
     "execution_count": 6,
     "metadata": {},
     "output_type": "execute_result"
    }
   ],
   "source": [
    "# 3. Write a Python Program to Transpose a Matrix?\n",
    "\n",
    "import logging\n",
    "logging.basicConfig(filename='programming_assign8.log',level = logging.DEBUG, format = '%(levelname)s %(name)s %(message)s')\n",
    "\n",
    "class Transpose_mat:\n",
    "    logging.info(\"Into class Transpose_mat.\")\n",
    "    def transpose_matrices(Self,a):\n",
    "        '''This Function will Tranpose the given matrices.'''\n",
    "        logging.info(\"Inside function transpose_matrices.\")\n",
    "        try:\n",
    "            b = [[a[j][i] for j in range(len(a))] for i in range(len(a[0]))]\n",
    "            logging.info(f'Printing the transpose matrices :- {b}')\n",
    "            return b\n",
    "        except Exception as e:\n",
    "            logging.info(f'Displaying the error {e}')\n",
    "            print(\"Error :- \",e)\n",
    "obj = Transpose_mat()\n",
    "obj.transpose_matrices([[1,2],[4,5],[6,7]])"
   ]
  },
  {
   "cell_type": "code",
   "execution_count": 7,
   "id": "7049caf4",
   "metadata": {},
   "outputs": [
    {
     "data": {
      "text/plain": [
       "'einnoru'"
      ]
     },
     "execution_count": 7,
     "metadata": {},
     "output_type": "execute_result"
    }
   ],
   "source": [
    "# 4. Write a Python Program to Sort Words in Alphabetic Order?\n",
    "import logging\n",
    "logging.basicConfig(filename='programming_assign8.log',level = logging.DEBUG, format = '%(levelname)s %(name)s %(message)s')\n",
    "\n",
    "class sort_alpha:\n",
    "    logging.info(\"Into class sort_alpha.\")\n",
    "    def sort_words(self,word):\n",
    "        '''This Function will sorts the string of wrods in alphabetic order.'''\n",
    "        logging.info(\"Inside function sort_words.\")\n",
    "        logging.info(f'Enetred word is {word}')\n",
    "        try :\n",
    "            if type(word) == str:\n",
    "                word_list = list(word)\n",
    "                sort_list = sorted(word_list)\n",
    "                s = ''\n",
    "                for letter in sort_list:\n",
    "                    s = s+letter\n",
    "                logging.info(f'Sorted string is :- {s}')\n",
    "                return s\n",
    "            else:\n",
    "                raise Exception('Only string values are allowed!!')\n",
    "                logging.info(f'Error :- String values are allowed')\n",
    "        except Exception as e:\n",
    "            logging.info(f'error :- {e}')\n",
    "obj = sort_alpha()\n",
    "obj.sort_words('ineuron')"
   ]
  },
  {
   "cell_type": "code",
   "execution_count": 8,
   "id": "2febe020",
   "metadata": {},
   "outputs": [
    {
     "data": {
      "text/plain": [
       "'It was a tiring day so tiring he fell asleep on the train and missed his stop'"
      ]
     },
     "execution_count": 8,
     "metadata": {},
     "output_type": "execute_result"
    }
   ],
   "source": [
    "# 5. Write a Python Program to Remove Punctuation From a String?\n",
    "import string\n",
    "import logging\n",
    "logging.basicConfig(filename='programming_assign8.log',level = logging.DEBUG, format = '%(levelname)s %(name)s %(message)s')\n",
    "\n",
    "class remove_punct:\n",
    "    logging.info(\"Into class remove_punct.\")\n",
    "    def punctation_remove(self,sentence):\n",
    "        '''This Function will Remove Punctuation From a String.'''\n",
    "        logging.info(\"Inside function punctation_remove.\")\n",
    "        logging.info(f'The Entered sentence is :- {sentence}')\n",
    "        try:\n",
    "            if type(sentence) == str:\n",
    "                for letter in sentence:\n",
    "                    if letter in string.punctuation:\n",
    "                        sentence = sentence.replace(letter,'')\n",
    "                logging.info(f'The sentence without punctuation is :- {sentence}')\n",
    "                return sentence\n",
    "            else:\n",
    "                raise Exception('Only string values are allowed!!')\n",
    "                logging.info(f'Error :- String values are allowed')\n",
    "        except Exception as e:\n",
    "            logging.info(f'error :- {e}')\n",
    "obj = remove_punct()\n",
    "obj.punctation_remove('It was a tiring day, so tiring he fell asleep on the train and missed his stop!')"
   ]
  },
  {
   "cell_type": "code",
   "execution_count": null,
   "id": "27eb9d67",
   "metadata": {},
   "outputs": [],
   "source": []
  }
 ],
 "metadata": {
  "kernelspec": {
   "display_name": "Python 3 (ipykernel)",
   "language": "python",
   "name": "python3"
  },
  "language_info": {
   "codemirror_mode": {
    "name": "ipython",
    "version": 3
   },
   "file_extension": ".py",
   "mimetype": "text/x-python",
   "name": "python",
   "nbconvert_exporter": "python",
   "pygments_lexer": "ipython3",
   "version": "3.9.7"
  }
 },
 "nbformat": 4,
 "nbformat_minor": 5
}
