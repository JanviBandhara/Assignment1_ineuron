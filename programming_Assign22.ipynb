{
 "cells": [
  {
   "cell_type": "markdown",
   "id": "b2e79178",
   "metadata": {},
   "source": [
    "## Question1\n",
    "Create a function that takes three parameters where:\n",
    "##### x is the start of the range (inclusive).\n",
    "##### y is the end of the range (inclusive).\n",
    "##### n is the divisor to be checked against.\n",
    "Return an ordered list with numbers in the range that are divisible by the third parameter n.\n",
    "Return an empty list if there are no numbers that are divisible by n.\n",
    "### Examples\n",
    "* list_operation(1, 10, 3) ➞ [3, 6, 9]\n",
    "* list_operation(7, 9, 2) ➞ [8]\n",
    "* list_operation(15, 20, 7) ➞ []"
   ]
  },
  {
   "cell_type": "code",
   "execution_count": 1,
   "id": "f428a431",
   "metadata": {},
   "outputs": [
    {
     "data": {
      "text/plain": [
       "[]"
      ]
     },
     "execution_count": 1,
     "metadata": {},
     "output_type": "execute_result"
    }
   ],
   "source": [
    "class list_divide:\n",
    "    def list_operation(self,x,y,n):\n",
    "        try:\n",
    "            l = [i for i in range(x,y+1) if i % n == 0]\n",
    "            return l\n",
    "        except Exception as e:\n",
    "            print('Error :- ',e)\n",
    "    \n",
    "obj = list_divide()\n",
    "obj.list_operation(15,20,7)"
   ]
  },
  {
   "cell_type": "markdown",
   "id": "7595e204",
   "metadata": {},
   "source": [
    "## Question2\n",
    "Create a function that takes in two lists and returns True if the second list follows the first list by one element, and False otherwise. In other words, determine if the second list is the first list shifted to the right by 1.\n",
    "### Examples\n",
    "* simon_says([1, 2], [5, 1]) ➞ True\n",
    "\n",
    "* simon_says([1, 2], [5, 5]) ➞ False\n",
    "\n",
    "* simon_says([1, 2, 3, 4, 5], [0, 1, 2, 3, 4]) ➞ True\n",
    "\n",
    "* simon_says([1, 2, 3, 4, 5], [5, 5, 1, 2, 3]) ➞ False\n",
    "###### Notes\n",
    "Both input lists will be of the same length, and will have a minimum length of 2.\n",
    "The values of the 0-indexed element in the second list and the n-1th indexed element in the first list do not matter."
   ]
  },
  {
   "cell_type": "code",
   "execution_count": 2,
   "id": "c6ec98b1",
   "metadata": {},
   "outputs": [
    {
     "data": {
      "text/plain": [
       "True"
      ]
     },
     "execution_count": 2,
     "metadata": {},
     "output_type": "execute_result"
    }
   ],
   "source": [
    "class right_shift:\n",
    "    def simon_says(self,l1,l2):\n",
    "        try:\n",
    "            l1.pop(-1)\n",
    "            l2.pop(0)\n",
    "            if l1 == l2:\n",
    "                return True\n",
    "            else:\n",
    "                return False\n",
    "        except Exception as e:\n",
    "            print('Error : ',e)\n",
    "        \n",
    "obj = right_shift()\n",
    "obj.simon_says([1, 2, 3, 4, 5], [0, 1, 2, 3, 4])"
   ]
  },
  {
   "cell_type": "markdown",
   "id": "50b2ff06",
   "metadata": {},
   "source": [
    "## Question3\n",
    "A group of friends have decided to start a secret society. The name will be the first letter of each of their names, sorted in alphabetical order.\n",
    "Create a function that takes in a list of names and returns the name of the secret society.\n",
    "### Examples\n",
    "* society_name([\"Adam\", \"Sarah\", \"Malcolm\"]) ➞ \"AMS\"\n",
    "\n",
    "* society_name([\"Harry\", \"Newt\", \"Luna\", \"Cho\"]) ➞ \"CHLN\"\n",
    "\n",
    "* society_name([\"Phoebe\", \"Chandler\", \"Rachel\", \"Ross\", \"Monica\", \"Joey\"])\n"
   ]
  },
  {
   "cell_type": "code",
   "execution_count": 3,
   "id": "5c10f5d5",
   "metadata": {},
   "outputs": [
    {
     "data": {
      "text/plain": [
       "'CJMPRR'"
      ]
     },
     "execution_count": 3,
     "metadata": {},
     "output_type": "execute_result"
    }
   ],
   "source": [
    "class first_letter:\n",
    "    def society_name(self,l):\n",
    "        try:\n",
    "            l1 = []\n",
    "            for i in range(len(l)):\n",
    "                for j in range(len(l[i])):\n",
    "                    if j == 0:\n",
    "                        l1.append(l[i][j])\n",
    "            l1 = sorted(l1)\n",
    "            s  = ''\n",
    "            for i in l1:\n",
    "                s = s+str(i)\n",
    "            return s\n",
    "        except Exception as e:\n",
    "            print('Error :- ',e)\n",
    "    \n",
    "obj = first_letter()\n",
    "obj.society_name([\"Phoebe\", \"Chandler\", \"Rachel\", \"Ross\", \"Monica\", \"Joey\"])"
   ]
  },
  {
   "cell_type": "markdown",
   "id": "a63a3bd9",
   "metadata": {},
   "source": [
    "## Question4\n",
    "An isogram is a word that has no duplicate letters. Create a function that takes a string and returns either True or False depending on whether or not it's an \"isogram\".\n",
    "### Examples\n",
    "* is_isogram(\"Algorism\") ➞ True\n",
    "\n",
    "* is_isogram(\"PasSword\") ➞ False\n",
    "##### Not case sensitive.\n",
    "\n",
    "* is_isogram(\"Consecutive\") ➞ False\n",
    "###### Notes\n",
    "Ignore letter case (should not be case sensitive).\n",
    "All test cases contain valid one word strings.\n"
   ]
  },
  {
   "cell_type": "code",
   "execution_count": 4,
   "id": "69fd3975",
   "metadata": {},
   "outputs": [
    {
     "data": {
      "text/plain": [
       "False"
      ]
     },
     "execution_count": 4,
     "metadata": {},
     "output_type": "execute_result"
    }
   ],
   "source": [
    "from collections import Counter \n",
    "class isogram:\n",
    "    def is_isogram(self,s):\n",
    "        try:\n",
    "            s = s.lower()\n",
    "            d = Counter(s)\n",
    "            for i in d.values():\n",
    "                if i>1:\n",
    "                    return False\n",
    "            return True\n",
    "        except Exception as e:\n",
    "            print('Error :- ',e)\n",
    "    \n",
    "obj = isogram()\n",
    "obj.is_isogram(\"Consecutive\")"
   ]
  },
  {
   "cell_type": "markdown",
   "id": "dc533d6c",
   "metadata": {},
   "source": [
    "## Question5\n",
    "Create a function that takes a string and returns True or False, depending on whether the characters are in order or not.\n",
    "### Examples\n",
    "* is_in_order(\"abc\") ➞ True\n",
    "\n",
    "* is_in_order(\"edabit\") ➞ False\n",
    "\n",
    "* is_in_order(\"123\") ➞ True\n",
    "\n",
    "* is_in_order(\"xyzz\") ➞ True\n",
    "###### Notes\n",
    "You don't have to handle empty strings.\n"
   ]
  },
  {
   "cell_type": "code",
   "execution_count": 5,
   "id": "85370363",
   "metadata": {},
   "outputs": [
    {
     "data": {
      "text/plain": [
       "False"
      ]
     },
     "execution_count": 5,
     "metadata": {},
     "output_type": "execute_result"
    }
   ],
   "source": [
    "class order_char_not:\n",
    "    def is_in_order(self,s):\n",
    "        try:\n",
    "            l = [i for i in s]\n",
    "            l = sorted(l)\n",
    "            s1 = ''\n",
    "            for i in l:\n",
    "                s1 = s1+ str(i)\n",
    "            if s1 == s:\n",
    "                return True\n",
    "            else:\n",
    "                return False\n",
    "        except Exception as e:\n",
    "            print('Error:- ',e)\n",
    "    \n",
    "obj = order_char_not()\n",
    "obj.is_in_order(\"edabit\")"
   ]
  },
  {
   "cell_type": "code",
   "execution_count": null,
   "id": "d0548144",
   "metadata": {},
   "outputs": [],
   "source": []
  }
 ],
 "metadata": {
  "kernelspec": {
   "display_name": "Python 3 (ipykernel)",
   "language": "python",
   "name": "python3"
  },
  "language_info": {
   "codemirror_mode": {
    "name": "ipython",
    "version": 3
   },
   "file_extension": ".py",
   "mimetype": "text/x-python",
   "name": "python",
   "nbconvert_exporter": "python",
   "pygments_lexer": "ipython3",
   "version": "3.9.7"
  }
 },
 "nbformat": 4,
 "nbformat_minor": 5
}
