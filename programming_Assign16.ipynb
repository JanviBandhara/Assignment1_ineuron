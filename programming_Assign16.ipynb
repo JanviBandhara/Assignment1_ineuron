{
 "cells": [
  {
   "cell_type": "markdown",
   "id": "0fc411ad",
   "metadata": {},
   "source": [
    "## Question1. Write a function that stutters a word as if someone is struggling to read it. The\n",
    "first two letters are repeated twice with an ellipsis ... and space after each, and then the\n",
    "word is pronounced with a question mark ?.\n",
    "### Examples\n",
    "* stutter(&quot;incredible&quot;) ➞ &quot;in... in... incredible?&quot;\n",
    "* stutter(&quot;enthusiastic&quot;) ➞ &quot;en... en... enthusiastic?&quot;\n",
    "* stutter(&quot;outstanding&quot;) ➞ &quot;ou... ou... outstanding?&quot;\n",
    "\n",
    "Hint :- Assume all input is in lower case and at least two characters long."
   ]
  },
  {
   "cell_type": "code",
   "execution_count": 1,
   "id": "3f23da46",
   "metadata": {},
   "outputs": [
    {
     "data": {
      "text/plain": [
       "'en...en...enthusiastic?'"
      ]
     },
     "execution_count": 1,
     "metadata": {},
     "output_type": "execute_result"
    }
   ],
   "source": [
    "class stuttering:\n",
    "    def stutter(self,word):\n",
    "        try:\n",
    "            if len(word)>2:\n",
    "                word= word.lower()\n",
    "                s = ''\n",
    "                for i in range(len(word)):\n",
    "                    if i == 1 or i == 0:\n",
    "                        s = s + word[i]\n",
    "                s = s + '...'\n",
    "                final_output = s+s+word+'?'\n",
    "                \n",
    "                return final_output\n",
    "            else :\n",
    "                raise Exception('Length of the word should be greater than 2')\n",
    "                \n",
    "        except Exception as e:\n",
    "            print('Error :- ',e)\n",
    "        \n",
    "        \n",
    "obj = stuttering()\n",
    "obj.stutter('enthusiastic')"
   ]
  },
  {
   "cell_type": "markdown",
   "id": "675b7ab7",
   "metadata": {},
   "source": [
    "## Question 2.Create a function that takes an angle in radians and returns the corresponding\n",
    "angle in degrees rounded to one decimal place.\n",
    "### Examples\n",
    "* radians_to_degrees(1) ➞ 57.3\n",
    "* radians_to_degrees(20) ➞ 1145.9\n",
    "* radians_to_degrees(50) ➞ 2864.8"
   ]
  },
  {
   "cell_type": "code",
   "execution_count": 2,
   "id": "09d030b2",
   "metadata": {},
   "outputs": [
    {
     "data": {
      "text/plain": [
       "57.3"
      ]
     },
     "execution_count": 2,
     "metadata": {},
     "output_type": "execute_result"
    }
   ],
   "source": [
    "class radian_degree:\n",
    "    def radians_to_degrees(self,radian):\n",
    "        try:\n",
    "            pi = 3.142857142857143\n",
    "            return round(radian *(180/pi),1)\n",
    "        except Exception as e:\n",
    "            print('Error :- ',e)\n",
    "    \n",
    "obj = radian_degree()\n",
    "obj.radians_to_degrees(1)"
   ]
  },
  {
   "cell_type": "markdown",
   "id": "42566137",
   "metadata": {},
   "source": [
    "## Question 3. In this challenge, establish if a given integer num is a Curzon number. If 1 plus\n",
    "2 elevated to num is exactly divisible by 1 plus 2 multiplied by num, then num is a Curzon number.\n",
    "Given a non-negative integer num, implement a function that returns True if num is a Curzon\n",
    "number, or False otherwise.\n",
    "### Examples\n",
    "* is_curzon(5) ➞ True\n",
    "\n",
    "2 ** 5 + 1 = 33\n",
    "2 * 5 + 1 = 11\n",
    "33 is a multiple of 11\n",
    "* is_curzon(10) ➞ False\n",
    "\n",
    "2 ** 10 + 1 = 1025\n",
    "2 * 10 + 1 = 21\n",
    "1025 is not a multiple of 21\n",
    "* is_curzon(14) ➞ True\n",
    "\n",
    "2 ** 14 + 1 = 16385\n",
    "2 * 14 + 1 = 29\n",
    "16385 is a multiple of 29"
   ]
  },
  {
   "cell_type": "code",
   "execution_count": 3,
   "id": "0f3e2216",
   "metadata": {},
   "outputs": [
    {
     "data": {
      "text/plain": [
       "True"
      ]
     },
     "execution_count": 3,
     "metadata": {},
     "output_type": "execute_result"
    }
   ],
   "source": [
    "class check_curzon:\n",
    "    def is_curzon(self,num):\n",
    "        try:\n",
    "            exp = (2**num) +1\n",
    "            multi = (2*num) + 1\n",
    "            if exp % multi == 0:\n",
    "                return True\n",
    "            else:\n",
    "                return False\n",
    "        except Exception as e:\n",
    "            print('Error :- ',e)\n",
    "        \n",
    "obj = check_curzon()\n",
    "obj.is_curzon(14)"
   ]
  },
  {
   "cell_type": "markdown",
   "id": "a1e93676",
   "metadata": {},
   "source": [
    "## Question 4.Given the side length x find the area of a hexagon.\n",
    "\n",
    "### Examples\n",
    "* area_of_hexagon(1) ➞ 2.6\n",
    "* area_of_hexagon(2) ➞ 10.4\n",
    "* area_of_hexagon(3) ➞ 23.4"
   ]
  },
  {
   "cell_type": "code",
   "execution_count": 4,
   "id": "3f324a40",
   "metadata": {},
   "outputs": [
    {
     "data": {
      "text/plain": [
       "10.4"
      ]
     },
     "execution_count": 4,
     "metadata": {},
     "output_type": "execute_result"
    }
   ],
   "source": [
    "import math\n",
    "class hexagon:\n",
    "    def area_of_hexagon(self,value):\n",
    "        try:\n",
    "            area = (3*math.sqrt(3)*(value*value))/2\n",
    "            area = round(area,1)\n",
    "            return area\n",
    "        except Exception as e:\n",
    "            print('Error :- ',e)\n",
    "        \n",
    "obj = hexagon()\n",
    "obj.area_of_hexagon(2)"
   ]
  },
  {
   "cell_type": "markdown",
   "id": "675f5acb",
   "metadata": {},
   "source": [
    "## Question 5. Create a function that returns a base-2 (binary) representation of a base-10\n",
    "(decimal) string number. To convert is simple: ((2) means base-2 and (10) means base-10)\n",
    "010101001(2) = 1 + 8 + 32 + 128.\n",
    "Going from right to left, the value of the most right bit is 1, now from that every bit to the left\n",
    "will be x2 the value, value of an 8 bit binary numbers are (256, 128, 64, 32, 16, 8, 4, 2, 1).\n",
    "### Examples\n",
    "* binary(1) ➞ &quot;1&quot;\n",
    "1*1 = 1\n",
    "* binary(5) ➞ &quot;101&quot;\n",
    "1*1 + 1*4 = 5\n",
    "* binary(10) ➞ &quot;1010&quot;\n",
    "1*2 + 1*8 = 10"
   ]
  },
  {
   "cell_type": "code",
   "execution_count": 5,
   "id": "fb00fb04",
   "metadata": {},
   "outputs": [
    {
     "data": {
      "text/plain": [
       "'101'"
      ]
     },
     "execution_count": 5,
     "metadata": {},
     "output_type": "execute_result"
    }
   ],
   "source": [
    "class binary_value:\n",
    "    def binary(self,value):\n",
    "        try : \n",
    "            s = ''\n",
    "            while value !=0:\n",
    "                rem = value % 2\n",
    "                s = s + str(rem)\n",
    "                value = value//2\n",
    "            return s[::-1]\n",
    "        \n",
    "        except Exception as e:\n",
    "            print('Error :- ',e)\n",
    "        \n",
    "obj = binary_value()\n",
    "obj.binary(5)"
   ]
  },
  {
   "cell_type": "code",
   "execution_count": null,
   "id": "58447923",
   "metadata": {},
   "outputs": [],
   "source": []
  }
 ],
 "metadata": {
  "kernelspec": {
   "display_name": "Python 3 (ipykernel)",
   "language": "python",
   "name": "python3"
  },
  "language_info": {
   "codemirror_mode": {
    "name": "ipython",
    "version": 3
   },
   "file_extension": ".py",
   "mimetype": "text/x-python",
   "name": "python",
   "nbconvert_exporter": "python",
   "pygments_lexer": "ipython3",
   "version": "3.9.7"
  }
 },
 "nbformat": 4,
 "nbformat_minor": 5
}
