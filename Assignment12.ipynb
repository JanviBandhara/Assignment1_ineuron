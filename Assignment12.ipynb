{
 "cells": [
  {
   "cell_type": "code",
   "execution_count": null,
   "id": "a165e8e6",
   "metadata": {},
   "outputs": [],
   "source": [
    "#1. In what modes should the PdfFileReader() and PdfFileWriter() File objects will be opened?\n",
    "--> Read-binary ('rb') for PdfFileReader() and write-binary ('wb') for PdfFileWriter()."
   ]
  },
  {
   "cell_type": "code",
   "execution_count": null,
   "id": "142bc515",
   "metadata": {},
   "outputs": [],
   "source": [
    "#2. From a PdfFileReader object, how do you get a Page object for page 5?\n",
    "--> Calling getPage(4) will return a Page object for page 5, since page 0 is the first page."
   ]
  },
  {
   "cell_type": "code",
   "execution_count": null,
   "id": "2c1a50b1",
   "metadata": {},
   "outputs": [],
   "source": [
    "#3. What PdfFileReader variable stores the number of pages in the PDF document?\n",
    "--> The 'numPages' variable stores an integer of the number of pages in the PdfFileReader object."
   ]
  },
  {
   "cell_type": "code",
   "execution_count": null,
   "id": "3594dff6",
   "metadata": {},
   "outputs": [],
   "source": [
    "#4. If a PdfFileReader object’s PDF is encrypted with the password swordfish, what must you do before you can obtain Page objects from it?\n",
    "--> Call decrypt('swordfish')"
   ]
  },
  {
   "cell_type": "code",
   "execution_count": null,
   "id": "8b1a899d",
   "metadata": {},
   "outputs": [],
   "source": [
    "#5. What methods do you use to rotate a page?\n",
    "--> pageobj.rotateClockwise(180)"
   ]
  },
  {
   "cell_type": "code",
   "execution_count": null,
   "id": "d9083c88",
   "metadata": {},
   "outputs": [],
   "source": [
    "#6. What is the difference between a Run object and a Paragraph object?\n",
    "--> A document contains multiple paragraphs. A paragraph begins on a new line and contains multiple runs. \n",
    "--> Runs are contiguous groups of characters within the a paragraph."
   ]
  },
  {
   "cell_type": "code",
   "execution_count": null,
   "id": "80d85750",
   "metadata": {},
   "outputs": [],
   "source": [
    "#7. How do you obtain a list of Paragraph objects for a Document object that’s stored in a variable named doc?\n",
    "--> By using doc.paragraphs"
   ]
  },
  {
   "cell_type": "code",
   "execution_count": null,
   "id": "7a470c6d",
   "metadata": {},
   "outputs": [],
   "source": [
    "#8. What type of object has bold, underline, italic, strike, and outline variables?\n",
    "--> Run object has bold, underline, italic, strike, and outline variables"
   ]
  },
  {
   "cell_type": "code",
   "execution_count": null,
   "id": "c552f14e",
   "metadata": {},
   "outputs": [],
   "source": [
    "#9. What is the difference between False, True, and None for the bold variable?\n",
    "--> True (the attribute is always enabled, no matter what other styles are applied to the run),\n",
    "--> False (the attribute is always disabled),\n",
    "--> None (defaults to whatever the run’s style is set to)"
   ]
  },
  {
   "cell_type": "code",
   "execution_count": null,
   "id": "3552d0d1",
   "metadata": {},
   "outputs": [],
   "source": [
    "#10. How do you create a Document object for a new Word document?\n",
    "--> Call the docx.Document() function."
   ]
  },
  {
   "cell_type": "code",
   "execution_count": null,
   "id": "aef3c9a6",
   "metadata": {},
   "outputs": [],
   "source": [
    "#11. How do you add a paragraph with the text 'Hello there!' to a Document object stored in a variable named doc?\n",
    "--> doc.add_paragraph('Hello there!')"
   ]
  },
  {
   "cell_type": "code",
   "execution_count": null,
   "id": "2e9da53d",
   "metadata": {},
   "outputs": [],
   "source": [
    "#12. What integers represent the levels of headings available in Word documents?\n",
    "--> The integer 0 makes the heading the Title style, which is used for the top of the document. \n",
    "--> Integers 1 to 4 are for various heading levels, with 1 being the main heading and 4 the lowest subheading."
   ]
  }
 ],
 "metadata": {
  "kernelspec": {
   "display_name": "Python 3 (ipykernel)",
   "language": "python",
   "name": "python3"
  },
  "language_info": {
   "codemirror_mode": {
    "name": "ipython",
    "version": 3
   },
   "file_extension": ".py",
   "mimetype": "text/x-python",
   "name": "python",
   "nbconvert_exporter": "python",
   "pygments_lexer": "ipython3",
   "version": "3.9.7"
  }
 },
 "nbformat": 4,
 "nbformat_minor": 5
}
