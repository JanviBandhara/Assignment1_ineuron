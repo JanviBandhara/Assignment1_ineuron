{
 "cells": [
  {
   "cell_type": "code",
   "execution_count": 23,
   "id": "c0f62cc1",
   "metadata": {},
   "outputs": [
    {
     "name": "stdout",
     "output_type": "stream",
     "text": [
      "Enter Number to check:- 5\n"
     ]
    },
    {
     "data": {
      "text/plain": [
       "120"
      ]
     },
     "execution_count": 23,
     "metadata": {},
     "output_type": "execute_result"
    }
   ],
   "source": [
    "# 1. Write a Python Program to Find the Factorial of a Number?\n",
    "import logging\n",
    "logging.basicConfig(filename='programming_assign4.log',level = logging.DEBUG, format = '%(levelname)s %(name)s %(message)s')\n",
    "\n",
    "class Factorial:\n",
    "    logging.info(\"Into class Factorial.\")\n",
    "    \n",
    "    def fact(self):\n",
    "        '''This Function will find the Factorial of the Entered Number.'''\n",
    "        logging.info(\"In the function factorial inside class Factorial.\")\n",
    "        \n",
    "        try:\n",
    "            num = int(input(\"Enter Number to check:- \"))\n",
    "            logging.info(f'The number Entered by user is {num}.')\n",
    "            n1 = num\n",
    "            factt = 1\n",
    "            while num!=0:\n",
    "                factt = factt*num\n",
    "                num = num-1\n",
    "            logging.info(f\"Factorial of {n1} is {factt}\")\n",
    "            return factt\n",
    "        \n",
    "        except Exception as e:\n",
    "            logging.exception(e)\n",
    "            logging.info(\"Enter only integer value!.\")\n",
    "        \n",
    "obj = Factorial()\n",
    "obj.fact()"
   ]
  },
  {
   "cell_type": "code",
   "execution_count": 24,
   "id": "7df66e4b",
   "metadata": {},
   "outputs": [
    {
     "name": "stdout",
     "output_type": "stream",
     "text": [
      "Enter Number :- 6\n",
      "6 * 1 = 6\n",
      "6 * 2 = 12\n",
      "6 * 3 = 18\n",
      "6 * 4 = 24\n",
      "6 * 5 = 30\n",
      "6 * 6 = 36\n",
      "6 * 7 = 42\n",
      "6 * 8 = 48\n",
      "6 * 9 = 54\n",
      "6 * 10 = 60\n"
     ]
    }
   ],
   "source": [
    "# 2. Write a Python Program to Display the multiplication Table?\n",
    "class Table:\n",
    "    logging.info(\"Into Table class.\")\n",
    "    \n",
    "    def multiplication_table(self):\n",
    "        '''This Function will Calculate the Multiplication Table of the given Number.'''\n",
    "        logging.info(\"In the function multiplication_table inside class Table.\")\n",
    "        try:\n",
    "            num = int(input(\"Enter Number :- \"))\n",
    "            logging.info(f\"The number Entered is {num} \")\n",
    "            for i in range(1,11):\n",
    "                print(num, \"*\", i, \"=\", num*i)\n",
    "                logging.info(f\"{num} * {i} = {num*i}\")\n",
    "        except Exception as e:\n",
    "            logging.info(e)\n",
    "            logging.info(\"Kindly entered the number in integer only!\")\n",
    "\n",
    "obj = Table()\n",
    "obj.multiplication_table()"
   ]
  },
  {
   "cell_type": "code",
   "execution_count": 25,
   "id": "e08df501",
   "metadata": {},
   "outputs": [
    {
     "name": "stdout",
     "output_type": "stream",
     "text": [
      "Enter the range for Fibonacci :- 15\n"
     ]
    },
    {
     "data": {
      "text/plain": [
       "[0, 1, 1, 2, 3, 5, 8, 13, 21, 34, 55, 89, 144, 233, 377]"
      ]
     },
     "execution_count": 25,
     "metadata": {},
     "output_type": "execute_result"
    }
   ],
   "source": [
    "# 3. Write a Python Program to Print the Fibonacci sequence?\n",
    "class fibonacci:\n",
    "    logging.info(\"Into class fibonacci.\")\n",
    "    def fibo(self):\n",
    "        '''This Function will find the Fibonacci series'''\n",
    "        logging.info(\"In the function fibo() inside Class fibonacci.\")\n",
    "        \n",
    "        try:\n",
    "            r = int(input(\"Enter the range for Fibonacci :- \"))\n",
    "            logging.info(f\"The Range entered by user is {r}.\")\n",
    "            l = []\n",
    "            n = 0\n",
    "            n1 = 1\n",
    "            for i in range(0,r):\n",
    "                l.append(n)\n",
    "                n2 = n+n1\n",
    "                n = n1\n",
    "                n1 = n2\n",
    "            logging.info(f\" Fibonacci series :- {l}\" )\n",
    "            return l\n",
    "        except Exception as e:\n",
    "            logging.info(e)\n",
    "            logging.info(\"Kindly Entered the range in integer.\")\n",
    "obj = fibonacci()\n",
    "obj.fibo()"
   ]
  },
  {
   "cell_type": "code",
   "execution_count": 26,
   "id": "9c9ffa3d",
   "metadata": {},
   "outputs": [
    {
     "name": "stdout",
     "output_type": "stream",
     "text": [
      "Enter Integer value :- 153\n"
     ]
    },
    {
     "data": {
      "text/plain": [
       "'Armstrong'"
      ]
     },
     "execution_count": 26,
     "metadata": {},
     "output_type": "execute_result"
    }
   ],
   "source": [
    "# 4. Write a Python Program to Check Armstrong Number?\n",
    "class Armstrong:\n",
    "    logging.info(\"Into class Armstrong.\")\n",
    "    def armstrong_num(self):\n",
    "        '''This Function check whether the Entered number is Armstrong or not'''\n",
    "        logging.info(\"In the function armstrong_num inside Class Armstrong.\")\n",
    "        try:\n",
    "            num = int(input(\"Enter Integer value :- \"))\n",
    "            logging.info(f\"The number entered by user is {num}\")\n",
    "            n = num\n",
    "            arm = 0\n",
    "            while num!=0:\n",
    "                rem = num %10\n",
    "                arm = arm + (rem*rem*rem)\n",
    "                num = num //10\n",
    "            if n == arm:\n",
    "                logging.info(f\"{n} is an Armstrong number.\")\n",
    "                return 'Armstrong'\n",
    "            else:\n",
    "                logging.info(f\"{n} is not an Armstrong number.\")\n",
    "            return 'Not an Armstrong'\n",
    "        except Exception as e:\n",
    "            logging.info(e)\n",
    "            logging.info(\"Enter only integer values.\")\n",
    "obj = Armstrong()\n",
    "obj.armstrong_num()"
   ]
  },
  {
   "cell_type": "code",
   "execution_count": 27,
   "id": "03534bd9",
   "metadata": {},
   "outputs": [
    {
     "data": {
      "text/plain": [
       "[1, 153, 370, 371, 407]"
      ]
     },
     "execution_count": 27,
     "metadata": {},
     "output_type": "execute_result"
    }
   ],
   "source": [
    "# 5. Write a Python Program to Find Armstrong Number in an Interval?\n",
    "class Armstrong1:\n",
    "    logging.info(\"Into class Armstrong1.\")\n",
    "    def armstrong_range(self,start,end):\n",
    "        '''This Function finds the armstrong number between the given interval.'''\n",
    "        logging.info(\"In the function Armstrong_range inside class Armstron1.\")\n",
    "        try:\n",
    "            if type(start)==int and type(end)==int and start !=0:\n",
    "                l = []\n",
    "                for i in range(start,end):\n",
    "                    arm = 0\n",
    "                    rem = 0\n",
    "                    j = i\n",
    "                    while i!=0:\n",
    "                        rem = i%10\n",
    "                        arm = arm +(rem*rem*rem)\n",
    "                        i = i//10\n",
    "                    if j == arm:\n",
    "                        l.append(j)\n",
    "            else:\n",
    "                raise Exception(\"Enter Interger values\")\n",
    "            logging.info(f\"Armstrong number between {start} to {end} are {l}\")\n",
    "            return l\n",
    "        except Exception as e:\n",
    "            logging.info(e)\n",
    "obj = Armstrong1()\n",
    "obj.armstrong_range(1,500)"
   ]
  },
  {
   "cell_type": "code",
   "execution_count": 28,
   "id": "c618a918",
   "metadata": {},
   "outputs": [
    {
     "name": "stdout",
     "output_type": "stream",
     "text": [
      "Enter Integer Value :- 50\n"
     ]
    },
    {
     "data": {
      "text/plain": [
       "1275"
      ]
     },
     "execution_count": 28,
     "metadata": {},
     "output_type": "execute_result"
    }
   ],
   "source": [
    "# 6. Write a Python Program to Find the Sum of Natural Numbers?\n",
    "class Sum:\n",
    "    logging.info(\"Into Class Sum.\")\n",
    "    def sum_of_num(self):\n",
    "        '''This Function will find the sum of natural numbers'''\n",
    "        logging.info(\"In the function sum_of_num inside class Sum.\")\n",
    "        try:\n",
    "            num = int(input(\"Enter Integer Value :- \"))\n",
    "            sum=0\n",
    "            for i in range(num+1):\n",
    "                sum = sum+i\n",
    "            logging.info(f\"sum of {num} is {sum} \")\n",
    "            return sum\n",
    "        except Exception as e:\n",
    "            logging.info(e)\n",
    "            logging.info(\"Enter only integer values.\")\n",
    "obj = Sum()\n",
    "obj.sum_of_num()"
   ]
  }
 ],
 "metadata": {
  "kernelspec": {
   "display_name": "Python 3 (ipykernel)",
   "language": "python",
   "name": "python3"
  },
  "language_info": {
   "codemirror_mode": {
    "name": "ipython",
    "version": 3
   },
   "file_extension": ".py",
   "mimetype": "text/x-python",
   "name": "python",
   "nbconvert_exporter": "python",
   "pygments_lexer": "ipython3",
   "version": "3.9.7"
  }
 },
 "nbformat": 4,
 "nbformat_minor": 5
}
