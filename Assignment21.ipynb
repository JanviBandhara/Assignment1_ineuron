{
 "cells": [
  {
   "cell_type": "code",
   "execution_count": 77,
   "id": "8a8cc7c2",
   "metadata": {},
   "outputs": [
    {
     "data": {
      "text/plain": [
       "10"
      ]
     },
     "execution_count": 77,
     "metadata": {},
     "output_type": "execute_result"
    }
   ],
   "source": [
    "#1. Add the current date to the text file today.txt as a string.\n",
    "from datetime import date\n",
    "today = date.today()\n",
    "filee = open('today.txt','w')\n",
    "filee.write(str(today))"
   ]
  },
  {
   "cell_type": "code",
   "execution_count": 79,
   "id": "5ac9a49f",
   "metadata": {},
   "outputs": [
    {
     "name": "stdout",
     "output_type": "stream",
     "text": [
      "2023-04-08\n"
     ]
    }
   ],
   "source": [
    "#2. Read the text file today.txt into the string today_string\n",
    "filee = open('today.txt','r')\n",
    "today_string = filee.read()\n",
    "print(today_string)"
   ]
  },
  {
   "cell_type": "code",
   "execution_count": 89,
   "id": "4a0f1458",
   "metadata": {},
   "outputs": [
    {
     "data": {
      "text/plain": [
       "datetime.datetime(2023, 4, 8, 0, 0)"
      ]
     },
     "execution_count": 89,
     "metadata": {},
     "output_type": "execute_result"
    }
   ],
   "source": [
    "#3. Parse the date from today_string.\n",
    "from datetime import datetime\n",
    "format = '%Y-%m-%d'\n",
    "datetime.strptime(today_string,format)"
   ]
  },
  {
   "cell_type": "code",
   "execution_count": 98,
   "id": "19550481",
   "metadata": {},
   "outputs": [
    {
     "data": {
      "text/plain": [
       "['.anaconda',\n",
       " '.android',\n",
       " '.bash_history',\n",
       " '.cache',\n",
       " '.conda',\n",
       " '.condarc',\n",
       " '.continuum',\n",
       " '.cufflinks',\n",
       " '.git',\n",
       " '.gitconfig',\n",
       " '.idlerc',\n",
       " '.ipynb_checkpoints',\n",
       " '.ipython',\n",
       " '.jupyter',\n",
       " '.kivy',\n",
       " '.matplotlib',\n",
       " '.nbi',\n",
       " '3D Objects',\n",
       " 'anaconda3',\n",
       " 'AppData',\n",
       " 'Application Data',\n",
       " 'Assignment21.ipynb',\n",
       " 'attribute.json',\n",
       " 'Automated_EDA.ipynb',\n",
       " 'books.csv',\n",
       " 'books.db',\n",
       " 'Contacts',\n",
       " 'Cookies',\n",
       " 'Desktop',\n",
       " 'Documents',\n",
       " 'Downloads',\n",
       " 'drawing.svg',\n",
       " 'drawing.svg.2019_03_04_15_20_07.0.svg',\n",
       " 'EDA.ipynb',\n",
       " 'Favorites',\n",
       " 'Function.ipynb',\n",
       " 'IntelGraphicsProfiles',\n",
       " 'iris.ipynb',\n",
       " 'java_error_in_studio64_13052.log',\n",
       " 'Links',\n",
       " 'Local Settings',\n",
       " 'MicrosoftEdgeBackups',\n",
       " 'Music',\n",
       " 'My Documents',\n",
       " 'NetHood',\n",
       " 'NTUSER.DAT',\n",
       " 'ntuser.dat.LOG1',\n",
       " 'ntuser.dat.LOG2',\n",
       " 'NTUSER.DAT{53b39e88-18c4-11ea-a811-000d3aa4692b}.TM.blf',\n",
       " 'NTUSER.DAT{53b39e88-18c4-11ea-a811-000d3aa4692b}.TMContainer00000000000000000001.regtrans-ms',\n",
       " 'NTUSER.DAT{53b39e88-18c4-11ea-a811-000d3aa4692b}.TMContainer00000000000000000002.regtrans-ms',\n",
       " 'ntuser.ini',\n",
       " 'OneDrive',\n",
       " 'pandas_day1.ipynb',\n",
       " 'pandas_Task.ipynb',\n",
       " 'Pictures',\n",
       " 'Postman',\n",
       " 'PrintHood',\n",
       " 'programming_Assign4.ipynb',\n",
       " 'PycharmProjects',\n",
       " 'README.md',\n",
       " 'Recent',\n",
       " 'Saved Games',\n",
       " 'scrapping.ipynb',\n",
       " 'seaborn-data',\n",
       " 'Searches',\n",
       " 'searching_sorting.ipynb',\n",
       " 'SendTo',\n",
       " 'Soccer.ipynb',\n",
       " 'Start Menu',\n",
       " 'Templates',\n",
       " 'test.json',\n",
       " 'test.txt',\n",
       " 'today.txt',\n",
       " 'Videos',\n",
       " '__pycache__']"
      ]
     },
     "execution_count": 98,
     "metadata": {},
     "output_type": "execute_result"
    }
   ],
   "source": [
    "#4. List the files in your current directory\n",
    "import os\n",
    "os.listdir()"
   ]
  },
  {
   "cell_type": "code",
   "execution_count": 105,
   "id": "71873ccf",
   "metadata": {},
   "outputs": [
    {
     "name": "stdout",
     "output_type": "stream",
     "text": [
      "['.anaconda', '.android', '.bash_history', '.cache', '.conda', '.condarc', '.continuum', '.cufflinks', '.git', '.gitconfig', '.idlerc', '.ipynb_checkpoints', '.ipython', '.jupyter', '.kivy', '.matplotlib', '.nbi', '3D Objects', 'anaconda3', 'AppData', 'Application Data', 'Assignment21.ipynb', 'attribute.json', 'Automated_EDA.ipynb', 'books.csv', 'books.db', 'Contacts', 'Cookies', 'Desktop', 'Documents', 'Downloads', 'drawing.svg', 'drawing.svg.2019_03_04_15_20_07.0.svg', 'EDA.ipynb', 'Favorites', 'Function.ipynb', 'IntelGraphicsProfiles', 'iris.ipynb', 'java_error_in_studio64_13052.log', 'Links', 'Local Settings', 'MicrosoftEdgeBackups', 'Music', 'My Documents', 'NetHood', 'NTUSER.DAT', 'ntuser.dat.LOG1', 'ntuser.dat.LOG2', 'NTUSER.DAT{53b39e88-18c4-11ea-a811-000d3aa4692b}.TM.blf', 'NTUSER.DAT{53b39e88-18c4-11ea-a811-000d3aa4692b}.TMContainer00000000000000000001.regtrans-ms', 'NTUSER.DAT{53b39e88-18c4-11ea-a811-000d3aa4692b}.TMContainer00000000000000000002.regtrans-ms', 'ntuser.ini', 'OneDrive', 'pandas_day1.ipynb', 'pandas_Task.ipynb', 'Pictures', 'Postman', 'PrintHood', 'programming_Assign4.ipynb', 'PycharmProjects', 'README.md', 'Recent', 'Saved Games', 'scrapping.ipynb', 'seaborn-data', 'Searches', 'searching_sorting.ipynb', 'SendTo', 'Soccer.ipynb', 'Start Menu', 'Templates', 'test.json', 'test.txt', 'today.txt', 'Videos', '__pycache__']\n",
      "<class 'list'>\n"
     ]
    }
   ],
   "source": [
    "#5. Create a list of all of the files in your parent directory (minimum five files should be available). \n",
    "current_path = os.getcwd()\n",
    "parent = os.path.abspath(current_path)\n",
    "list_files = os.listdir(parent)\n",
    "print(list_files)"
   ]
  },
  {
   "cell_type": "code",
   "execution_count": 148,
   "id": "4e6625aa",
   "metadata": {},
   "outputs": [],
   "source": [
    "#6. Use multiprocessing to create three separate processes. Make each one wait a random number of seconds between one and five, print the current time, and then exit.\n",
    "import multiprocessing\n",
    "from datetime import datetime\n",
    "import time\n",
    "def first_process():\n",
    "    time.sleep(2)\n",
    "    now = datetime.now()\n",
    "    return now\n",
    "\n",
    "if __name__ == \"__main__\":\n",
    "    p1 = multiprocessing.Process(target = first_process)\n",
    "    p1.start()\n",
    "    p2 = multiprocessing.Process(target = first_process)\n",
    "    p2.start()\n",
    "    p3 = multiprocessing.Process(target = first_process)\n",
    "    p3.start()\n",
    "    "
   ]
  },
  {
   "cell_type": "code",
   "execution_count": 151,
   "id": "7fb78540",
   "metadata": {},
   "outputs": [
    {
     "name": "stdout",
     "output_type": "stream",
     "text": [
      "2023-04-08 22:10:55.648926\n",
      "2023-04-08 22:10:57.657585\n",
      "2023-04-08 22:10:59.665081\n"
     ]
    }
   ],
   "source": [
    "print(first_process())\n",
    "print(first_process())\n",
    "print(first_process())"
   ]
  },
  {
   "cell_type": "code",
   "execution_count": 117,
   "id": "d90fb988",
   "metadata": {},
   "outputs": [
    {
     "data": {
      "text/plain": [
       "datetime.date(2001, 1, 25)"
      ]
     },
     "execution_count": 117,
     "metadata": {},
     "output_type": "execute_result"
    }
   ],
   "source": [
    "#7. Create a date object of your day of birth.\n",
    "dob = date(2001,1,25)\n",
    "dob"
   ]
  },
  {
   "cell_type": "code",
   "execution_count": 118,
   "id": "bb882a89",
   "metadata": {},
   "outputs": [
    {
     "data": {
      "text/plain": [
       "3"
      ]
     },
     "execution_count": 118,
     "metadata": {},
     "output_type": "execute_result"
    }
   ],
   "source": [
    "#8. What day of the week was your day of birth?\n",
    "dob.weekday()"
   ]
  },
  {
   "cell_type": "code",
   "execution_count": 119,
   "id": "77d8b966",
   "metadata": {},
   "outputs": [
    {
     "data": {
      "text/plain": [
       "datetime.date(2028, 6, 12)"
      ]
     },
     "execution_count": 119,
     "metadata": {},
     "output_type": "execute_result"
    }
   ],
   "source": [
    "#9. When will you be (or when were you) 10,000 days old?\n",
    "from datetime import timedelta\n",
    "day10000 = dob + timedelta(days=10000)\n",
    "day10000"
   ]
  },
  {
   "cell_type": "code",
   "execution_count": null,
   "id": "dd8f97a7",
   "metadata": {},
   "outputs": [],
   "source": []
  }
 ],
 "metadata": {
  "kernelspec": {
   "display_name": "Python 3 (ipykernel)",
   "language": "python",
   "name": "python3"
  },
  "language_info": {
   "codemirror_mode": {
    "name": "ipython",
    "version": 3
   },
   "file_extension": ".py",
   "mimetype": "text/x-python",
   "name": "python",
   "nbconvert_exporter": "python",
   "pygments_lexer": "ipython3",
   "version": "3.9.7"
  }
 },
 "nbformat": 4,
 "nbformat_minor": 5
}
