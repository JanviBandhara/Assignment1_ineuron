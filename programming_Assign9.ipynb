{
 "cells": [
  {
   "cell_type": "code",
   "execution_count": 1,
   "id": "b85f6ce9",
   "metadata": {},
   "outputs": [
    {
     "data": {
      "text/plain": [
       "'175 is disarium'"
      ]
     },
     "execution_count": 1,
     "metadata": {},
     "output_type": "execute_result"
    }
   ],
   "source": [
    "# 1) Write a Python program to check if the given number is a Disarium Number?\n",
    "import logging\n",
    "logging.basicConfig(filename='programming_assign9.log',level = logging.DEBUG, format = '%(levelname)s %(name)s %(message)s')\n",
    "\n",
    "class disarium:\n",
    "    logging.info(\"Into class disarium.\")\n",
    "\n",
    "    def disarium_num(self,num):\n",
    "        \n",
    "        '''This Function will check if the given number is a Disarium Number'''\n",
    "        logging.info(f'The numbers Entered by user is {num}.')\n",
    "        try:\n",
    "            if type(num) == int:\n",
    "                logging.info(f'Number converted into list.')\n",
    "                num_list = [int(n) for n in str(num)]\n",
    "                output = 0\n",
    "                for i in range(len(num_list)):\n",
    "                    output = output + num_list[i]**(i+1)\n",
    "                if output == num:\n",
    "                    logging.info(f'{num} is disarium.')\n",
    "                    return f'{num} is disarium'\n",
    "                else:\n",
    "                    logging.info(f'{num} is not an disarium.')\n",
    "                    return f'{num} is not an disarium'\n",
    "            else:\n",
    "                logging.info(f'Invalid input....Only integer!!')\n",
    "                raise Exception('Invalid Input')\n",
    "        except Exception as e:\n",
    "            logging.info(f'error :- {e}')\n",
    "obj = disarium()\n",
    "obj.disarium_num(175)"
   ]
  },
  {
   "cell_type": "code",
   "execution_count": 2,
   "id": "be420293",
   "metadata": {
    "scrolled": true
   },
   "outputs": [
    {
     "data": {
      "text/plain": [
       "[0, 1, 2, 3, 4, 5, 6, 7, 8, 9, 89]"
      ]
     },
     "execution_count": 2,
     "metadata": {},
     "output_type": "execute_result"
    }
   ],
   "source": [
    "# 2) Write a Python program to print all disarium numbers between 1 to 100?\n",
    "import logging\n",
    "logging.basicConfig(filename='programming_assign9.log',level = logging.DEBUG, format = '%(levelname)s %(name)s %(message)s')\n",
    "\n",
    "class disarium_bet:\n",
    "    logging.info(\"Into class disarium_bet.\")\n",
    "\n",
    "    def disarium_num(self,n):\n",
    "        \n",
    "        '''This Function will print all disarium numbers between 1 to 100'''\n",
    "        logging.info(f'The range fro printing disarium number is {n}.')\n",
    "        \n",
    "        try:\n",
    "            if type(n) == int:\n",
    "                l2 = []\n",
    "                output = 0\n",
    "                for i in range(n):\n",
    "                    l1 = [int(i) for i in str(i)]\n",
    "                    for k in range(len(l1)):\n",
    "                        output = output + l1[k]**(k+1)\n",
    "                    if output == i:\n",
    "                        l2.append(i)\n",
    "                    output = 0\n",
    "                logging.info(f'disarium number are :- {l2}')\n",
    "                return l2\n",
    "            else:\n",
    "                logging.info(f'Not an invalid input')\n",
    "                raise Exception('Kindly enter interger values')\n",
    "        except Exception as e:\n",
    "            logging.info(f'error is {e}')\n",
    "obj = disarium_bet()\n",
    "obj.disarium_num(100)"
   ]
  },
  {
   "cell_type": "code",
   "execution_count": 3,
   "id": "237e9ff5",
   "metadata": {},
   "outputs": [
    {
     "data": {
      "text/plain": [
       "'2 Not an happy number'"
      ]
     },
     "execution_count": 3,
     "metadata": {},
     "output_type": "execute_result"
    }
   ],
   "source": [
    "# 3) Write a Python program to check if the given number is Happy Number?\n",
    "import logging\n",
    "logging.basicConfig(filename='programming_assign9.log',level = logging.DEBUG, format = '%(levelname)s %(name)s %(message)s')\n",
    "\n",
    "class happy:\n",
    "    logging.info(\"Into class happy.\")\n",
    "\n",
    "    def happy_num(self,num):\n",
    "        \n",
    "        '''This Function will check if the given number is Happy Number'''\n",
    "        logging.info(f'The numbers Entered by user is {num}.')\n",
    "        \n",
    "        try :\n",
    "            if type(num) == int:\n",
    "                l1=[]\n",
    "                rem = total = 0\n",
    "                n = num\n",
    "                while num>0:\n",
    "                    rem = num%10\n",
    "                    total = total + (rem*rem)\n",
    "                    num = num//10\n",
    "                repeat_num = total\n",
    "                while True:\n",
    "                    repeat_num = total\n",
    "                    total=0\n",
    "                    if repeat_num == n:\n",
    "                        logging.info(f'{n} Not a happy Number.')\n",
    "                        return f'{n} Not a happy Number'\n",
    "                    elif repeat_num == 1:\n",
    "                        logging.info(f'{n} happy Number.')\n",
    "                        return f'{n} happy'\n",
    "                    while repeat_num > 0:\n",
    "                        rem = repeat_num%10\n",
    "                        total = total + (rem*rem)\n",
    "                        repeat_num = repeat_num//10\n",
    "                    rem = 0\n",
    "                    if total not in l1:\n",
    "                        l1.append(total)\n",
    "                    else:\n",
    "                        logging.info(f'{n} is not an happy number.')\n",
    "                        return f'{n} Not an happy number'\n",
    "            else:\n",
    "                logging.info(f'Invalid input....only integers!')\n",
    "                raise Exception('Invalid input')\n",
    "        except Exception as e:\n",
    "            logging.info(f'error :- {e}')\n",
    "obj = happy()\n",
    "obj.happy_num(2)"
   ]
  },
  {
   "cell_type": "code",
   "execution_count": 4,
   "id": "0b854bed",
   "metadata": {},
   "outputs": [
    {
     "data": {
      "text/plain": [
       "[1, 7, 10, 13, 19, 23, 28, 31, 32, 44, 49, 68, 70, 79, 82, 86, 91, 94, 97, 100]"
      ]
     },
     "execution_count": 4,
     "metadata": {},
     "output_type": "execute_result"
    }
   ],
   "source": [
    "# 4) Write a Python program to print all happy numbers between 1 and 100?\n",
    "import logging\n",
    "logging.basicConfig(filename='programming_assign9.log',level = logging.DEBUG, format = '%(levelname)s %(name)s %(message)s')\n",
    "\n",
    "class happy_num:\n",
    "    logging.info(\"Into class happy_num.\")\n",
    "\n",
    "    def happy(self,num):\n",
    "        \n",
    "        '''This Function print all happy numbers between 1 and 100'''\n",
    "        logging.info(f'The range for printing happy number is {num}.')\n",
    "        \n",
    "        try:\n",
    "            if type(num) == int:\n",
    "                l1 = []\n",
    "                l2 =[]\n",
    "                for i in range(1,num+1):\n",
    "                    l1.clear()\n",
    "                    rem = total = 0\n",
    "                    n = i\n",
    "                    while i>0:\n",
    "                        rem = i%10\n",
    "                        total = total + (rem*rem)\n",
    "                        i = i//10\n",
    "                    repeat_num = total\n",
    "                    while True:\n",
    "                        repeat_num = total\n",
    "                        total=0\n",
    "                        if repeat_num == 1:\n",
    "                            l2.append(n)\n",
    "                            break\n",
    "                        elif repeat_num == n:\n",
    "                            break\n",
    "                        while repeat_num > 0:\n",
    "                            rem = repeat_num%10\n",
    "                            total = total + (rem*rem)\n",
    "                            repeat_num = repeat_num//10\n",
    "                        rem = 0\n",
    "                        if total not in l1:\n",
    "                            l1.append(total)\n",
    "                        else:\n",
    "                            break\n",
    "                return l2\n",
    "            else :\n",
    "                logging.info(f'Invalid Input...Only integers!!!')\n",
    "                raise Exception('Invalid input')\n",
    "        except Exception as e:\n",
    "            logging.info(f'error :- {e}')\n",
    "obj= happy_num()\n",
    "obj.happy(100)"
   ]
  },
  {
   "cell_type": "code",
   "execution_count": 5,
   "id": "aa670dbb",
   "metadata": {},
   "outputs": [
    {
     "data": {
      "text/plain": [
       "'45 is harshad number'"
      ]
     },
     "execution_count": 5,
     "metadata": {},
     "output_type": "execute_result"
    }
   ],
   "source": [
    "# 5) Write a Python program to determine whether the given number is a Harshad Number?\n",
    "import logging\n",
    "logging.basicConfig(filename='programming_assign9.log',level = logging.DEBUG, format = '%(levelname)s %(name)s %(message)s')\n",
    "\n",
    "class harshad:\n",
    "    logging.info(\"Into class harshad.\")\n",
    "\n",
    "    def harshad_num(self,num):\n",
    "        \n",
    "        '''This Function determine whether the given number is a Harshad Number'''\n",
    "        logging.info(f'The numbers Entered by user is {num}.')\n",
    "        \n",
    "        try:\n",
    "            if type(num) == int:\n",
    "                int_list = [int(i) for i in str(num)]\n",
    "                if num % sum(int_list) == 0:\n",
    "                    logging.info(f'{num} is harshad number.')\n",
    "                    return f'{num} is harshad number'\n",
    "                else:\n",
    "                    logging.info(f'{n} is Not a harshad Number.')\n",
    "                    return f'{num} is not an harshad number'\n",
    "            else:\n",
    "                logging.info(f'Invalid Input....Only Integers!!!')\n",
    "                raise Exception('Invalid Input!!')\n",
    "        except Exception as e:\n",
    "            logging.info(f'Error :- {e}')\n",
    "                \n",
    "obj = harshad()\n",
    "obj.harshad_num(45)"
   ]
  },
  {
   "cell_type": "code",
   "execution_count": 6,
   "id": "b94bd510",
   "metadata": {},
   "outputs": [
    {
     "data": {
      "text/plain": [
       "[2, 6, 12, 20, 30, 42, 56, 72, 90]"
      ]
     },
     "execution_count": 6,
     "metadata": {},
     "output_type": "execute_result"
    }
   ],
   "source": [
    "# 6) Write a Python program to print all pronic numbers between 1 and 100?\n",
    "import logging\n",
    "logging.basicConfig(filename='programming_assign9.log',level = logging.DEBUG, format = '%(levelname)s %(name)s %(message)s')\n",
    "\n",
    "class pronic:\n",
    "    logging.info(\"Into class pronic.\")\n",
    "    \n",
    "    def pronic_num(self,n):\n",
    "        \n",
    "        '''This Function print all pronic numbers between 1 and 100'''\n",
    "        logging.info(f'The range for printing pronic number is {n}.')\n",
    "        \n",
    "        try:\n",
    "            if type(n) == int:\n",
    "                l1 = []\n",
    "                pronic_list=[]\n",
    "                for value in range(1,n+1):\n",
    "                    l1.clear()\n",
    "                    if value > 0:\n",
    "                        for i in range(1,value+1):\n",
    "                            if value % i == 0:\n",
    "                                l1.append(i)\n",
    "                        for i in range(len(l1)-1):\n",
    "                            if l1[i] * l1[i+1] == value:\n",
    "                                if l1[i+1] == l1[i]+1 or l1[i]-1 == l1[i+1] :\n",
    "                                    pronic_list.append(value)\n",
    "                                else:\n",
    "                                    break\n",
    "                logging.info(f'pronic number are :- {pronic_list}')\n",
    "                return pronic_list\n",
    "            else :\n",
    "                logging.info(f'Invalid input....Only Integerss!!!')\n",
    "                raise Exception('Invalid input')\n",
    "        except Exception as e:\n",
    "            logging.info(f'error :- {e}')\n",
    "obj = pronic()\n",
    "obj.pronic_num(100)"
   ]
  },
  {
   "cell_type": "code",
   "execution_count": null,
   "id": "03ea71e8",
   "metadata": {},
   "outputs": [],
   "source": []
  }
 ],
 "metadata": {
  "kernelspec": {
   "display_name": "Python 3 (ipykernel)",
   "language": "python",
   "name": "python3"
  },
  "language_info": {
   "codemirror_mode": {
    "name": "ipython",
    "version": 3
   },
   "file_extension": ".py",
   "mimetype": "text/x-python",
   "name": "python",
   "nbconvert_exporter": "python",
   "pygments_lexer": "ipython3",
   "version": "3.9.7"
  }
 },
 "nbformat": 4,
 "nbformat_minor": 5
}
