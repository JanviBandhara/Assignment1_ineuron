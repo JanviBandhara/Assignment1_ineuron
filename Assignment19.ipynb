{
 "cells": [
  {
   "cell_type": "markdown",
   "id": "dbe6ed1c",
   "metadata": {},
   "source": [
    "1. Make a class called Thing with no contents and print it. Then, create an object called example from this class and also print it. Are the printed values the same or different?\n"
   ]
  },
  {
   "cell_type": "code",
   "execution_count": 94,
   "id": "02b6451a",
   "metadata": {},
   "outputs": [
    {
     "name": "stdout",
     "output_type": "stream",
     "text": [
      "<class '__main__.Thing'>\n",
      "<__main__.Thing object at 0x0000028E38E39700>\n"
     ]
    }
   ],
   "source": [
    "class Thing:\n",
    "    pass\n",
    "print(Thing)\n",
    "example = Thing()\n",
    "print(example)\n",
    "# yess the printed values are different."
   ]
  },
  {
   "cell_type": "markdown",
   "id": "babda234",
   "metadata": {},
   "source": [
    "2. Create a new class called Thing2 and add the value 'abc' to the letters class attribute. Letters should be printed.\n"
   ]
  },
  {
   "cell_type": "code",
   "execution_count": 95,
   "id": "fe74ec0a",
   "metadata": {},
   "outputs": [
    {
     "name": "stdout",
     "output_type": "stream",
     "text": [
      "abc\n"
     ]
    }
   ],
   "source": [
    "class Thing2:\n",
    "    letters = 'abc'\n",
    "example = Thing2()\n",
    "print(example.letters)"
   ]
  },
  {
   "cell_type": "markdown",
   "id": "e24b33a1",
   "metadata": {},
   "source": [
    "3. Make yet another class called, of course, Thing3. This time, assign the value 'xyz' to an instance (object) attribute called letters. Print letters. Do you need to make an object from the class to do this?\n"
   ]
  },
  {
   "cell_type": "code",
   "execution_count": 100,
   "id": "f2301302",
   "metadata": {},
   "outputs": [
    {
     "name": "stdout",
     "output_type": "stream",
     "text": [
      "abc\n"
     ]
    }
   ],
   "source": [
    "class thing3:\n",
    "    def __init__(self):\n",
    "        self.letters = 'abc'\n",
    "example = thing3()\n",
    "print(example.letters)\n",
    "#yes object is need for printing the values"
   ]
  },
  {
   "cell_type": "markdown",
   "id": "c781f501",
   "metadata": {},
   "source": [
    "4. Create an Element class with the instance attributes name, symbol, and number. Create a class\n",
    "object with the values 'Hydrogen,' 'H,' and 1.\n"
   ]
  },
  {
   "cell_type": "code",
   "execution_count": 105,
   "id": "8d5bb9fc",
   "metadata": {},
   "outputs": [],
   "source": [
    "class Element:\n",
    "    def __init__(self,name,symbol,number):\n",
    "        self.name = name\n",
    "        self.symbol = symbol\n",
    "        self.number = number\n",
    "\n",
    "class_obj = Element('Hydrogen', 'H' ,1)"
   ]
  },
  {
   "cell_type": "markdown",
   "id": "982d4b39",
   "metadata": {},
   "source": [
    "5. Make a dictionary with these keys and values: 'name': 'Hydrogen', 'symbol': 'H', 'number': 1. Then,\n",
    "create an object called hydrogen from class Element using this dictionary.\n"
   ]
  },
  {
   "cell_type": "code",
   "execution_count": 112,
   "id": "4f320b92",
   "metadata": {},
   "outputs": [],
   "source": [
    "dict1 =  {'name':'Hydrogen', 'symbol': 'H', 'number': 1}\n",
    "hydrogen = Element(**dict1)"
   ]
  },
  {
   "cell_type": "markdown",
   "id": "ff3c0da6",
   "metadata": {},
   "source": [
    "6. For the Element class, define a method called dump() that prints the values of the object’s\n",
    "attributes (name, symbol, and number). Create the hydrogen object from this new definition and\n",
    "use dump() to print its attributes.\n"
   ]
  },
  {
   "cell_type": "code",
   "execution_count": 114,
   "id": "fb099c83",
   "metadata": {},
   "outputs": [
    {
     "name": "stdout",
     "output_type": "stream",
     "text": [
      "Name :-  Hydrogen\n",
      "Symbol :-  H\n",
      "Number :-  1\n"
     ]
    }
   ],
   "source": [
    "class Element:\n",
    "    def __init__(self,name,symbol,number):\n",
    "        self.name = name\n",
    "        self.symbol = symbol\n",
    "        self.number = number\n",
    "    def dump(self):\n",
    "        print(\"Name :- \",self.name)\n",
    "        print(\"Symbol :- \",self.symbol)\n",
    "        print(\"Number :- \",self.number)\n",
    "hydrogen = Element('Hydrogen', 'H' ,1)\n",
    "hydrogen.dump()"
   ]
  },
  {
   "cell_type": "markdown",
   "id": "c011e954",
   "metadata": {},
   "source": [
    "7. Call print(hydrogen). In the definition of Element, change the name of method dump to __str__,\n",
    "create a new hydrogen object, and call print(hydrogen) again.\n"
   ]
  },
  {
   "cell_type": "code",
   "execution_count": 115,
   "id": "1be0f99d",
   "metadata": {},
   "outputs": [
    {
     "name": "stdout",
     "output_type": "stream",
     "text": [
      "<__main__.Element object at 0x0000028E38E392B0>\n"
     ]
    }
   ],
   "source": [
    "print(hydrogen)"
   ]
  },
  {
   "cell_type": "code",
   "execution_count": 128,
   "id": "23346067",
   "metadata": {},
   "outputs": [
    {
     "name": "stdout",
     "output_type": "stream",
     "text": [
      "name :- Hydrogen,Symbol :- H,number:- 1\n"
     ]
    }
   ],
   "source": [
    "class Element:\n",
    "    def __init__(self,name,symbol,number):\n",
    "        self.name = name\n",
    "        self.symbol = symbol\n",
    "        self.number = number\n",
    "    def __str__(self):\n",
    "        return (f'name :- {self.name},Symbol :- {self.symbol},number:- {self.number}')\n",
    "        \n",
    "hydrogen = Element('Hydrogen', 'H' ,\"1\")\n",
    "print(hydrogen)"
   ]
  },
  {
   "cell_type": "markdown",
   "id": "9652961d",
   "metadata": {},
   "source": [
    "8. Modify Element to make the attributes name, symbol, and number private. Define a getter\n",
    "property for each to return its value.\n"
   ]
  },
  {
   "cell_type": "code",
   "execution_count": 133,
   "id": "7e4e7859",
   "metadata": {},
   "outputs": [
    {
     "name": "stdout",
     "output_type": "stream",
     "text": [
      "name :- Hydrogen\n",
      "name :- H\n",
      "name :- 1\n"
     ]
    }
   ],
   "source": [
    "class Element:\n",
    "    def __init__(self,name,symbol,number):\n",
    "        self.__name = name\n",
    "        self.__symbol = symbol\n",
    "        self.__number = number\n",
    "    @property\n",
    "    def name_getter(self):\n",
    "        return (f'name :- {self.__name}')\n",
    "    \n",
    "    @property\n",
    "    def symbol_getter(self):\n",
    "        return (f'name :- {self.__symbol}')\n",
    "    \n",
    "    @property\n",
    "    def number_getter(self):\n",
    "        return (f'name :- {self.__number}')\n",
    "        \n",
    "hydrogen = Element('Hydrogen', 'H' ,\"1\")\n",
    "print(hydrogen.name_getter)\n",
    "print(hydrogen.symbol_getter)\n",
    "print(hydrogen.number_getter)"
   ]
  },
  {
   "cell_type": "markdown",
   "id": "4b80a324",
   "metadata": {},
   "source": [
    "9. Define three classes: Bear, Rabbit, and Octothorpe. For each, define only one method: eats(). This\n",
    "should return 'berries' (Bear), 'clover' (Rabbit), or 'campers' (Octothorpe). Create one object from\n",
    "each and print what it eats.\n"
   ]
  },
  {
   "cell_type": "code",
   "execution_count": 137,
   "id": "7870c660",
   "metadata": {},
   "outputs": [
    {
     "name": "stdout",
     "output_type": "stream",
     "text": [
      "berries\n",
      "clover\n",
      "campers\n"
     ]
    }
   ],
   "source": [
    "class Bear:\n",
    "    def eats(self):\n",
    "        return 'berries'\n",
    "class Rabbit:\n",
    "    def eats(self):\n",
    "        return 'clover'\n",
    "class Octothorpe:\n",
    "    def eats(self):\n",
    "        return 'campers'\n",
    "bearobj = Bear()\n",
    "print(bearobj.eats())\n",
    "\n",
    "rabbitobj = Rabbit()\n",
    "print(rabbitobj.eats())\n",
    "\n",
    "octothroperobj = Octothorpe()\n",
    "print(octothroperobj.eats())"
   ]
  },
  {
   "cell_type": "markdown",
   "id": "cdef5726",
   "metadata": {},
   "source": [
    "10. Define these classes: Laser, Claw, and SmartPhone. Each has only one method: does(). This\n",
    "returns 'disintegrate' (Laser), 'crush' (Claw), or 'ring' (SmartPhone). Then, define the class Robot that\n",
    "has one instance (object) of each of these. Define a does() method for the Robot that prints what its\n",
    "component objects do."
   ]
  },
  {
   "cell_type": "code",
   "execution_count": 141,
   "id": "ca7014ac",
   "metadata": {},
   "outputs": [
    {
     "name": "stdout",
     "output_type": "stream",
     "text": [
      "integrate all the classes method : \n",
      " Laser object :- disintegrate \n",
      " Claw object :- crush \n",
      " SmartPhone object :- ring\n"
     ]
    }
   ],
   "source": [
    "class Laser:\n",
    "    def does(self):\n",
    "        return 'disintegrate'\n",
    "    \n",
    "class Claw:\n",
    "    def does(self):\n",
    "        return 'crush'\n",
    "    \n",
    "class SmartPhone:\n",
    "    def does(self):\n",
    "        return 'ring'\n",
    "    \n",
    "class Robot:\n",
    "    def __init__(self):\n",
    "        self.laser = Laser()\n",
    "        self.claw = Claw()\n",
    "        self.smartPhone = SmartPhone()\n",
    "    \n",
    "    def does(self):\n",
    "        return (f'integrate all the classes method : \\n Laser object :- {self.laser.does()} \\n Claw object :- {self.claw.does()} \\n SmartPhone object :- {self.smartPhone.does()}')\n",
    "    \n",
    "robot_obj = Robot()\n",
    "print(robot_obj.does())"
   ]
  },
  {
   "cell_type": "code",
   "execution_count": null,
   "id": "9a53d4ff",
   "metadata": {},
   "outputs": [],
   "source": []
  }
 ],
 "metadata": {
  "kernelspec": {
   "display_name": "Python 3 (ipykernel)",
   "language": "python",
   "name": "python3"
  },
  "language_info": {
   "codemirror_mode": {
    "name": "ipython",
    "version": 3
   },
   "file_extension": ".py",
   "mimetype": "text/x-python",
   "name": "python",
   "nbconvert_exporter": "python",
   "pygments_lexer": "ipython3",
   "version": "3.9.7"
  }
 },
 "nbformat": 4,
 "nbformat_minor": 5
}
