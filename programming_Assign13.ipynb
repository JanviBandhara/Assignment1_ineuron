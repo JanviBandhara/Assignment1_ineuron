{
 "cells": [
  {
   "cell_type": "markdown",
   "id": "ee7c9ae8",
   "metadata": {},
   "source": [
    "## Question 1:\n",
    "Write a program that calculates and prints the value according to the given formula:\n",
    "\n",
    "Q = Square root of [(2 * C * D)/H]\n",
    "Following are the fixed values of C and H:\n",
    "\n",
    "C is 50. H is 30.\n",
    "\n",
    "D is the variable whose values should be input to your program in a comma-separated\n",
    "sequence.\n",
    "### Example\n",
    "* Let us assume the following comma separated input sequence is given to the program:\n",
    "100,150,180\n",
    "* The output of the program should be:\n",
    "18,22,24"
   ]
  },
  {
   "cell_type": "code",
   "execution_count": 1,
   "id": "d7c66934",
   "metadata": {},
   "outputs": [
    {
     "data": {
      "text/plain": [
       "[18, 22, 24]"
      ]
     },
     "execution_count": 1,
     "metadata": {},
     "output_type": "execute_result"
    }
   ],
   "source": [
    "import math\n",
    "class evaluate:\n",
    "    def evaluate_expression(self,*a):\n",
    "        try:\n",
    "            l1=[]\n",
    "            for i in a:\n",
    "                l1.append(round(math.sqrt(2 * 50 * i / 30)))\n",
    "            return l1\n",
    "        except Exception as e:\n",
    "            print('Error :- ',e)\n",
    "    \n",
    "    def evaluate_expr(self):\n",
    "        try:\n",
    "            values = input('Input :- ')\n",
    "            l = list(values.split(','))\n",
    "            l1 = []\n",
    "            for i in l:\n",
    "                l1.append(round(math.sqrt(2 * 50 * int(i) / 30)))\n",
    "            for i in range(len(l1)):\n",
    "                if i == (len(l1)-1):\n",
    "                    print(l1[i])\n",
    "                else:\n",
    "                    print(l1[i],end=',')\n",
    "        except Exception as e:\n",
    "            print('Error:- ',e)\n",
    "    \n",
    "obj = evaluate()\n",
    "obj.evaluate_expression(100,150,180)"
   ]
  },
  {
   "cell_type": "code",
   "execution_count": 2,
   "id": "5fb8b7b1",
   "metadata": {},
   "outputs": [
    {
     "name": "stdout",
     "output_type": "stream",
     "text": [
      "Input :- 100,150,200\n",
      "18,22,26\n"
     ]
    }
   ],
   "source": [
    "obj = evaluate()\n",
    "obj.evaluate_expr()"
   ]
  },
  {
   "cell_type": "markdown",
   "id": "0d9cabde",
   "metadata": {},
   "source": [
    "## Question 2:\n",
    "Write a program which takes 2 digits, X,Y as input and generates a 2-dimensional array. \n",
    "\n",
    "The element value in the i-th row and j-th column of the array should be i*j.\n",
    "\n",
    "Note: i=0,1.., X-1; j=0,1,¡Y-1.\n",
    "### Example\n",
    "Suppose the following inputs are given to the program:\n",
    "3,5\n",
    "\n",
    "Then, the output of the program should be:\n",
    "[[0, 0, 0, 0, 0], [0, 1, 2, 3, 4], [0, 2, 4, 6, 8]]"
   ]
  },
  {
   "cell_type": "code",
   "execution_count": 3,
   "id": "1cf324d4",
   "metadata": {},
   "outputs": [
    {
     "data": {
      "text/plain": [
       "[[0, 0, 0, 0, 0], [0, 1, 2, 3, 4], [0, 2, 4, 6, 8]]"
      ]
     },
     "execution_count": 3,
     "metadata": {},
     "output_type": "execute_result"
    }
   ],
   "source": [
    "class two_dimension:\n",
    "    def two_d_array(self,x,y):\n",
    "        try:\n",
    "            l=[]\n",
    "            for i in range(x):\n",
    "                col =[]\n",
    "                for j in range(y):\n",
    "                    col.append(i*j)\n",
    "                l.append(col)\n",
    "            return l\n",
    "        except Exception as e:\n",
    "            print('Error:- ',e)\n",
    "    \n",
    "obj = two_dimension()\n",
    "obj.two_d_array(3,5)"
   ]
  },
  {
   "cell_type": "markdown",
   "id": "92008535",
   "metadata": {},
   "source": [
    "## Question 3:\n",
    "Write a program that accepts a comma separated sequence of words as input and prints the words in a comma-separated sequence after sorting them alphabetically.\n",
    "\n",
    "Suppose the following input is supplied to the program:\n",
    "without,hello,bag,world\n",
    "\n",
    "Then, the output should be:\n",
    "bag,hello,without,world"
   ]
  },
  {
   "cell_type": "code",
   "execution_count": 4,
   "id": "aabc3752",
   "metadata": {},
   "outputs": [
    {
     "name": "stdout",
     "output_type": "stream",
     "text": [
      "Input :- without,hello,bag,world\n",
      "Output :-  bag,hello,without,world\n"
     ]
    }
   ],
   "source": [
    "class sort_alphabetic:\n",
    "    def sort_alpha(self):\n",
    "        try:\n",
    "            word = input(\"Input :- \")\n",
    "            l = list(word.split(','))\n",
    "            l = sorted(l)\n",
    "            for i in l:\n",
    "                j = \",\".join(l)\n",
    "            print('Output :- ',j)\n",
    "    #         return j\n",
    "        except Exception as e:\n",
    "            print('Error :- ',e)\n",
    "    \n",
    "    \n",
    "obj = sort_alphabetic()\n",
    "obj.sort_alpha()"
   ]
  },
  {
   "cell_type": "markdown",
   "id": "0580e88a",
   "metadata": {},
   "source": [
    "## Question 4:\n",
    "Write a program that accepts a sequence of whitespace separated words as input and prints the words after removing all duplicate words and sorting them alphanumerically.\n",
    "\n",
    "Suppose the following input is supplied to the program:\n",
    "hello world and practice makes perfect and hello world again\n",
    "\n",
    "Then, the output should be:\n",
    "again and hello makes perfect practice world"
   ]
  },
  {
   "cell_type": "code",
   "execution_count": 5,
   "id": "19fa3308",
   "metadata": {},
   "outputs": [
    {
     "name": "stdout",
     "output_type": "stream",
     "text": [
      "Input :- hello world and practice makes perfect and hello world again\n",
      "again and hello makes perfect practice world\n"
     ]
    }
   ],
   "source": [
    "class sort_word:\n",
    "    def sort_alphanumerical(self):\n",
    "        try:\n",
    "            word=input('Input :- ')\n",
    "            l = set(word.split(' '))\n",
    "            l = list(sorted(l))\n",
    "            for i in l:\n",
    "                s = ' '.join(l)\n",
    "            print(s)\n",
    "        #return s\n",
    "        except Exception as e:\n",
    "            print('Error :- ',e)\n",
    "    \n",
    "obj = sort_word()\n",
    "obj.sort_alphanumerical()"
   ]
  },
  {
   "cell_type": "markdown",
   "id": "da99fa09",
   "metadata": {},
   "source": [
    "## Question 5:\n",
    "Write a program that accepts a sentence and calculate the number of letters and digits.\n",
    "\n",
    "Suppose the following input is supplied to the program:\n",
    "hello world! 123\n",
    "\n",
    "\n",
    "Then, the output should be:\n",
    "* LETTERS 10\n",
    "* DIGITS 3"
   ]
  },
  {
   "cell_type": "code",
   "execution_count": 6,
   "id": "67d319df",
   "metadata": {},
   "outputs": [
    {
     "name": "stdout",
     "output_type": "stream",
     "text": [
      "Input:-  hello world! 123\n",
      "LETTERS 10\n",
      "DIGITS 3\n"
     ]
    }
   ],
   "source": [
    "class count_letter_digit:\n",
    "    def calculate_letters_digits(self):\n",
    "        try:\n",
    "            sentence = input('Input:- ')\n",
    "            new_line='\\n'\n",
    "            letter_count  = digit_count = 0\n",
    "            for i in sentence:\n",
    "                if i.isalpha():\n",
    "                    letter_count +=1\n",
    "                elif i.isdigit():\n",
    "                    digit_count +=1\n",
    "\n",
    "            print('LETTERS',letter_count)\n",
    "            print('DIGITS',digit_count)\n",
    "        #return f'LETTERS {letter_count} DIGITS {digit_count}'\n",
    "        except Exception as e:\n",
    "            print('Error :- ',e)\n",
    "            \n",
    "obj = count_letter_digit()\n",
    "obj.calculate_letters_digits()"
   ]
  },
  {
   "cell_type": "markdown",
   "id": "11096380",
   "metadata": {},
   "source": [
    "## Question 6:\n",
    "A website requires the users to input username and password to register. Write a program to check the validity of password input by users.\n",
    "\n",
    "Following are the criteria for checking the password:\n",
    "1. At least 1 letter between [a-z]\n",
    "2. At least 1 number between [0-9]\n",
    "1. At least 1 letter between [A-Z]\n",
    "3. At least 1 character from [$#@]\n",
    "4. Minimum length of transaction password: 6\n",
    "5. Maximum length of transaction password: 12\n",
    "\n",
    "Your program should accept a sequence of comma separated passwords and will check them according to the above criteria. Passwords that match the criteria are to be printed, each separated by a comma.\n",
    "### Example\n",
    "\n",
    "If the following passwords are given as input to the program:\n",
    "ABd1234@1,a F1#,2w3E*,2We3345\n",
    "\n",
    "Then, the output of the program should be:\n",
    "ABd1234@1"
   ]
  },
  {
   "cell_type": "code",
   "execution_count": 7,
   "id": "48bb05e3",
   "metadata": {},
   "outputs": [
    {
     "name": "stdout",
     "output_type": "stream",
     "text": [
      "Input :- ABd1234@1,a F1#,2w3E*,2We3345\n"
     ]
    },
    {
     "data": {
      "text/plain": [
       "['ABd1234@1']"
      ]
     },
     "execution_count": 7,
     "metadata": {},
     "output_type": "execute_result"
    }
   ],
   "source": [
    "import re\n",
    "class check_password:\n",
    "    def password_criteria(self):\n",
    "        try:\n",
    "            pwd = input('Input :- ')\n",
    "            l = list(pwd.split(','))\n",
    "            pswd_ans=[]\n",
    "            flag = 0\n",
    "            for i in l:\n",
    "                if len(i)<=6 or len(i)>=12:\n",
    "                    continue\n",
    "                elif not re.search(\"[a-z]\", i):\n",
    "                    continue\n",
    "                elif not re.search(\"[A-Z]\", i):\n",
    "                    continue\n",
    "                elif not re.search(\"[0-9]\", i):\n",
    "                    continue\n",
    "                elif not re.search(\"[$#@]\" , i):\n",
    "                    continue\n",
    "                else:\n",
    "                    pswd_ans.append(i)   \n",
    "            return pswd_ans\n",
    "        except Exception as e:\n",
    "            print('Error :- ',e)\n",
    "    \n",
    "obj = check_password()\n",
    "obj.password_criteria()"
   ]
  },
  {
   "cell_type": "code",
   "execution_count": null,
   "id": "97f78043",
   "metadata": {},
   "outputs": [],
   "source": []
  }
 ],
 "metadata": {
  "kernelspec": {
   "display_name": "Python 3 (ipykernel)",
   "language": "python",
   "name": "python3"
  },
  "language_info": {
   "codemirror_mode": {
    "name": "ipython",
    "version": 3
   },
   "file_extension": ".py",
   "mimetype": "text/x-python",
   "name": "python",
   "nbconvert_exporter": "python",
   "pygments_lexer": "ipython3",
   "version": "3.9.7"
  }
 },
 "nbformat": 4,
 "nbformat_minor": 5
}
