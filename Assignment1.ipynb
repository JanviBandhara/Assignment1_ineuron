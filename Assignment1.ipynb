{
 "cells": [
  {
   "cell_type": "code",
   "execution_count": null,
   "id": "3d1d3249",
   "metadata": {},
   "outputs": [],
   "source": [
    "1. In the below elements which of them are values or an expression? eg:- values can be\n",
    "integer or string and expressions will be mathematical operators.\n",
    "\n",
    "* :- Multiplication operator\n",
    "'hello' :- String Value\n",
    "-87.8 :- Float Value\n",
    "- :- Subtraction Operator\n",
    "/ :- Division Operator\n",
    "+ :- Addition Operator\n",
    "6 :- Integer Value\n"
   ]
  },
  {
   "cell_type": "code",
   "execution_count": 2,
   "id": "3627d9b6",
   "metadata": {},
   "outputs": [],
   "source": [
    "2. What is the difference between string and variable?\n",
    "\n",
    "--> String is an kind of values which is usually enclosed in single/double/triple quotes whereas variable is a container to \n",
    "store this type of values."
   ]
  },
  {
   "cell_type": "code",
   "execution_count": null,
   "id": "0573953b",
   "metadata": {},
   "outputs": [],
   "source": [
    "3. Describe three different data types.\n",
    "\n",
    "Integers :-\n",
    "    -> It can store the integer values(whole number).\n",
    "    -> It can be Positive or Negative.\n",
    "    -> Example :- 45,96,1,-56\n",
    "\n",
    "Float :- \n",
    "    -> It can store the floating values.\n",
    "    -> Example :- 4.23,89.45,-2.3\n",
    "\n",
    "String :- \n",
    "    --> It is usually enclosed in single/double/triple quotes\n",
    "    --> Example :- \"abcdef\""
   ]
  },
  {
   "cell_type": "code",
   "execution_count": null,
   "id": "3e6dfb3a",
   "metadata": {},
   "outputs": [],
   "source": [
    "4. What is an expression made up of? What do all expressions do?\n",
    "--> Expression is usually made up of operators, variables and their corresponding values\n",
    "--> Example :- a = 20 + 10 -> The whole is stated as expression which is going to evalute. "
   ]
  },
  {
   "cell_type": "code",
   "execution_count": null,
   "id": "858fb8e5",
   "metadata": {},
   "outputs": [],
   "source": [
    "5. This assignment statements, like spam = 10. What is the difference between an expression and a statement?\n",
    "--> Expression is something which is going to evaluate by the interpretor whereas statement is only going to print the same on the console.\n",
    "--> (statement is normally like print, it doesn't evaluate but simply print thw whole)"
   ]
  },
  {
   "cell_type": "code",
   "execution_count": null,
   "id": "1bea5751",
   "metadata": {},
   "outputs": [],
   "source": [
    "6. After running the following code, what does the variable bacon contain?\n",
    "bacon = 22\n",
    "bacon + 1\n",
    "--> 23"
   ]
  },
  {
   "cell_type": "code",
   "execution_count": 3,
   "id": "97c6d976",
   "metadata": {},
   "outputs": [],
   "source": [
    "7. What should the values of the following two terms be?\n",
    "'spam' + 'spamspam' output --> 'spamspamspam'\n",
    "'spam' * 3 output --> 'spamspamspam'"
   ]
  },
  {
   "cell_type": "code",
   "execution_count": null,
   "id": "e7438b23",
   "metadata": {},
   "outputs": [],
   "source": [
    "8. Why is eggs a valid variable name while 100 is invalid\n",
    "--> variable name can not start with digit and that's why 100 as a variable name is invalid while eggs is valid"
   ]
  },
  {
   "cell_type": "code",
   "execution_count": null,
   "id": "2ec2f43d",
   "metadata": {},
   "outputs": [],
   "source": [
    "9. What three functions can be used to get the integer, floating-point number, or string version of a value?\n",
    "--> To get integer values we will use int()\n",
    "--> To get floating-point values we will use float()\n",
    "--> To get String values we will use str()"
   ]
  },
  {
   "cell_type": "code",
   "execution_count": null,
   "id": "22d6601f",
   "metadata": {},
   "outputs": [],
   "source": [
    "10. Why does this expression cause an error? How can you fix it?\n",
    "'I have eaten' + 99 + 'burritos'.\n",
    "--> Error occurs because string cannot be concatenate with int nd to solve this we have to typecast int to string\n",
    "--> 'I have eaten ' + str(99) + ' burritos'"
   ]
  }
 ],
 "metadata": {
  "kernelspec": {
   "display_name": "Python 3 (ipykernel)",
   "language": "python",
   "name": "python3"
  },
  "language_info": {
   "codemirror_mode": {
    "name": "ipython",
    "version": 3
   },
   "file_extension": ".py",
   "mimetype": "text/x-python",
   "name": "python",
   "nbconvert_exporter": "python",
   "pygments_lexer": "ipython3",
   "version": "3.9.12"
  }
 },
 "nbformat": 4,
 "nbformat_minor": 5
}
