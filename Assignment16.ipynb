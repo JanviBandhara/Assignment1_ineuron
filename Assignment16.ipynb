{
 "cells": [
  {
   "cell_type": "markdown",
   "id": "04228e44",
   "metadata": {},
   "source": [
    "##### 1. Create a list called years_list, starting with the year of your birth, and each year there after until the year of your fifth birthday. For example, if you were born in 1980. the list would be years_list = [1980, 1981, 1982, 1983, 1984, 1985]."
   ]
  },
  {
   "cell_type": "code",
   "execution_count": 74,
   "id": "84b7c8c0",
   "metadata": {},
   "outputs": [],
   "source": [
    "years_list = [2001,2002,2003,2004,2005,2006]"
   ]
  },
  {
   "cell_type": "code",
   "execution_count": 79,
   "id": "07515601",
   "metadata": {},
   "outputs": [
    {
     "data": {
      "text/plain": [
       "2004"
      ]
     },
     "execution_count": 79,
     "metadata": {},
     "output_type": "execute_result"
    }
   ],
   "source": [
    "#2. In which year in years_list was your third birthday? Remember, you were 0 years of age for your first year.\n",
    "years_list[3]"
   ]
  },
  {
   "cell_type": "code",
   "execution_count": 80,
   "id": "eaa6bfea",
   "metadata": {},
   "outputs": [
    {
     "data": {
      "text/plain": [
       "2006"
      ]
     },
     "execution_count": 80,
     "metadata": {},
     "output_type": "execute_result"
    }
   ],
   "source": [
    "#3.In the years list, which year were you the oldest?\n",
    "years_list[-1]"
   ]
  },
  {
   "cell_type": "code",
   "execution_count": 82,
   "id": "a2d9eee1",
   "metadata": {},
   "outputs": [],
   "source": [
    "#4. Make a list called things with these three strings as elements: 'mozzarella','cinderella','salmonella'\n",
    "things = ['mozzarella','cinderella','salmonella']"
   ]
  },
  {
   "cell_type": "code",
   "execution_count": 83,
   "id": "0d4e9dbd",
   "metadata": {},
   "outputs": [
    {
     "name": "stdout",
     "output_type": "stream",
     "text": [
      "Mozzarella\n",
      "Cinderella\n",
      "Salmonella\n"
     ]
    }
   ],
   "source": [
    "#5. Capitalize the element in things that refers to a person and then print the list. Did it change the element in the list?\n",
    "for values in things:\n",
    "    print(values.capitalize())"
   ]
  },
  {
   "cell_type": "code",
   "execution_count": 84,
   "id": "606c85f0",
   "metadata": {},
   "outputs": [],
   "source": [
    "#6. Make a surprise list with the elements 'Groucho','chico', and 'Harpo'\n",
    "surprise = ['Groucho','Chico', 'Harpo']"
   ]
  },
  {
   "cell_type": "code",
   "execution_count": 98,
   "id": "13640257",
   "metadata": {},
   "outputs": [
    {
     "name": "stdout",
     "output_type": "stream",
     "text": [
      "Last value :-  Harpo\n",
      "Lower-case value :-  harpo\n",
      "Reverese value :-  oprah\n",
      "Capital value :-  Oprah\n"
     ]
    }
   ],
   "source": [
    "#7. Lowercase the last element of the surprise list, reverse it, and then capitalize it.\n",
    "last_value = surprise[-1]\n",
    "print(\"Last value :- \",last_value)\n",
    "lower_value = last_value.lower()\n",
    "print(\"Lower-case value :- \",lower_value)\n",
    "reverse_value = lower_value[::-1]\n",
    "print(\"Reverese value :- \",reverse_value)\n",
    "capital_value = reverse_value.capitalize()\n",
    "print(\"Capital value :- \",capital_value)"
   ]
  },
  {
   "cell_type": "code",
   "execution_count": 99,
   "id": "ddfab34e",
   "metadata": {},
   "outputs": [],
   "source": [
    "#8. Make an English-to-French dictionary called e2f and print it. Here are your starter words: dog is chien, cat is chat, and walrus is morse.\n",
    "e2f = {'dog': 'chien','cat': 'chat','walrus': 'morse'}"
   ]
  },
  {
   "cell_type": "code",
   "execution_count": 100,
   "id": "e2df21c3",
   "metadata": {},
   "outputs": [
    {
     "data": {
      "text/plain": [
       "'morse'"
      ]
     },
     "execution_count": 100,
     "metadata": {},
     "output_type": "execute_result"
    }
   ],
   "source": [
    "#9. Write the French word for walrus in your three-word dictionary e2f.\n",
    "e2f['walrus']"
   ]
  },
  {
   "cell_type": "code",
   "execution_count": 103,
   "id": "c89dc800",
   "metadata": {},
   "outputs": [
    {
     "data": {
      "text/plain": [
       "{'chien': 'dog', 'chat': 'cat', 'morse': 'walrus'}"
      ]
     },
     "execution_count": 103,
     "metadata": {},
     "output_type": "execute_result"
    }
   ],
   "source": [
    "#10. Make a French-to-English dictionary called f2e from e2f. Use the items method.\n",
    "f2e = {value:key for key,value in e2f.items()}\n",
    "f2e"
   ]
  },
  {
   "cell_type": "code",
   "execution_count": 104,
   "id": "4c2cc3bc",
   "metadata": {},
   "outputs": [
    {
     "data": {
      "text/plain": [
       "'dog'"
      ]
     },
     "execution_count": 104,
     "metadata": {},
     "output_type": "execute_result"
    }
   ],
   "source": [
    "#11. Print the English version of the French word chien using f2e.\n",
    "f2e['chien']"
   ]
  },
  {
   "cell_type": "code",
   "execution_count": 106,
   "id": "44fe70ec",
   "metadata": {},
   "outputs": [
    {
     "data": {
      "text/plain": [
       "dict_keys(['dog', 'cat', 'walrus'])"
      ]
     },
     "execution_count": 106,
     "metadata": {},
     "output_type": "execute_result"
    }
   ],
   "source": [
    "#12. Make and print a set of English words from the keys in e2f.\n",
    "e2f.keys()"
   ]
  },
  {
   "cell_type": "code",
   "execution_count": 109,
   "id": "1ac2e5bc",
   "metadata": {},
   "outputs": [
    {
     "data": {
      "text/plain": [
       "{'animals': {'cats': ['Henri', 'Grumpy', 'Lucy'], 'octopi': {}, 'emus': {}},\n",
       " 'plants': {},\n",
       " 'other': {}}"
      ]
     },
     "execution_count": 109,
     "metadata": {},
     "output_type": "execute_result"
    }
   ],
   "source": [
    "#13. Make a multilevel dictionary called life. Use these strings for the topmost keys: 'animals','plants',and 'other'.Make the 'animals'key refer to another dictionary with the keys 'cats','octopi',and 'emus'. Make the 'cats' key refer to a list of string with the values 'Henri','Grumpy','Lucy'.Make all the other keys refer to empty dictionaries.  \n",
    "life = {'animals' : {'cats':['Henri','Grumpy','Lucy'],'octopi' : {},'emus': {}}\n",
    "        ,'plants' : {}\n",
    "        ,'other' : {}}\n",
    "life"
   ]
  },
  {
   "cell_type": "code",
   "execution_count": 110,
   "id": "1cae487c",
   "metadata": {},
   "outputs": [
    {
     "data": {
      "text/plain": [
       "dict_keys(['animals', 'plants', 'other'])"
      ]
     },
     "execution_count": 110,
     "metadata": {},
     "output_type": "execute_result"
    }
   ],
   "source": [
    "#14. Print the top-level keys of life.\n",
    "life.keys()"
   ]
  },
  {
   "cell_type": "code",
   "execution_count": 111,
   "id": "2c0563eb",
   "metadata": {},
   "outputs": [
    {
     "data": {
      "text/plain": [
       "dict_keys(['cats', 'octopi', 'emus'])"
      ]
     },
     "execution_count": 111,
     "metadata": {},
     "output_type": "execute_result"
    }
   ],
   "source": [
    "#15. Print the keys for life['animals'].\n",
    "life['animals'].keys()"
   ]
  },
  {
   "cell_type": "code",
   "execution_count": 115,
   "id": "96d7b143",
   "metadata": {},
   "outputs": [
    {
     "data": {
      "text/plain": [
       "['Henri', 'Grumpy', 'Lucy']"
      ]
     },
     "execution_count": 115,
     "metadata": {},
     "output_type": "execute_result"
    }
   ],
   "source": [
    "#16. Print the values for life['animals']['cats']\n",
    "life['animals']['cats']"
   ]
  }
 ],
 "metadata": {
  "kernelspec": {
   "display_name": "Python 3 (ipykernel)",
   "language": "python",
   "name": "python3"
  },
  "language_info": {
   "codemirror_mode": {
    "name": "ipython",
    "version": 3
   },
   "file_extension": ".py",
   "mimetype": "text/x-python",
   "name": "python",
   "nbconvert_exporter": "python",
   "pygments_lexer": "ipython3",
   "version": "3.9.7"
  }
 },
 "nbformat": 4,
 "nbformat_minor": 5
}
