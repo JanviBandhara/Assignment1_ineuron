{
 "cells": [
  {
   "cell_type": "code",
   "execution_count": null,
   "id": "c838b42a",
   "metadata": {},
   "outputs": [],
   "source": [
    "# 1. What exactly is []?\n",
    "-> Empty list."
   ]
  },
  {
   "cell_type": "code",
   "execution_count": 6,
   "id": "ab4c1ddc",
   "metadata": {},
   "outputs": [
    {
     "data": {
      "text/plain": [
       "[2, 4, 'hello', 6, 8, 10]"
      ]
     },
     "execution_count": 6,
     "metadata": {},
     "output_type": "execute_result"
    }
   ],
   "source": [
    "# 2. In a list of values stored in a variable called spam, how would you assign the value \"hello\" as the third value? (Assume [2, 4, 6, 8, 10] are in spam.)\n",
    "spam = [2, 4, 6, 8, 10]\n",
    "spam.insert(2,\"hello\")\n",
    "spam"
   ]
  },
  {
   "cell_type": "code",
   "execution_count": 7,
   "id": "e8a032f0",
   "metadata": {},
   "outputs": [
    {
     "data": {
      "text/plain": [
       "'d'"
      ]
     },
     "execution_count": 7,
     "metadata": {},
     "output_type": "execute_result"
    }
   ],
   "source": [
    "# Let's pretend the spam includes the list ['a','b','c','d'] for the next three queries.\n",
    "# 3. What is the value of spam[int(int('3' * 2) / 11)]?\n",
    "spam = ['a','b','c','d']\n",
    "spam[int(int('3' * 2) / 11)]"
   ]
  },
  {
   "cell_type": "code",
   "execution_count": 8,
   "id": "645a2635",
   "metadata": {},
   "outputs": [
    {
     "data": {
      "text/plain": [
       "'d'"
      ]
     },
     "execution_count": 8,
     "metadata": {},
     "output_type": "execute_result"
    }
   ],
   "source": [
    "# 4. What is the value of spam[-1]?\n",
    "spam[-1]"
   ]
  },
  {
   "cell_type": "code",
   "execution_count": 9,
   "id": "d3cfd37a",
   "metadata": {},
   "outputs": [
    {
     "data": {
      "text/plain": [
       "['a', 'b']"
      ]
     },
     "execution_count": 9,
     "metadata": {},
     "output_type": "execute_result"
    }
   ],
   "source": [
    "# 5. What is the value of spam[:2]?\n",
    "spam[:2]"
   ]
  },
  {
   "cell_type": "code",
   "execution_count": 19,
   "id": "14026b65",
   "metadata": {},
   "outputs": [
    {
     "data": {
      "text/plain": [
       "1"
      ]
     },
     "execution_count": 19,
     "metadata": {},
     "output_type": "execute_result"
    }
   ],
   "source": [
    "# Let's pretend bacon has the list [3.14,'cat',11,cat,True] for the next three questions.\n",
    "# 6. What is the value of bacon.index('cat')?\n",
    "bacon = [3.14,'cat',11,'cat',True]\n",
    "bacon.index('cat')"
   ]
  },
  {
   "cell_type": "code",
   "execution_count": 20,
   "id": "32fa4138",
   "metadata": {},
   "outputs": [
    {
     "data": {
      "text/plain": [
       "[3.14, 'cat', 11, 'cat', True, 99]"
      ]
     },
     "execution_count": 20,
     "metadata": {},
     "output_type": "execute_result"
    }
   ],
   "source": [
    "# 7. How does bacon.append(99) change the look of the list value in bacon?\n",
    "bacon.append(99)\n",
    "bacon"
   ]
  },
  {
   "cell_type": "code",
   "execution_count": 21,
   "id": "50617682",
   "metadata": {},
   "outputs": [
    {
     "data": {
      "text/plain": [
       "[3.14, 11, 'cat', True, 99]"
      ]
     },
     "execution_count": 21,
     "metadata": {},
     "output_type": "execute_result"
    }
   ],
   "source": [
    "# 8. How does bacon.remove('cat') change the look of the list in bacon?\n",
    "bacon.remove('cat')\n",
    "bacon"
   ]
  },
  {
   "cell_type": "code",
   "execution_count": null,
   "id": "39f06621",
   "metadata": {},
   "outputs": [],
   "source": [
    "# 9. What are the list concatenation and list replication operators?\n",
    "-> List concatenation operator is +.\n",
    "-> List replication operator is *."
   ]
  },
  {
   "cell_type": "code",
   "execution_count": null,
   "id": "b962fd16",
   "metadata": {},
   "outputs": [],
   "source": [
    "# 10. What is difference between the list methods append() and insert()?\n",
    "-> append() will add the item at the end of the list while insert() required 2 parameter of which 1 consist of the number of where you want to insert that particular item."
   ]
  },
  {
   "cell_type": "code",
   "execution_count": null,
   "id": "d0458394",
   "metadata": {},
   "outputs": [],
   "source": [
    "# 11. What are the two methods for removing items from a list?\n",
    "-> l = [1,2,3,4,5]\n",
    "-> 1) l.pop()\n",
    "-> 2) l.remove(4)"
   ]
  },
  {
   "cell_type": "code",
   "execution_count": null,
   "id": "599e0a88",
   "metadata": {},
   "outputs": [],
   "source": [
    "# 12. Describe how list values and string values are identical.\n",
    "-> list values contains of any data type{int,float,string,boolean} while string value can only contain string value which are in single/double quotes."
   ]
  },
  {
   "cell_type": "code",
   "execution_count": null,
   "id": "b0ff4775",
   "metadata": {},
   "outputs": [],
   "source": [
    "# 13. What's the difference between tuples and lists?\n",
    "-> list items are mutable while tuple items are immutable."
   ]
  },
  {
   "cell_type": "code",
   "execution_count": null,
   "id": "3ed689ff",
   "metadata": {},
   "outputs": [],
   "source": [
    "# 14. How do you type a tuple value that only contains the integer 42?\n",
    "-> t = (45,)"
   ]
  },
  {
   "cell_type": "code",
   "execution_count": 3,
   "id": "c0a780b6",
   "metadata": {},
   "outputs": [
    {
     "name": "stdout",
     "output_type": "stream",
     "text": [
      "list to tuple :-  (1, 2, 3)\n",
      "Tuple to list :-  [1, 2, 3]\n"
     ]
    }
   ],
   "source": [
    "# 15. How do you get a list value's tuple form? How do you get a tuple value's list form?\n",
    "#-> To get a list Value in tuple form \"type cast\" it into tuple\n",
    "l = [1,2,3]\n",
    "print(\"list to tuple :- \",tuple(l))\n",
    "#-> To get a tuple Value in list form \"type cast\" it into list\n",
    "t = (1,2,3)\n",
    "print(\"Tuple to list :- \",list(t))"
   ]
  },
  {
   "cell_type": "code",
   "execution_count": null,
   "id": "a28d9f56",
   "metadata": {},
   "outputs": [],
   "source": [
    "# 16. Variables that \"contain\" list values are not necessarily lists themselves. Instead, what do they contain?\n",
    "-> It conatin references to list values."
   ]
  },
  {
   "cell_type": "code",
   "execution_count": null,
   "id": "81872366",
   "metadata": {},
   "outputs": [],
   "source": [
    "# 17. How do you distinguish between copy.copy() and copy.deepcopy()?\n",
    "-> copy.copy() will make an reference to original list and if we change the copied list the original will also change while in\n",
    "-> copy.deepcopy() it will create new object and any changes in copied list will not reflect in original. "
   ]
  }
 ],
 "metadata": {
  "kernelspec": {
   "display_name": "Python 3 (ipykernel)",
   "language": "python",
   "name": "python3"
  },
  "language_info": {
   "codemirror_mode": {
    "name": "ipython",
    "version": 3
   },
   "file_extension": ".py",
   "mimetype": "text/x-python",
   "name": "python",
   "nbconvert_exporter": "python",
   "pygments_lexer": "ipython3",
   "version": "3.9.7"
  }
 },
 "nbformat": 4,
 "nbformat_minor": 5
}
