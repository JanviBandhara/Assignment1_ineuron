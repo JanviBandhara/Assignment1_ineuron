{
 "cells": [
  {
   "cell_type": "markdown",
   "id": "7d9c1e22",
   "metadata": {},
   "source": [
    "## Question1\n",
    "Write a function that takes a list and a number as arguments. Add the number to the end of\n",
    "the list, then remove the first element of the list. The function should then return the updated\n",
    "list.\n",
    "### Examples\n",
    "* next_in_line([5, 6, 7, 8, 9], 1) ➞ [6, 7, 8, 9, 1]\n",
    "* next_in_line([7, 6, 3, 23, 17], 10) ➞ [6, 3, 23, 17, 10]\n",
    "* next_in_line([1, 10, 20, 42 ], 6) ➞ [10, 20, 42, 6]\n",
    "* next_in_line([], 6) ➞ &quot;No list has been selected&quot;"
   ]
  },
  {
   "cell_type": "code",
   "execution_count": 1,
   "id": "a6ab3cab",
   "metadata": {},
   "outputs": [
    {
     "data": {
      "text/plain": [
       "'No list has been selected'"
      ]
     },
     "execution_count": 1,
     "metadata": {},
     "output_type": "execute_result"
    }
   ],
   "source": [
    "class list_add:\n",
    "    def next_in_line(self,l,num):\n",
    "        try:\n",
    "            if l == []:\n",
    "                return 'No list has been selected'\n",
    "            else:\n",
    "                l.append(num)\n",
    "                l.pop(0)\n",
    "                return l\n",
    "        except Exception as e:\n",
    "            print('Error :- ',e)\n",
    "    \n",
    "obj = list_add()\n",
    "obj.next_in_line([],10)"
   ]
  },
  {
   "cell_type": "markdown",
   "id": "625970d5",
   "metadata": {},
   "source": [
    "## Question2\n",
    "Create the function that takes a list of dictionaries and returns the sum of people&#39;s budgets.\n",
    "### Examples\n",
    "* get_budgets([\n",
    "{ &quot;name&quot;: &quot;John&quot;, &quot;age&quot;: 21, &quot;budget&quot;: 23000 },\n",
    "{ &quot;name&quot;: &quot;Steve&quot;, &quot;age&quot;: 32, &quot;budget&quot;: 40000 },\n",
    "{ &quot;name&quot;: &quot;Martin&quot;, &quot;age&quot;: 16, &quot;budget&quot;: 2700 }\n",
    "]) ➞ 65700\n",
    "* get_budgets([\n",
    "{ &quot;name&quot;: &quot;John&quot;, &quot;age&quot;: 21, &quot;budget&quot;: 29000 },\n",
    "{ &quot;name&quot;: &quot;Steve&quot;, &quot;age&quot;: 32, &quot;budget&quot;: 32000 },\n",
    "{ &quot;name&quot;: &quot;Martin&quot;, &quot;age&quot;: 16, &quot;budget&quot;: 1600 }\n",
    "]) ➞ 62600"
   ]
  },
  {
   "cell_type": "code",
   "execution_count": 2,
   "id": "26a4cf63",
   "metadata": {},
   "outputs": [
    {
     "data": {
      "text/plain": [
       "65700"
      ]
     },
     "execution_count": 2,
     "metadata": {},
     "output_type": "execute_result"
    }
   ],
   "source": [
    "class budget_sum:\n",
    "    def get_budgets(self,d):\n",
    "        sum = 0\n",
    "        for i in d:\n",
    "            for j in i:\n",
    "                if j=='budget':\n",
    "                    sum=sum+i[j]\n",
    "        return sum\n",
    "\n",
    "obj = budget_sum()\n",
    "obj.get_budgets([ { \"name\": \"John\", \"age\": 21, \"budget\": 23000 }, { \"name\": \"Steve\", \"age\": 32, \"budget\": 40000 }, { \"name\": \"Martin\", \"age\": 16, \"budget\": 2700 } ])"
   ]
  },
  {
   "cell_type": "markdown",
   "id": "4960bc93",
   "metadata": {},
   "source": [
    "## Question3\n",
    "Create a function that takes a string and returns a string with its letters in alphabetical order.\n",
    "### Examples\n",
    "* alphabet_soup(&quot;hello&quot;) ➞ &quot;ehllo&quot;\n",
    "* alphabet_soup(&quot;edabit&quot;) ➞ &quot;abdeit&quot;\n",
    "* alphabet_soup(&quot;hacker&quot;) ➞ &quot;acehkr&quot;\n",
    "* alphabet_soup(&quot;geek&quot;) ➞ &quot;eegk&quot;\n",
    "* alphabet_soup(&quot;javascript&quot;) ➞ &quot;aacijprstv&quot;"
   ]
  },
  {
   "cell_type": "code",
   "execution_count": 3,
   "id": "eeeb6b09",
   "metadata": {},
   "outputs": [
    {
     "data": {
      "text/plain": [
       "'ehllo'"
      ]
     },
     "execution_count": 3,
     "metadata": {},
     "output_type": "execute_result"
    }
   ],
   "source": [
    "class string_sort:\n",
    "    def alphabet_soup(self,string):\n",
    "        l1 =[i for i in string]\n",
    "        l1 = sorted(l1)\n",
    "        s = ''\n",
    "        for i in l1:\n",
    "            s =s + str(i)\n",
    "        return s\n",
    "    \n",
    "        \n",
    "obj = string_sort()\n",
    "obj.alphabet_soup('hello')"
   ]
  },
  {
   "cell_type": "markdown",
   "id": "edb2fa4c",
   "metadata": {},
   "source": [
    "## Question4\n",
    "Suppose that you invest $10,000 for 10 years at an interest rate of 6% compounded monthly.\n",
    "What will be the value of your investment at the end of the 10 year period?\n",
    "Create a function that accepts the principal p, the term in years t, the interest rate r, and the\n",
    "number of compounding periods per year n. The function returns the value at the end of term\n",
    "rounded to the nearest cent.\n",
    "\n",
    "#### For the example above:\n",
    "compound_interest(10000, 10, 0.06, 12) ➞ 18193.97\n",
    "Note that the interest rate is given as a decimal and n=12 because with monthly compounding\n",
    "there are 12 periods per year. Compounding can also be done annually, quarterly, weekly, or\n",
    "daily.\n",
    "### Examples\n",
    "* compound_interest(100, 1, 0.05, 1) ➞ 105.0\n",
    "* compound_interest(3500, 15, 0.1, 4) ➞ 15399.26\n",
    "* compound_interest(100000, 20, 0.15, 365) ➞ 2007316.26"
   ]
  },
  {
   "cell_type": "code",
   "execution_count": 4,
   "id": "6f28d4cc",
   "metadata": {},
   "outputs": [
    {
     "name": "stdout",
     "output_type": "stream",
     "text": [
      "Error :-  name 'compPeriod' is not defined\n"
     ]
    }
   ],
   "source": [
    "class compound_int:\n",
    "    def compound_interest(self,amt,years,interest,compound_period):\n",
    "        try:\n",
    "            future_value = amt *(1 + (interest/compPeriod)) ** (years * compPeriod)\n",
    "            return f'{round(future_value,2)}'\n",
    "        except Exception as e:\n",
    "            print('Error :- ',e)\n",
    "\n",
    "obj = compound_int()\n",
    "obj.compound_interest(3500, 15, 0.1, 4)"
   ]
  },
  {
   "cell_type": "markdown",
   "id": "b36545ef",
   "metadata": {},
   "source": [
    "##  Question5\n",
    "Write a function that takes a list of elements and returns only the integers.\n",
    "### Examples\n",
    "* return_only_integer([9, 2, &quot;space&quot;, &quot;car&quot;, &quot;lion&quot;, 16]) ➞ [9, 2, 16]\n",
    "* return_only_integer([&quot;hello&quot;, 81, &quot;basketball&quot;, 123, &quot;fox&quot;]) ➞ [81, 123]\n",
    "* return_only_integer([10, &quot;121&quot;, 56, 20, &quot;car&quot;, 3, &quot;lion&quot;]) ➞ [10, 56, 20,\n",
    "3]\n",
    "* return_only_integer([&quot;String&quot;, True, 3.3, 1]) ➞ [1]"
   ]
  },
  {
   "cell_type": "code",
   "execution_count": 5,
   "id": "ea15381f",
   "metadata": {},
   "outputs": [
    {
     "data": {
      "text/plain": [
       "[9, 2, 16]"
      ]
     },
     "execution_count": 5,
     "metadata": {},
     "output_type": "execute_result"
    }
   ],
   "source": [
    "class list_int:\n",
    "    def return_only_integer(self,l):\n",
    "        l1 = [i for i in l if type(i)== int]\n",
    "        return l1\n",
    "\n",
    "obj = list_int()\n",
    "obj.return_only_integer([9, 2, \"space\", \"car\", \"lion\", 16])"
   ]
  },
  {
   "cell_type": "code",
   "execution_count": null,
   "id": "52c9055f",
   "metadata": {},
   "outputs": [],
   "source": []
  }
 ],
 "metadata": {
  "kernelspec": {
   "display_name": "Python 3 (ipykernel)",
   "language": "python",
   "name": "python3"
  },
  "language_info": {
   "codemirror_mode": {
    "name": "ipython",
    "version": 3
   },
   "file_extension": ".py",
   "mimetype": "text/x-python",
   "name": "python",
   "nbconvert_exporter": "python",
   "pygments_lexer": "ipython3",
   "version": "3.9.7"
  }
 },
 "nbformat": 4,
 "nbformat_minor": 5
}
