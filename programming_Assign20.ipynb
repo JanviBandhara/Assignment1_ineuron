{
 "cells": [
  {
   "cell_type": "markdown",
   "id": "e326c26a",
   "metadata": {},
   "source": [
    "## Question1\n",
    "Create a function that takes a list of strings and integers, and filters out the list so that it\n",
    "returns a list of integers only.\n",
    "### Examples\n",
    "* filter_list([1, 2, 3, &quot;a&quot;, &quot;b&quot;, 4]) ➞ [1, 2, 3, 4]\n",
    "* filter_list([&quot;A&quot;, 0, &quot;Edabit&quot;, 1729, &quot;Python&quot;, &quot;1729&quot;]) ➞ [0, 1729]\n",
    "* filter_list([&quot;Nothing&quot;, &quot;here&quot;]) ➞ []"
   ]
  },
  {
   "cell_type": "code",
   "execution_count": 1,
   "id": "18039c3d",
   "metadata": {},
   "outputs": [
    {
     "data": {
      "text/plain": [
       "[]"
      ]
     },
     "execution_count": 1,
     "metadata": {},
     "output_type": "execute_result"
    }
   ],
   "source": [
    "class List:\n",
    "    def filter_list(self,l):\n",
    "        try:\n",
    "            l1= [i for i in l if type(i)==int]\n",
    "            return l1\n",
    "        except Exception as e:\n",
    "            print('Error :- ',e)\n",
    "    \n",
    "obj = List()\n",
    "obj.filter_list([\"Nothing\", \"here\"])"
   ]
  },
  {
   "cell_type": "markdown",
   "id": "a6e42abe",
   "metadata": {},
   "source": [
    "## Question2\n",
    "Given a list of numbers, create a function which returns the list but with each element&#39;s\n",
    "index in the list added to itself. This means you add 0 to the number at index 0, add 1 to the\n",
    "number at index 1, etc...\n",
    "### Examples\n",
    "* add_indexes([0, 0, 0, 0, 0]) ➞ [0, 1, 2, 3, 4]\n",
    "* add_indexes([1, 2, 3, 4, 5]) ➞ [1, 3, 5, 7, 9]\n",
    "* add_indexes([5, 4, 3, 2, 1]) ➞ [5, 5, 5, 5, 5]"
   ]
  },
  {
   "cell_type": "code",
   "execution_count": 2,
   "id": "1a8aab30",
   "metadata": {},
   "outputs": [
    {
     "data": {
      "text/plain": [
       "[1, 3, 5, 7, 9]"
      ]
     },
     "execution_count": 2,
     "metadata": {},
     "output_type": "execute_result"
    }
   ],
   "source": [
    "class List_index:\n",
    "    def add_indexes(self,l):\n",
    "        try:\n",
    "            for i in range(len(l)):\n",
    "                l[i] = i+l[i]\n",
    "            return l\n",
    "        except Exception as e:\n",
    "            print('Error :- ',e)\n",
    "    \n",
    "obj = List_index()\n",
    "obj.add_indexes([1, 2, 3, 4, 5])"
   ]
  },
  {
   "cell_type": "markdown",
   "id": "3798d480",
   "metadata": {},
   "source": [
    "## Question3\n",
    "Create a function that takes the height and radius of a cone as arguments and returns the\n",
    "volume of the cone rounded to the nearest hundredth. See the resources tab for the formula.\n",
    "\n",
    "### Examples\n",
    "* cone_volume(3, 2) ➞ 12.57\n",
    "* cone_volume(15, 6) ➞ 565.49\n",
    "* cone_volume(18, 0) ➞ 0"
   ]
  },
  {
   "cell_type": "code",
   "execution_count": 3,
   "id": "4f49665a",
   "metadata": {},
   "outputs": [
    {
     "data": {
      "text/plain": [
       "'565.49'"
      ]
     },
     "execution_count": 3,
     "metadata": {},
     "output_type": "execute_result"
    }
   ],
   "source": [
    "class volume_of_cone:\n",
    "    def cone_volume(self,h,r):\n",
    "        try :\n",
    "            pi = 3.14159265359\n",
    "            volume = pi*r*r*(h/3)\n",
    "            return f'{round(volume,2)}'\n",
    "        except Exception as e:\n",
    "            print('Error :- ',e)\n",
    "    \n",
    "obj = volume_of_cone()\n",
    "obj.cone_volume(15,6)"
   ]
  },
  {
   "cell_type": "markdown",
   "id": "ef3bb8df",
   "metadata": {},
   "source": [
    "## Question4\n",
    "This Triangular Number Sequence is generated from a pattern of dots that form a triangle.\n",
    "##### The first 5 numbers of the sequence, or dots, are: 1, 3, 6, 10, 15\n",
    "##### This means that the first triangle has just one dot, the second one has three dots, the third one has 6 dots and so on.\n",
    "##### Write a function that gives the number of dots with its corresponding triangle number of the sequence.\n",
    "### Examples\n",
    "* triangle(1) ➞ 1\n",
    "* triangle(6) ➞ 21\n",
    "* triangle(215) ➞ 23220"
   ]
  },
  {
   "cell_type": "code",
   "execution_count": 4,
   "id": "6b1bb49f",
   "metadata": {},
   "outputs": [
    {
     "data": {
      "text/plain": [
       "21"
      ]
     },
     "execution_count": 4,
     "metadata": {},
     "output_type": "execute_result"
    }
   ],
   "source": [
    "class triangular_Sequence:\n",
    "    def triangle(self,n):\n",
    "        try :\n",
    "            l1=[i*(i+1)//2 for i in range(1, n + 1)]\n",
    "            return l1[-1] \n",
    "        except Exception as e:\n",
    "            print('Error :- ',e)\n",
    "\n",
    "obj =triangular_Sequence()\n",
    "obj.triangle(6)"
   ]
  },
  {
   "cell_type": "markdown",
   "id": "9863b0f1",
   "metadata": {},
   "source": [
    "## Question5\n",
    "Create a function that takes a list of numbers between 1 and 10 (excluding one number) and\n",
    "returns the missing number.\n",
    "### Examples\n",
    "* missing_num([1, 2, 3, 4, 6, 7, 8, 9, 10]) ➞ 5\n",
    "* missing_num([7, 2, 3, 6, 5, 9, 1, 4, 8]) ➞ 10\n",
    "* missing_num([10, 5, 1, 2, 4, 6, 8, 3, 9]) ➞ 7"
   ]
  },
  {
   "cell_type": "code",
   "execution_count": 5,
   "id": "d164a802",
   "metadata": {},
   "outputs": [
    {
     "data": {
      "text/plain": [
       "7"
      ]
     },
     "execution_count": 5,
     "metadata": {},
     "output_type": "execute_result"
    }
   ],
   "source": [
    "class missing:\n",
    "    def missing_num(self,l):\n",
    "        try:\n",
    "            l1 =  [i for i in range(1,11)]\n",
    "            for i in range(len(l1)):\n",
    "                if l1[i] not in l:\n",
    "                    return l1[i]\n",
    "        except Exception as e:\n",
    "            Print('Error:- ',e)\n",
    "    \n",
    "obj = missing()\n",
    "obj.missing_num([10, 5, 1, 2, 4, 6, 8, 3, 9])"
   ]
  },
  {
   "cell_type": "code",
   "execution_count": null,
   "id": "5b375999",
   "metadata": {},
   "outputs": [],
   "source": []
  }
 ],
 "metadata": {
  "kernelspec": {
   "display_name": "Python 3 (ipykernel)",
   "language": "python",
   "name": "python3"
  },
  "language_info": {
   "codemirror_mode": {
    "name": "ipython",
    "version": 3
   },
   "file_extension": ".py",
   "mimetype": "text/x-python",
   "name": "python",
   "nbconvert_exporter": "python",
   "pygments_lexer": "ipython3",
   "version": "3.9.7"
  }
 },
 "nbformat": 4,
 "nbformat_minor": 5
}
