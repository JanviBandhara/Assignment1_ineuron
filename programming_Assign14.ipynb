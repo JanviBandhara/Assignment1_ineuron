{
 "cells": [
  {
   "cell_type": "markdown",
   "id": "23355399",
   "metadata": {},
   "source": [
    "### Question 1:\n",
    "Define a class with a generator which can iterate the numbers, which are divisible by\n",
    "7, between a given range 0 and n.\n"
   ]
  },
  {
   "cell_type": "code",
   "execution_count": 1,
   "id": "b32cbf7f",
   "metadata": {},
   "outputs": [
    {
     "name": "stdout",
     "output_type": "stream",
     "text": [
      "7,14,21,28,35,42,49,"
     ]
    }
   ],
   "source": [
    "class generator_num:\n",
    "    def divisibilty(self,num):\n",
    "        for i in range(1,num+1):\n",
    "            if i%7==0:\n",
    "                yield i\n",
    "                \n",
    "obj = generator_num()\n",
    "for values in obj.divisibilty(50):\n",
    "    print(values, end=',')"
   ]
  },
  {
   "cell_type": "markdown",
   "id": "dcd933fc",
   "metadata": {},
   "source": [
    "### Question 2:\n",
    "Write a program to compute the frequency of the words from the input. The output\n",
    "should output after sorting the key alphanumerically.\n",
    "\n",
    "Suppose the following input is supplied to the program:\n",
    "New to Python or choosing between Python 2 and Python 3? Read Python 2 or Python 3.\n",
    " \n",
    "Then, the output should be:\n",
    "* 2:2\n",
    "* 3.:1\n",
    "* 3?:1\n",
    "* New:1\n",
    "* Python:5\n",
    "* Read:1\n",
    "* and:1\n",
    "* between:1\n",
    "* choosing:1\n",
    "* or:2\n",
    "* to:1"
   ]
  },
  {
   "cell_type": "code",
   "execution_count": 2,
   "id": "81a65776",
   "metadata": {},
   "outputs": [
    {
     "name": "stdout",
     "output_type": "stream",
     "text": [
      "2 : 2\n",
      "3. : 1\n",
      "3? : 1\n",
      "New : 1\n",
      "Python : 5\n",
      "Read : 1\n",
      "and : 1\n",
      "between : 1\n",
      "choosing : 1\n",
      "or : 2\n",
      "to : 1\n"
     ]
    }
   ],
   "source": [
    "from collections import Counter\n",
    "class word_count:\n",
    "    def frequency_words(self,word):\n",
    "        l = list(word.split(' '))\n",
    "        d = dict(Counter(l))\n",
    "        d = dict(sorted(d.items()))\n",
    "        \n",
    "        for i in d:\n",
    "            print(i,':',d[i])\n",
    "    \n",
    "obj = word_count()\n",
    "obj.frequency_words('New to Python or choosing between Python 2 and Python 3? Read Python 2 or Python 3.')"
   ]
  },
  {
   "cell_type": "markdown",
   "id": "6c2063b4",
   "metadata": {},
   "source": [
    "### Question 3:\n",
    "\n",
    "Define a class Person and its two child classes: Male and Female. All classes have a\n",
    "method &quot;getGender&quot; which can print &quot;Male&quot; for Male class and &quot;Female&quot; for Female\n",
    "class."
   ]
  },
  {
   "cell_type": "code",
   "execution_count": 3,
   "id": "53bf81f0",
   "metadata": {},
   "outputs": [
    {
     "name": "stdout",
     "output_type": "stream",
     "text": [
      "Female\n"
     ]
    }
   ],
   "source": [
    "class person:\n",
    "    def __init__(self,gender):\n",
    "        self.gender = 'Unknown'\n",
    "    \n",
    "    def getGender(self):\n",
    "        print(self.gender)\n",
    "\n",
    "class male(person):\n",
    "    def __init__(self):\n",
    "        self.gender= 'Male'\n",
    "    \n",
    "class female(person):\n",
    "    def __init__(self):\n",
    "        self.gender= 'Female'\n",
    "    \n",
    "girl = female()\n",
    "girl.getGender()"
   ]
  },
  {
   "cell_type": "code",
   "execution_count": 4,
   "id": "35181dd3",
   "metadata": {},
   "outputs": [
    {
     "name": "stdout",
     "output_type": "stream",
     "text": [
      "Male\n"
     ]
    }
   ],
   "source": [
    "boy = male()\n",
    "boy.getGender()"
   ]
  },
  {
   "cell_type": "markdown",
   "id": "bd4ef1fc",
   "metadata": {},
   "source": [
    "### Question 4:\n",
    "Please write a program to generate all sentences where subject is in [&quot;I&quot;, &quot;You&quot;] and\n",
    "verb is in [&quot;Play&quot;, &quot;Love&quot;] and the object is in [&quot;Hockey&quot;,&quot;Football&quot;]."
   ]
  },
  {
   "cell_type": "code",
   "execution_count": 5,
   "id": "65da95eb",
   "metadata": {},
   "outputs": [
    {
     "data": {
      "text/plain": [
       "[('I', 'Play', 'Hockey'),\n",
       " ('I', 'Play', 'Football'),\n",
       " ('I', 'Love', 'Hockey'),\n",
       " ('I', 'Love', 'Football'),\n",
       " ('You', 'Play', 'Hockey'),\n",
       " ('You', 'Play', 'Football'),\n",
       " ('You', 'Love', 'Hockey'),\n",
       " ('You', 'Love', 'Football')]"
      ]
     },
     "execution_count": 5,
     "metadata": {},
     "output_type": "execute_result"
    }
   ],
   "source": [
    "import itertools\n",
    "class iterate_sentence:\n",
    "    def generating_iterator_Sentence(self):\n",
    "        subject = [\"I\", \"You\"]\n",
    "        verb = [\"Play\", \"Love\"]\n",
    "        Object = [\"Hockey\",\"Football\"]\n",
    "        sentence = [subject,verb,Object]\n",
    "        l = list(itertools.product(*sentence))\n",
    "        return l\n",
    "        \n",
    "obj = iterate_sentence()\n",
    "obj.generating_iterator_Sentence()"
   ]
  },
  {
   "cell_type": "markdown",
   "id": "deb30d80",
   "metadata": {},
   "source": [
    "### Question 5:\n",
    "Please write a program to compress and decompress the string &quot;hello world!hello\n",
    "world!hello world!hello world!&quot;."
   ]
  },
  {
   "cell_type": "code",
   "execution_count": 6,
   "id": "b07bb686",
   "metadata": {},
   "outputs": [
    {
     "name": "stdout",
     "output_type": "stream",
     "text": [
      "Compressed String :-  b'\\x1f\\x8b\\x08\\x00\\xd4zod\\x02\\xff\\xcbH\\xcd\\xc9\\xc9W(\\xcf/\\xcaIQ\\xcc \\x82\\r\\x00\\xd3\\xe6\\xcf\\xae0\\x00\\x00\\x00'\n",
      "Decompressed String :-  b'hello world!hello world!hello world!hello world!'\n"
     ]
    }
   ],
   "source": [
    "import gzip\n",
    "class compress_decompress:\n",
    "    def comp_decomp(self,string):\n",
    "        string=bytes(string,'utf-8')\n",
    "        compress_str = gzip.compress(string)\n",
    "        print('Compressed String :- ',compress_str)\n",
    "        \n",
    "        decompress_str = gzip.decompress(compress_str)\n",
    "        print('Decompressed String :- ',decompress_str)\n",
    "        \n",
    "obj = compress_decompress()\n",
    "obj.comp_decomp(\"hello world!hello world!hello world!hello world!\")"
   ]
  },
  {
   "cell_type": "code",
   "execution_count": 7,
   "id": "719eb404",
   "metadata": {},
   "outputs": [
    {
     "name": "stdout",
     "output_type": "stream",
     "text": [
      "Compressed:  b'x\\x9c\\xcbH\\xcd\\xc9\\xc9W(\\xcf/\\xcaIQ\\xcc \\x82\\r\\x00\\xbd[\\x11\\xf5'\n",
      "Decompressed:  b'hello world!hello world!hello world!hello world!'\n"
     ]
    }
   ],
   "source": [
    "import zlib\n",
    "string = bytes(\"hello world!hello world!hello world!hello world!\",'utf-8')\n",
    "comp=zlib.compress(string)\n",
    "print(\"Compressed: \", comp)\n",
    "decomp=zlib.decompress(comp)\n",
    "print(\"Decompressed: \", decomp)"
   ]
  },
  {
   "cell_type": "markdown",
   "id": "3827d407",
   "metadata": {},
   "source": [
    "### Question 6:\n",
    "Please write a binary search function which searches an item in a sorted list. The\n",
    "function should return the index of element to be searched in the list."
   ]
  },
  {
   "cell_type": "code",
   "execution_count": 8,
   "id": "b13f5aef",
   "metadata": {},
   "outputs": [
    {
     "data": {
      "text/plain": [
       "7"
      ]
     },
     "execution_count": 8,
     "metadata": {},
     "output_type": "execute_result"
    }
   ],
   "source": [
    "class binary_search:\n",
    "    def without_Binary_search(self,l,search_value):\n",
    "        for i in range(len(l)):\n",
    "            if search_value == l[i]:\n",
    "                return i\n",
    "        return 'Not Found'\n",
    "    \n",
    "    def binary_search(self,l,value):\n",
    "        l = sorted(l)\n",
    "        print('sorted List :- ',l)\n",
    "        beg = 0\n",
    "        end = len(l)-1\n",
    "        \n",
    "        while beg<=end :\n",
    "            mid = (beg+end)//2\n",
    "            if l[mid] == value:\n",
    "                return mid\n",
    "            elif l[mid] > value:\n",
    "                end=mid-1\n",
    "            else:\n",
    "                beg=mid+1\n",
    "        return 'Not found'\n",
    "    \n",
    "obj = binary_search()\n",
    "obj.without_Binary_search([45,36,78,12,69,75,31,2,80,6],2)"
   ]
  },
  {
   "cell_type": "code",
   "execution_count": 9,
   "id": "f51cf75e",
   "metadata": {},
   "outputs": [
    {
     "name": "stdout",
     "output_type": "stream",
     "text": [
      "sorted List :-  [2, 6, 12, 31, 36, 45, 69, 75, 78, 80]\n"
     ]
    },
    {
     "data": {
      "text/plain": [
       "8"
      ]
     },
     "execution_count": 9,
     "metadata": {},
     "output_type": "execute_result"
    }
   ],
   "source": [
    "obj = binary_search()\n",
    "obj.binary_search([45,36,78,12,69,75,31,2,80,6],78)"
   ]
  }
 ],
 "metadata": {
  "kernelspec": {
   "display_name": "Python 3 (ipykernel)",
   "language": "python",
   "name": "python3"
  },
  "language_info": {
   "codemirror_mode": {
    "name": "ipython",
    "version": 3
   },
   "file_extension": ".py",
   "mimetype": "text/x-python",
   "name": "python",
   "nbconvert_exporter": "python",
   "pygments_lexer": "ipython3",
   "version": "3.9.7"
  }
 },
 "nbformat": 4,
 "nbformat_minor": 5
}
