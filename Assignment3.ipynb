{
 "cells": [
  {
   "cell_type": "code",
   "execution_count": null,
   "id": "97969192",
   "metadata": {},
   "outputs": [],
   "source": [
    "# 1. Why are functions advantageous to have in your programs?\n",
    "-> Function provides Reusability of the code so, that user don't need to write that particular code again and again."
   ]
  },
  {
   "cell_type": "code",
   "execution_count": null,
   "id": "9a21737c",
   "metadata": {},
   "outputs": [],
   "source": [
    "# 2. When does the code in a function run: when it's specified or when it's called?\n",
    "-> When the function is called at that time it will run."
   ]
  },
  {
   "cell_type": "code",
   "execution_count": null,
   "id": "dc518b28",
   "metadata": {},
   "outputs": [],
   "source": [
    "# 3. What statement creates a function?\n",
    "-> 'def' keyword creates a function."
   ]
  },
  {
   "cell_type": "code",
   "execution_count": null,
   "id": "b519933f",
   "metadata": {},
   "outputs": [],
   "source": [
    "# 4. What is the difference between a function and a function call?\n",
    "-> Function is a piece of code where we write the logic of program and it will only execute when we call the function.\n",
    "-> so, function call will execute the function."
   ]
  },
  {
   "cell_type": "code",
   "execution_count": null,
   "id": "ea60ecd4",
   "metadata": {},
   "outputs": [],
   "source": [
    "# 5. How many global scopes are there in a Python program? How many local scopes?\n",
    "-> There is only one global scope per program.\n",
    "-> Local Scope Depends on the number of functions you have because the variables which are defined inside the function are refered as local scope of that particular function.\n",
    "-> When the program terminate this scopes also terminates."
   ]
  },
  {
   "cell_type": "code",
   "execution_count": null,
   "id": "e6f7a4b7",
   "metadata": {},
   "outputs": [],
   "source": [
    "# 6. What happens to variables in a local scope when the function call returns?\n",
    "-> When the function call returns, then the variable in the local scope are terminated."
   ]
  },
  {
   "cell_type": "code",
   "execution_count": null,
   "id": "679490fd",
   "metadata": {},
   "outputs": [],
   "source": [
    "# 7. What is the concept of a return value? Is it possible to have a return value in an expression?\n",
    "-> Return is used to end the exceution of the function call and will return the result.\n",
    "-> In, return the datatype of result is not changed, it will remain the same.\n",
    "-> It is not possible to have a return value in an expression which is outside of the function, because return is only written inside te function."
   ]
  },
  {
   "cell_type": "code",
   "execution_count": null,
   "id": "8a2f73dc",
   "metadata": {},
   "outputs": [],
   "source": [
    "# 8. If a function does not have a return statement, what is the return value of a call to that function?\n",
    "-> None."
   ]
  },
  {
   "cell_type": "code",
   "execution_count": null,
   "id": "682c4011",
   "metadata": {},
   "outputs": [],
   "source": [
    "# 9. How do you make a function variable refer to the global variable?\n",
    "-> global Keyword is used to make function variable refer to global variable."
   ]
  },
  {
   "cell_type": "code",
   "execution_count": null,
   "id": "c96941ec",
   "metadata": {},
   "outputs": [],
   "source": [
    "# 10. What is the data type of None?\n",
    "-> NoneType."
   ]
  },
  {
   "cell_type": "code",
   "execution_count": null,
   "id": "e470b3ed",
   "metadata": {},
   "outputs": [],
   "source": [
    "# 11. What does the sentence import areallyourpetsnamederic do?\n",
    "-> This will import the 'areallyourpetsnamederic.py' file."
   ]
  },
  {
   "cell_type": "code",
   "execution_count": null,
   "id": "44b6f33f",
   "metadata": {},
   "outputs": [],
   "source": [
    "# 12. If you had a bacon() feature in a spam module, what would you call it after importing spam?\n",
    "-> After importing spam, we can call it like \"spam.bacon()\"."
   ]
  },
  {
   "cell_type": "code",
   "execution_count": null,
   "id": "c5a6ae9d",
   "metadata": {},
   "outputs": [],
   "source": [
    "# 13. What can you do to save a programme from crashing if it encounters an error?\n",
    "-> Exception Handling are use in case of preventing the program to crash if it encounters an error."
   ]
  },
  {
   "cell_type": "code",
   "execution_count": null,
   "id": "71ffc5d4",
   "metadata": {},
   "outputs": [],
   "source": [
    "# 14. What is the purpose of the try clause? What is the purpose of the except clause?\n",
    "-> The Block of code which is going to generate sometype of error are kept in try clause and to catch that error except clause are used."
   ]
  }
 ],
 "metadata": {
  "kernelspec": {
   "display_name": "Python 3 (ipykernel)",
   "language": "python",
   "name": "python3"
  },
  "language_info": {
   "codemirror_mode": {
    "name": "ipython",
    "version": 3
   },
   "file_extension": ".py",
   "mimetype": "text/x-python",
   "name": "python",
   "nbconvert_exporter": "python",
   "pygments_lexer": "ipython3",
   "version": "3.9.7"
  }
 },
 "nbformat": 4,
 "nbformat_minor": 5
}
